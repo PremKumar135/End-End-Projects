{
 "cells": [
  {
   "cell_type": "code",
   "execution_count": 1,
   "id": "335a1561",
   "metadata": {},
   "outputs": [
    {
     "name": "stdout",
     "output_type": "stream",
     "text": [
      "API key not found\n"
     ]
    }
   ],
   "source": [
    "import os\n",
    "from dotenv import load_dotenv\n",
    "load_dotenv()\n",
    "\n",
    "openai_api_key = os.getenv('OPENAI_API_KEY')\n",
    "if openai_api_key is None:\n",
    "    print('API key found')\n",
    "else:\n",
    "    print('API key not found')"
   ]
  },
  {
   "cell_type": "code",
   "execution_count": 3,
   "id": "4dd88c83",
   "metadata": {},
   "outputs": [],
   "source": [
    "# from llama_index.embeddings.huggingface import HuggingFaceEmbedding\n",
    "from langchain_openai import OpenAIEmbeddings\n",
    "from chromadb import PersistentClient, EmbeddingFunction, Embeddings\n",
    "from typing import List\n",
    "import json"
   ]
  },
  {
   "cell_type": "code",
   "execution_count": 5,
   "id": "c2a44697",
   "metadata": {},
   "outputs": [],
   "source": [
    "MODEL_NAME = 'text-embedding-3-large'\n",
    "DB_PATH = './.chroma_db'\n",
    "FAQ_FILE_PATH = './FAQ.json'\n",
    "INVENTORY_FILE_PATH = './inventory.json'"
   ]
  },
  {
   "cell_type": "markdown",
   "id": "bc0315ae",
   "metadata": {},
   "source": [
    "# step1: load document"
   ]
  },
  {
   "cell_type": "code",
   "execution_count": 14,
   "id": "61a60c39",
   "metadata": {},
   "outputs": [
    {
     "data": {
      "text/plain": [
       "[{'question': 'What types of flowers do you offer?',\n",
       "  'answer': 'We offer a wide variety of flowers including roses, lilies, tulips, sunflowers, orchids, and seasonal bouquets. Our selection changes regularly to ensure freshness and variety.'},\n",
       " {'question': 'How do I place an order?',\n",
       "  'answer': \"You can place an order easily through our website. Simply browse our selection, choose your desired flowers, add them to your cart, and proceed to checkout. You'll need to provide delivery details and payment information to complete your order.\"},\n",
       " {'question': 'What are your delivery options?',\n",
       "  'answer': \"We offer same-day delivery for orders placed before noon, next-day delivery, and scheduled delivery for future dates. Delivery options may vary based on your location and the availability of the flowers you've selected.\"},\n",
       " {'question': 'Do you offer international shipping?',\n",
       "  'answer': \"Currently, we only offer delivery within the country. We're working on expanding our services internationally in the future.\"},\n",
       " {'question': 'How do I ensure my flowers stay fresh?',\n",
       "  'answer': 'To keep your flowers fresh, change the water every 2-3 days, trim the stems at an angle, remove any leaves below the waterline, and keep the flowers away from direct sunlight and heat sources.'},\n",
       " {'question': 'Can I customize my bouquet?',\n",
       "  'answer': 'Yes, we offer customization options. You can choose specific flowers, colors, and arrangements. For special requests, please contact our customer service team.'},\n",
       " {'question': 'What if my flowers arrive damaged?',\n",
       "  'answer': \"We have a 100% satisfaction guarantee. If your flowers arrive damaged or you're not satisfied with your order, please contact us within 24 hours of delivery, and we'll either replace your order or provide a full refund.\"},\n",
       " {'question': 'Do you offer subscription services?',\n",
       "  'answer': \"Yes, we offer weekly, bi-weekly, and monthly flower subscription services. You can choose the frequency, duration, and type of flowers you'd like to receive regularly.\"},\n",
       " {'question': 'What payment methods do you accept?',\n",
       "  'answer': 'We accept all major credit cards, PayPal, and Apple Pay for online orders. For large corporate orders, we also offer invoicing options.'},\n",
       " {'question': 'Can I include a personalized message with my flower delivery?',\n",
       "  'answer': \"Absolutely! During the checkout process, you'll have the option to add a personalized message card to your order at no extra cost.\"},\n",
       " {'question': 'Do you offer eco-friendly or sustainable options?',\n",
       "  'answer': 'Yes, we have a range of eco-friendly options including locally sourced flowers, biodegradable packaging, and potted plants that can be replanted.'},\n",
       " {'question': \"What if the recipient isn't home when the flowers are delivered?\",\n",
       "  'answer': \"If the recipient isn't home, our delivery person will try to leave the flowers in a safe place. If that's not possible, we'll leave a note and attempt redelivery the next day.\"},\n",
       " {'question': 'Do you offer corporate or event services?',\n",
       "  'answer': 'Yes, we provide flower arrangements for corporate events, weddings, and other special occasions. Please contact our events team for more information and custom quotes.'},\n",
       " {'question': \"How far in advance should I order for special occasions like Valentine's Day?\",\n",
       "  'answer': \"For major holidays like Valentine's Day, Mother's Day, or Christmas, we recommend placing your order at least 1-2 weeks in advance to ensure availability and timely delivery.\"},\n",
       " {'question': 'Can I track my order?',\n",
       "  'answer': \"Yes, once your order is dispatched, you'll receive a tracking number via email that you can use to monitor the status and estimated delivery time of your flowers.\"},\n",
       " {'question': 'Do you offer flower care tips?',\n",
       "  'answer': \"Yes, each bouquet comes with a care instruction card. You can also find detailed flower care guides on our website under the 'Flower Care' section.\"},\n",
       " {'question': 'What if the flowers I want are out of season?',\n",
       "  'answer': 'If certain flowers are out of season, we offer similar alternatives or can create custom arrangements using in-season blooms that match your desired style and color scheme.'},\n",
       " {'question': 'Do you offer gift options besides flowers?',\n",
       "  'answer': 'Yes, we offer complementary gifts such as chocolates, teddy bears, balloons, and gift baskets that can be added to your flower order or purchased separately.'},\n",
       " {'question': 'How do I know which flowers are appropriate for different occasions?',\n",
       "  'answer': 'Our website provides guidance on flower meanings and appropriate choices for various occasions. You can also chat with our customer service team for personalized recommendations.'},\n",
       " {'question': \"What's your return policy?\",\n",
       "  'answer': \"Due to the perishable nature of flowers, we don't accept returns. However, if you're unsatisfied with your order, please contact us within 24 hours of delivery, and we'll work to resolve the issue to your satisfaction.\"}]"
      ]
     },
     "execution_count": 14,
     "metadata": {},
     "output_type": "execute_result"
    }
   ],
   "source": [
    "with open('FAQ.json', 'r') as f:\n",
    "    faqs = json.load(f)\n",
    "\n",
    "faqs"
   ]
  },
  {
   "cell_type": "code",
   "execution_count": 28,
   "id": "018ef93e",
   "metadata": {},
   "outputs": [
    {
     "data": {
      "text/plain": [
       "40"
      ]
     },
     "execution_count": 28,
     "metadata": {},
     "output_type": "execute_result"
    }
   ],
   "source": [
    "len([faq['question'] for faq in faqs] + [faq['answer'] for faq in faqs])"
   ]
  },
  {
   "cell_type": "markdown",
   "id": "abe1f5aa",
   "metadata": {},
   "source": [
    "## step 2: load the document into collection"
   ]
  },
  {
   "cell_type": "code",
   "execution_count": 7,
   "id": "5c461119",
   "metadata": {},
   "outputs": [],
   "source": [
    "db = PersistentClient(path = DB_PATH)"
   ]
  },
  {
   "cell_type": "code",
   "execution_count": 21,
   "id": "c315512a",
   "metadata": {},
   "outputs": [],
   "source": [
    "# create collection\n",
    "from typing import List\n",
    "from chromadb import Documents, EmbeddingFunction, Embeddings\n",
    "\n",
    "class MyEmbeddingClass(EmbeddingFunction):\n",
    "    def __init__(self, model_name):\n",
    "        self.embedding_model = OpenAIEmbeddings(model = model_name)\n",
    "    \n",
    "    def __call__(self, input_texts:List[str])->Embeddings:\n",
    "        text_embeddings = []\n",
    "        for text in input_texts:\n",
    "            text_embed = self.embedding_model.embed_query(text)\n",
    "            text_embeddings.append(text_embed)\n",
    "        return text_embeddings \n",
    "\n",
    "my_embedding_function = MyEmbeddingClass(MODEL_NAME)\n",
    "faq_collection = db.get_or_create_collection(name='FAQ',\n",
    "                                             embedding_function = my_embedding_function\n",
    "                                             )"
   ]
  },
  {
   "cell_type": "code",
   "execution_count": 22,
   "id": "0e82afe2",
   "metadata": {},
   "outputs": [],
   "source": [
    "# loading the document in \n",
    "if faq_collection.count()==0:\n",
    "    faq_collection.add(documents = [faq['question'] for faq in faqs] + [faq['answer'] for faq in faqs],\n",
    "                       ids = [str(i) for i in range(0, (2*len(faqs)))],\n",
    "                       metadatas = faqs+faqs\n",
    "                       )"
   ]
  },
  {
   "cell_type": "code",
   "execution_count": 26,
   "id": "4eea8e5b",
   "metadata": {},
   "outputs": [
    {
     "data": {
      "text/plain": [
       "{'ids': [['0', '18', '20', '15', '4']],\n",
       " 'embeddings': None,\n",
       " 'documents': [['What types of flowers do you offer?',\n",
       "   'How do I know which flowers are appropriate for different occasions?',\n",
       "   'We offer a wide variety of flowers including roses, lilies, tulips, sunflowers, orchids, and seasonal bouquets. Our selection changes regularly to ensure freshness and variety.',\n",
       "   'Do you offer flower care tips?',\n",
       "   'How do I ensure my flowers stay fresh?']],\n",
       " 'uris': None,\n",
       " 'data': None,\n",
       " 'metadatas': [[{'answer': 'We offer a wide variety of flowers including roses, lilies, tulips, sunflowers, orchids, and seasonal bouquets. Our selection changes regularly to ensure freshness and variety.',\n",
       "    'question': 'What types of flowers do you offer?'},\n",
       "   {'answer': 'Our website provides guidance on flower meanings and appropriate choices for various occasions. You can also chat with our customer service team for personalized recommendations.',\n",
       "    'question': 'How do I know which flowers are appropriate for different occasions?'},\n",
       "   {'answer': 'We offer a wide variety of flowers including roses, lilies, tulips, sunflowers, orchids, and seasonal bouquets. Our selection changes regularly to ensure freshness and variety.',\n",
       "    'question': 'What types of flowers do you offer?'},\n",
       "   {'answer': \"Yes, each bouquet comes with a care instruction card. You can also find detailed flower care guides on our website under the 'Flower Care' section.\",\n",
       "    'question': 'Do you offer flower care tips?'},\n",
       "   {'answer': 'To keep your flowers fresh, change the water every 2-3 days, trim the stems at an angle, remove any leaves below the waterline, and keep the flowers away from direct sunlight and heat sources.',\n",
       "    'question': 'How do I ensure my flowers stay fresh?'}]],\n",
       " 'distances': [[0.7456336696383082,\n",
       "   0.9778071119644669,\n",
       "   1.0237360612173088,\n",
       "   1.1434187413019243,\n",
       "   1.196842549734775]],\n",
       " 'included': [<IncludeEnum.distances: 'distances'>,\n",
       "  <IncludeEnum.documents: 'documents'>,\n",
       "  <IncludeEnum.metadatas: 'metadatas'>]}"
      ]
     },
     "execution_count": 26,
     "metadata": {},
     "output_type": "execute_result"
    }
   ],
   "source": [
    "faq_collection.query(query_texts=['what are the different types of flowers i can have?'], n_results=5)"
   ]
  },
  {
   "cell_type": "code",
   "execution_count": 31,
   "id": "36868db8",
   "metadata": {},
   "outputs": [],
   "source": [
    "from chromadb import PersistentClient, EmbeddingFunction, Embeddings\n",
    "from langchain_openai import OpenAIEmbeddings\n",
    "from typing import List\n",
    "import json\n",
    "import os\n",
    "from dotenv import load_dotenv\n",
    "\n",
    "#loading openai api_key\n",
    "load_dotenv()\n",
    "api_key = os.getenv('OPENAI_API_KEY')\n",
    "\n",
    "# constants\n",
    "MODEL_NAME = 'text-embedding-3-large'\n",
    "DB_PATH = './.chroma_db'\n",
    "FAQ_FILE_PATH = './data/FAQ.json'\n",
    "INVENTORY_FILE_PATH = './data/inventory.json'\n",
    "\n",
    "## Load data \n",
    "class LoadData:\n",
    "    def __init__(self):\n",
    "        pass\n",
    "\n",
    "    def load_faq_data(self, faq_path):\n",
    "        with open(faq_path, 'r') as f:\n",
    "            faqs_json = json.load(f)\n",
    "        faq_docs = [faq['question'] for faq in faqs_json] + [faq['answer'] for faq in faqs_json]\n",
    "        return faqs_json, faq_docs\n",
    "    \n",
    "    def load_inventory(self, inventory_path):\n",
    "        with open(inventory_path, 'r') as f:\n",
    "            inventory_json = json.load(f)\n",
    "        inventory_docs = [data['description'] for data in inventory_json]\n",
    "        return inventory_json, inventory_docs\n",
    "\n",
    "\n",
    "\n",
    "## Embedding Class to embedding the text\n",
    "class MyEmbeddingClass(EmbeddingFunction):\n",
    "    def __init__(self, model_name):\n",
    "        self.embedding_model = OpenAIEmbeddings(model=model_name)\n",
    "    \n",
    "    def __call__(self, input_texts:List[str])->Embeddings:\n",
    "        embedding_list = []\n",
    "        for text in input_texts:\n",
    "            text_embed = self.embedding_model.embed_query(text)\n",
    "            embedding_list.append(text_embed)\n",
    "        return embedding_list\n",
    "\n",
    "\n",
    "        \n",
    "## FlowerShop Vector Store\n",
    "class FlowerShopVectorStore:\n",
    "    def __init__(self):\n",
    "        db = PersistentClient(path=DB_PATH)\n",
    "        custom_embedding_function = MyEmbeddingClass(MODEL_NAME)\n",
    "\n",
    "        # create collection \n",
    "        self.faq_collection = db.get_or_create_collection(name='FAQ', embedding_function = custom_embedding_function)\n",
    "        self.inventory_collection = db.get_or_create_collection(name='inventory', embedding_function = custom_embedding_function)\n",
    "\n",
    "\n",
    "    # load data in collection\n",
    "    def load_data_in_collection(self, faq_path, inventory_path):\n",
    "        load_data = LoadData()\n",
    "\n",
    "        if self.faq_collection.count()==0:\n",
    "            faq_json, faq_docs = load_data.load_faq_data(faq_path)\n",
    "            self.faq_collection.add(documents = faq_docs,\n",
    "                                    ids = [str(i) for i in range(0, len(faq_docs))],\n",
    "                                    metadatas = faq_json + faq_json\n",
    "                                    )\n",
    "            \n",
    "            print('Done indexing the FAQ data...')\n",
    "        \n",
    "        if self.inventory_collection.count()==0:\n",
    "            inventory_json, inventory_docs = load_data.load_inventory(inventory_path)\n",
    "            self.inventory_collection.add(documents = inventory_docs,\n",
    "                                        ids = [str(i) for i in range(len(inventory_docs))],\n",
    "                                        metadatas = inventory_json\n",
    "                                        )\n",
    "            print('Done indexing the inventory data...')\n",
    "            \n",
    "    def query_faqs(self, query:str):\n",
    "        return self.faq_collection.query(query_texts=[query], n_results=5)\n",
    "    \n",
    "    def query_inventories(self, query:str):\n",
    "        return self.inventory_collection.query(query_texts=[query], n_results=5)\n",
    "    \n",
    "\n",
    "if __name__ == '__main__':\n",
    "    vs = FlowerShopVectorStore()\n",
    "    # vs.load_data_in_collection(FAQ_FILE_PATH, INVENTORY_FILE_PATH)\n",
    "    answer = vs.query_faqs('what are the different types of flowers do you have?')"
   ]
  },
  {
   "cell_type": "code",
   "execution_count": 32,
   "id": "c3951463",
   "metadata": {},
   "outputs": [
    {
     "data": {
      "text/plain": [
       "{'ids': [['0', '20', '18', '15', '17']],\n",
       " 'embeddings': None,\n",
       " 'documents': [['What types of flowers do you offer?',\n",
       "   'We offer a wide variety of flowers including roses, lilies, tulips, sunflowers, orchids, and seasonal bouquets. Our selection changes regularly to ensure freshness and variety.',\n",
       "   'How do I know which flowers are appropriate for different occasions?',\n",
       "   'Do you offer flower care tips?',\n",
       "   'Do you offer gift options besides flowers?']],\n",
       " 'uris': None,\n",
       " 'data': None,\n",
       " 'metadatas': [[{'answer': 'We offer a wide variety of flowers including roses, lilies, tulips, sunflowers, orchids, and seasonal bouquets. Our selection changes regularly to ensure freshness and variety.',\n",
       "    'question': 'What types of flowers do you offer?'},\n",
       "   {'answer': 'We offer a wide variety of flowers including roses, lilies, tulips, sunflowers, orchids, and seasonal bouquets. Our selection changes regularly to ensure freshness and variety.',\n",
       "    'question': 'What types of flowers do you offer?'},\n",
       "   {'answer': 'Our website provides guidance on flower meanings and appropriate choices for various occasions. You can also chat with our customer service team for personalized recommendations.',\n",
       "    'question': 'How do I know which flowers are appropriate for different occasions?'},\n",
       "   {'answer': \"Yes, each bouquet comes with a care instruction card. You can also find detailed flower care guides on our website under the 'Flower Care' section.\",\n",
       "    'question': 'Do you offer flower care tips?'},\n",
       "   {'answer': 'Yes, we offer complementary gifts such as chocolates, teddy bears, balloons, and gift baskets that can be added to your flower order or purchased separately.',\n",
       "    'question': 'Do you offer gift options besides flowers?'}]],\n",
       " 'distances': [[0.4131054004873626,\n",
       "   0.7920955051512623,\n",
       "   0.9375252606032191,\n",
       "   0.9864588949347634,\n",
       "   1.0146827502539923]],\n",
       " 'included': [<IncludeEnum.distances: 'distances'>,\n",
       "  <IncludeEnum.documents: 'documents'>,\n",
       "  <IncludeEnum.metadatas: 'metadatas'>]}"
      ]
     },
     "execution_count": 32,
     "metadata": {},
     "output_type": "execute_result"
    }
   ],
   "source": [
    "answer"
   ]
  },
  {
   "cell_type": "code",
   "execution_count": 33,
   "id": "9e4624c1",
   "metadata": {},
   "outputs": [
    {
     "data": {
      "text/plain": [
       "dict"
      ]
     },
     "execution_count": 33,
     "metadata": {},
     "output_type": "execute_result"
    }
   ],
   "source": [
    "type(answer)"
   ]
  },
  {
   "cell_type": "code",
   "execution_count": 46,
   "id": "fd61d4c2",
   "metadata": {},
   "outputs": [
    {
     "data": {
      "image/png": "[encoded data removed]",
      "text/plain": [
       "<IPython.core.display.Image object>"
      ]
     },
     "metadata": {},
     "output_type": "display_data"
    }
   ],
   "source": [
    "from langgraph.graph import StateGraph, START, END\n",
    "from langgraph.graph.message import MessagesState\n",
    "from langchain_core.prompts import ChatPromptTemplate\n",
    "from langchain_openai import ChatOpenAI\n",
    "from langgraph.prebuilt import ToolNode\n",
    "# from tools import query_knowledge_base_tool, search_for_product_recommendation_tool\n",
    "from dotenv import load_dotenv\n",
    "import os\n",
    "\n",
    "from langchain_core.tools import tool\n",
    "from typing import List, Dict\n",
    "from vector_store import FlowerShopVectorStore\n",
    "\n",
    "vector_store = FlowerShopVectorStore()\n",
    "\n",
    "@tool\n",
    "def query_knowledge_base_tool(query:str):\n",
    "    \"\"\"\n",
    "    Looks up the information in knowledge base to help with answering customer questions and getting information on business processes.\n",
    "    \n",
    "    Args:\n",
    "        query(str) : Question to ask the knowledge base\n",
    "    \n",
    "    Return:\n",
    "        Dict[str, str] : Potentially relevant question and answering pairs for the knowledge base\n",
    "    \"\"\"\n",
    "    return vector_store.query_faqs(query=query)\n",
    "\n",
    "\n",
    "@tool\n",
    "def search_for_product_recommendations_tool(description:str):\n",
    "    \"\"\"\n",
    "    Looks up information in a knowledge base to help with product recommendation for customers. For example:\n",
    "    <example>\n",
    "        1. Boquets are suitable for birthdays, maybe with red flowers\n",
    "        2. A large boquet for a wedding\n",
    "        3. A cheap boquet with wildflowers\n",
    "    </example>\n",
    "\n",
    "    Args:\n",
    "        description (str) : Description of product features\n",
    "\n",
    "    Return:\n",
    "        Dict[str, str] : Potentially relevant features\n",
    "    \"\"\"\n",
    "    return vector_store.query_inventories(query=description)\n",
    "\n",
    "\n",
    "# loading api_key\n",
    "load_dotenv()\n",
    "api_key = os.getenv('OPENAI_API_KEY')\n",
    "\n",
    "# creating prompt template\n",
    "prompt = \"\"\"\n",
    "        You are a customer service chatbot for a flower shop company. You can help the customer achieve the goals listed below.\n",
    "        <Goals>\n",
    "            1. Answer the questions the user might have relating to services offered\n",
    "            2. Recommend products to the user based on their preferences.\n",
    "        </Goals>\n",
    "\n",
    "        <Tone>\n",
    "            Helpful and frienly. Use some gen-z emojis to keep things fun and lighthearted. You MUST always include a funny related pun in every response.\n",
    "        </Tone>\n",
    "    \"\"\"\n",
    "\n",
    "prompt_template = ChatPromptTemplate.from_messages(\n",
    "    [\n",
    "        ('system', prompt),\n",
    "        ('placeholder', \"{messages}\")\n",
    "    ]\n",
    ")\n",
    "\n",
    "# creating LLM and binding tools\n",
    "llm = ChatOpenAI(model = \"gpt-40-mini\", openai_api_key = api_key)\n",
    "tools = [query_knowledge_base_tool, search_for_product_recommendations_tool]\n",
    "llm_with_prompt = ChatPromptTemplate | llm.bind_tools(tools=tools)\n",
    "\n",
    "# creating state graph\n",
    "def call_agent(message_state: MessagesState):\n",
    "    response = llm_with_prompt.invoke(message_state)\n",
    "    return {'messages': response}\n",
    "\n",
    "\n",
    "def is_there_tool_calls(message_state:MessagesState):\n",
    "    last_message = message_state['messages'][-1]\n",
    "    if last_message.tool_calls:\n",
    "        return 'use tools'\n",
    "    else:\n",
    "        return 'END'\n",
    "\n",
    "### Note : 2 nodes (agent, tool_node) , 1 conditional edge between agent and tool\n",
    "graph_builder = StateGraph(MessagesState)\n",
    "\n",
    "graph_builder.add_node('agent', call_agent)\n",
    "graph_builder.add_node('tool_node', ToolNode(tools))\n",
    "\n",
    "graph_builder.add_conditional_edges('agent', \n",
    "                                    is_there_tool_calls, \n",
    "                                    {'use tools':'tool_node', 'END':END}\n",
    "                                    )\n",
    "graph_builder.add_edge('tool_node', 'agent')\n",
    "graph_builder.add_edge(START, 'agent')\n",
    "\n",
    "# creating app\n",
    "app = graph_builder.compile()\n",
    "\n",
    "\n",
    "\n",
    "\n",
    "from IPython.display import Image, display\n",
    "\n",
    "try:\n",
    "    display(Image(app.get_graph().draw_mermaid_png()))\n",
    "except Exception:\n",
    "    # This requires some extra dependencies and is optional\n",
    "    pass"
   ]
  },
  {
   "cell_type": "code",
   "execution_count": 2,
   "id": "30566e7f",
   "metadata": {},
   "outputs": [
    {
     "data": {
      "image/png": "[encoded data removed]",
      "text/plain": [
       "<IPython.core.display.Image object>"
      ]
     },
     "metadata": {},
     "output_type": "display_data"
    }
   ],
   "source": [
    "from typing import Literal, TypedDict\n",
    "import random\n",
    "from IPython.display import Image, display\n",
    "from langgraph.graph import StateGraph, START, END\n",
    "from pydantic import BaseModel, field_validator, ValidationError\n",
    "from langchain_core.messages import HumanMessage, AIMessage, SystemMessage\n",
    "\n",
    "class State(TypedDict):\n",
    "    input : int \n",
    "\n",
    "def node1(state:State):\n",
    "    print('node1')\n",
    "    return state\n",
    "\n",
    "\n",
    "def node2(state:State):\n",
    "    print('node2')\n",
    "    state['input'] = state['input']*7\n",
    "    return state\n",
    "\n",
    "def should_continue(state:State):\n",
    "    if state['input']<1000:\n",
    "        return 'node1'\n",
    "    else:\n",
    "        return 'end'\n",
    "    \n",
    "\n",
    "builder = StateGraph(State)\n",
    "builder.add_node('node1', node1)\n",
    "builder.add_node('node2', node2)\n",
    "\n",
    "#adding edges\n",
    "builder.add_edge(START, 'node1')\n",
    "builder.add_edge('node1', 'node2')\n",
    "builder.add_conditional_edges('node2',should_continue, {'node1':'node1', 'end':END})\n",
    "graph = builder.compile()\n",
    "\n",
    "from IPython.display import Image, display\n",
    "\n",
    "display(Image(graph.get_graph().draw_mermaid_png()))"
   ]
  },
  {
   "cell_type": "code",
   "execution_count": 3,
   "id": "9147a930",
   "metadata": {},
   "outputs": [
    {
     "name": "stdout",
     "output_type": "stream",
     "text": [
      "node1\n",
      "node2\n",
      "node1\n",
      "node2\n",
      "node1\n",
      "node2\n",
      "node1\n",
      "node2\n"
     ]
    },
    {
     "data": {
      "text/plain": [
       "{'input': 4802}"
      ]
     },
     "execution_count": 3,
     "metadata": {},
     "output_type": "execute_result"
    }
   ],
   "source": [
    "graph.invoke({'input':2})"
   ]
  },
  {
   "cell_type": "code",
   "execution_count": 51,
   "id": "ace21ef6",
   "metadata": {},
   "outputs": [
    {
     "data": {
      "image/png": "[encoded data removed]",
      "text/plain": [
       "<IPython.core.display.Image object>"
      ]
     },
     "metadata": {},
     "output_type": "display_data"
    }
   ],
   "source": [
    "from typing import Literal, TypedDict\n",
    "import random\n",
    "from IPython.display import Image, display\n",
    "from langgraph.graph import StateGraph, START, END\n",
    "from pydantic import BaseModel, field_validator, ValidationError\n",
    "\n",
    "class PydanticState(BaseModel):\n",
    "    name : str\n",
    "    mood : str \n",
    "\n",
    "    @field_validator('mood')\n",
    "    @classmethod\n",
    "    def validate_mood(cls, value):\n",
    "        if value not in ['happy', 'sad']:\n",
    "            raise ValueError('Mood must be either sad or happy.')\n",
    "        return value\n",
    "\n",
    "\n",
    "\n",
    "def node1(state):\n",
    "    print('--NODE1--')\n",
    "    return {'name':state.name+' is ... '}\n",
    "\n",
    "def node2(state):\n",
    "    print('--NODE2--')\n",
    "    return {'mood':state.mood}\n",
    "\n",
    "def node3(state):\n",
    "    print('--NODE3--')\n",
    "    return {'mood':state.mood}\n",
    "\n",
    "\n",
    "def decide_mood(state)->Literal['node2', 'node3']:\n",
    "    if random.random()<0.5:\n",
    "        return 'node2'\n",
    "    else:\n",
    "        return 'node3'\n",
    "\n",
    "builder = StateGraph(PydanticState)\n",
    "builder.add_node('node1', node1)\n",
    "builder.add_node('node2', node2)\n",
    "builder.add_node('node3', node3)\n",
    "\n",
    "builder.add_edge(START, 'node1')\n",
    "builder.add_conditional_edges('node1', decide_mood)\n",
    "builder.add_edge('node2', END)\n",
    "builder.add_edge('node3', END)\n",
    "\n",
    "graph = builder.compile()\n",
    "display(Image(graph.get_graph().draw_mermaid_png()))"
   ]
  },
  {
   "cell_type": "code",
   "execution_count": 46,
   "id": "883038c5",
   "metadata": {},
   "outputs": [
    {
     "name": "stdout",
     "output_type": "stream",
     "text": [
      "--NODE1--\n",
      "--NODE3--\n"
     ]
    },
    {
     "data": {
      "text/plain": [
       "{'name': 'Prem is ... ', 'mood': 'sad'}"
      ]
     },
     "execution_count": 46,
     "metadata": {},
     "output_type": "execute_result"
    }
   ],
   "source": [
    "from langchain_core.messages import HumanMessage, AIMessage, SystemMessage\n",
    "graph.invoke(PydanticState(name='Prem', mood='happy'))"
   ]
  },
  {
   "cell_type": "code",
   "execution_count": 54,
   "id": "07be284c",
   "metadata": {},
   "outputs": [
    {
     "data": {
      "image/png": "[encoded data removed]",
      "text/plain": [
       "<IPython.core.display.Image object>"
      ]
     },
     "metadata": {},
     "output_type": "display_data"
    },
    {
     "name": "stdout",
     "output_type": "stream",
     "text": [
      "NODE1\n",
      "NODE3\n"
     ]
    },
    {
     "data": {
      "text/plain": [
       "{'name': 'Prem is ... ', 'mood': 'sad'}"
      ]
     },
     "execution_count": 54,
     "metadata": {},
     "output_type": "execute_result"
    }
   ],
   "source": [
    "from pydantic import BaseModel, field_validator, ValidationError\n",
    "\n",
    "class PydanticState(BaseModel):\n",
    "    name : str\n",
    "    mood : str\n",
    "\n",
    "    @field_validator('mood')\n",
    "    @classmethod\n",
    "    def validate_mood(cls, value):\n",
    "        if value not in ['happy', 'sad']:\n",
    "            raise ValueError('Mood must be either between happy or sad')\n",
    "        return value \n",
    "    \n",
    "try:\n",
    "    PydanticState(name='Prem', mood='sad')\n",
    "except ValidationError as ex:\n",
    "    print(ex)\n",
    "\n",
    "\n",
    "##################################################    \n",
    "def node1(state):\n",
    "    print('NODE1')\n",
    "    return {'name':state.name+' is ... '}\n",
    "\n",
    "def node2(state):\n",
    "    print('NODE2')\n",
    "    return {'mood':state.mood}\n",
    "\n",
    "def node3(state):\n",
    "    print('NODE3')\n",
    "    return {'mood':state.mood}\n",
    "\n",
    "def decide_mood(state):\n",
    "    if random.random()<0.5:\n",
    "        return 'node2'\n",
    "    return 'node3'\n",
    "\n",
    "builder = StateGraph(PydanticState)\n",
    "builder.add_node('node1', node1)\n",
    "builder.add_node('node2', node2)\n",
    "builder.add_node('node3', node3)\n",
    "\n",
    "builder.add_edge(START, 'node1')\n",
    "builder.add_conditional_edges('node1', decide_mood, {'node2':'node2', 'node3':'node3'})\n",
    "builder.add_edge('node2', END)\n",
    "builder.add_edge('node3', END)\n",
    "\n",
    "graph = builder.compile()\n",
    "display(Image(graph.get_graph().draw_mermaid_png()))\n",
    "graph.invoke(PydanticState(name='Prem', mood='sad'))"
   ]
  },
  {
   "cell_type": "code",
   "execution_count": 90,
   "id": "f8a14419",
   "metadata": {},
   "outputs": [
    {
     "ename": "TypeError",
     "evalue": "reduce_list() missing 1 required positional argument: 'right'",
     "output_type": "error",
     "traceback": [
      "\u001b[0;31m---------------------------------------------------------------------------\u001b[0m",
      "\u001b[0;31mTypeError\u001b[0m                                 Traceback (most recent call last)",
      "Cell \u001b[0;32mIn[90], line 8\u001b[0m\n\u001b[1;32m      5\u001b[0m         right \u001b[38;5;241m=\u001b[39m []\n\u001b[1;32m      6\u001b[0m     \u001b[38;5;28;01mreturn\u001b[39;00m left \u001b[38;5;241m+\u001b[39m right\n\u001b[0;32m----> 8\u001b[0m \u001b[43mreduce_list\u001b[49m\u001b[43m(\u001b[49m\u001b[43m[\u001b[49m\u001b[38;5;241;43m5\u001b[39;49m\u001b[43m,\u001b[49m\u001b[43m \u001b[49m\u001b[38;5;28;43;01mNone\u001b[39;49;00m\u001b[43m]\u001b[49m\u001b[43m,\u001b[49m\u001b[43m \u001b[49m\u001b[43m)\u001b[49m\n",
      "\u001b[0;31mTypeError\u001b[0m: reduce_list() missing 1 required positional argument: 'right'"
     ]
    }
   ],
   "source": [
    "def reduce_list(left:Optional[List[Union[int,None]]], right:Optional[List[Union[int, None]]])->List[Optional[int]]:\n",
    "    if left is None:\n",
    "        left = []\n",
    "    if right is None:\n",
    "        right = []\n",
    "    return left + right\n",
    "\n",
    "reduce_list([5, None], )"
   ]
  },
  {
   "cell_type": "code",
   "execution_count": 92,
   "id": "f37ade51",
   "metadata": {},
   "outputs": [
    {
     "data": {
      "image/png": "[encoded data removed]",
      "text/plain": [
       "<IPython.core.display.Image object>"
      ]
     },
     "metadata": {},
     "output_type": "display_data"
    }
   ],
   "source": [
    "from pydantic import BaseModel\n",
    "from langgraph.graph.state import StateGraph, START, END\n",
    "from operator import add\n",
    "from typing import Annotated, List, Union, Optional\n",
    "\n",
    "def reduce_list(left:Optional[List[Union[int,None]]], right:Optional[List[Union[int, None]]])->List[Optional[int]]:\n",
    "    if left is None:\n",
    "        left = []\n",
    "    if right is None:\n",
    "        right = []\n",
    "    return left + right\n",
    "\n",
    "class State(BaseModel):\n",
    "    foo : Annotated[List[Union[int, None]], reduce_list]\n",
    "\n",
    "def node_1(state):\n",
    "    print(\"---Node 1---\")\n",
    "    return {\"foo\": [2]}\n",
    "\n",
    "# Build graph\n",
    "builder = StateGraph(State)\n",
    "builder.add_node(\"node_1\", node_1)\n",
    "\n",
    "# Logic\n",
    "builder.add_edge(START, \"node_1\")\n",
    "builder.add_edge(\"node_1\", END)\n",
    "\n",
    "# Add\n",
    "graph = builder.compile()\n",
    "\n",
    "graph = builder.compile()\n",
    "display(Image(graph.get_graph().draw_mermaid_png()))"
   ]
  },
  {
   "cell_type": "code",
   "execution_count": 93,
   "id": "9e4fb2e9",
   "metadata": {},
   "outputs": [
    {
     "name": "stdout",
     "output_type": "stream",
     "text": [
      "---Node 1---\n",
      "{'foo': [None, 2]}\n"
     ]
    }
   ],
   "source": [
    "from langgraph.errors import InvalidUpdateError\n",
    "try:\n",
    "    print(graph.invoke({'foo':[None]}))\n",
    "except InvalidUpdateError as e:\n",
    "    print('InvalidUpdateError occured:', e)"
   ]
  },
  {
   "cell_type": "code",
   "execution_count": 95,
   "id": "01fd0a10",
   "metadata": {},
   "outputs": [
    {
     "data": {
      "image/png": "[encoded data removed]",
      "text/plain": [
       "<IPython.core.display.Image object>"
      ]
     },
     "metadata": {},
     "output_type": "display_data"
    },
    {
     "name": "stdout",
     "output_type": "stream",
     "text": [
      "---Node 1---\n",
      "{'foo': [4, 2]}\n"
     ]
    }
   ],
   "source": [
    "def reduce_list(left: list | None, right: list | None) -> list:\n",
    "    if not left:\n",
    "        left = []\n",
    "    if not right:\n",
    "        right = []\n",
    "    return left + right\n",
    "\n",
    "class DefaultState(TypedDict):\n",
    "    foo: Annotated[list[int], add]\n",
    "\n",
    "class CustomReducerState(TypedDict):\n",
    "    foo: Annotated[list[int], reduce_list]\n",
    "\n",
    "def node_1(state):\n",
    "    print(\"---Node 1---\")\n",
    "    return {\"foo\": [2]}\n",
    "\n",
    "# Build graph\n",
    "builder = StateGraph(CustomReducerState)\n",
    "builder.add_node(\"node_1\", node_1)\n",
    "\n",
    "# Logic\n",
    "builder.add_edge(START, \"node_1\")\n",
    "builder.add_edge(\"node_1\", END)\n",
    "\n",
    "# Add\n",
    "graph = builder.compile()\n",
    "\n",
    "# View\n",
    "display(Image(graph.get_graph().draw_mermaid_png()))\n",
    "\n",
    "try:\n",
    "    print(graph.invoke({\"foo\" : [4]}))\n",
    "except TypeError as e:\n",
    "    print(f\"TypeError occurred: {e}\")"
   ]
  },
  {
   "cell_type": "code",
   "execution_count": 106,
   "id": "53d90ddf",
   "metadata": {},
   "outputs": [
    {
     "name": "stdout",
     "output_type": "stream",
     "text": [
      "[HumanMessage(content='I need info on MSD', additional_kwargs={}, response_metadata={}, id='1'),\n",
      " AIMessage(content='Hi KP, how are you?', additional_kwargs={}, response_metadata={}, name='Model', id='2')]\n"
     ]
    }
   ],
   "source": [
    "from langgraph.graph.message import add_messages\n",
    "from langchain_core.messages import AIMessage, HumanMessage\n",
    "import pprint\n",
    "\n",
    "inital_messages = [\n",
    "    HumanMessage(content='Hi, this is KP', name='KP', id='1'),\n",
    "    AIMessage(content='Hi KP, how are you?', name='Model', id='2')\n",
    "]\n",
    "\n",
    "final_message = add_messages(inital_messages, HumanMessage(content='I need info on MSD', id='1'))\n",
    "pprint.pprint(final_message)"
   ]
  },
  {
   "cell_type": "code",
   "execution_count": 107,
   "id": "7f1a497c",
   "metadata": {},
   "outputs": [
    {
     "data": {
      "text/plain": [
       "[AIMessage(content='Hi.', additional_kwargs={}, response_metadata={}, name='Bot', id='1'),\n",
       " HumanMessage(content='Hi.', additional_kwargs={}, response_metadata={}, name='Lance', id='2'),\n",
       " HumanMessage(content='Yes, I know about whales. But what others should I learn about?', additional_kwargs={}, response_metadata={}, name='Lance', id='4')]"
      ]
     },
     "execution_count": 107,
     "metadata": {},
     "output_type": "execute_result"
    }
   ],
   "source": [
    "from langchain_core.messages import RemoveMessage\n",
    "\n",
    "messages = [AIMessage(\"Hi.\", name=\"Bot\", id=\"1\")]\n",
    "messages.append(HumanMessage(\"Hi.\", name=\"Lance\", id=\"2\"))\n",
    "messages.append(AIMessage(\"So you said you were researching ocean mammals?\", name=\"Bot\", id=\"3\"))\n",
    "messages.append(HumanMessage(\"Yes, I know about whales. But what others should I learn about?\", name=\"Lance\", id=\"4\"))\n",
    "\n",
    "delete_message = [RemoveMessage(id='3')]\n",
    "add_messages(messages, delete_message)"
   ]
  },
  {
   "cell_type": "code",
   "execution_count": 108,
   "id": "3a096ec0",
   "metadata": {},
   "outputs": [
    {
     "data": {
      "text/plain": [
       "[RemoveMessage(content='', additional_kwargs={}, response_metadata={}, id='3')]"
      ]
     },
     "execution_count": 108,
     "metadata": {},
     "output_type": "execute_result"
    }
   ],
   "source": [
    "delete_message"
   ]
  },
  {
   "cell_type": "markdown",
   "id": "611e2065",
   "metadata": {},
   "source": [
    "## Trim Messages"
   ]
  },
  {
   "cell_type": "code",
   "execution_count": 110,
   "id": "9b691c92",
   "metadata": {},
   "outputs": [
    {
     "name": "stdout",
     "output_type": "stream",
     "text": [
      "==================================\u001b[1m Ai Message \u001b[0m==================================\n",
      "Name: Bot\n",
      "\n",
      "So you said you were researching ocean mammals?\n",
      "================================\u001b[1m Human Message \u001b[0m=================================\n",
      "Name: Lance\n",
      "\n",
      "Yes, I know about whales. But what others should I learn about?\n"
     ]
    }
   ],
   "source": [
    "from pprint import pprint\n",
    "from langchain_core.messages import AIMessage, HumanMessage\n",
    "\n",
    "messages = [AIMessage(content=f\"So you said you were researching ocean mammals?\", name=\"Bot\"),\n",
    "            HumanMessage(content=f\"Yes, I know about whales. But what others should I learn about?\", name=\"Lance\")\n",
    "            ]\n",
    "\n",
    "for msg in messages:\n",
    "    msg.pretty_print()"
   ]
  },
  {
   "cell_type": "code",
   "execution_count": 112,
   "id": "9427f2a0",
   "metadata": {},
   "outputs": [
    {
     "name": "stdout",
     "output_type": "stream",
     "text": [
      "AIMessage(content='In addition to whales, there are several fascinating ocean mammals you might want to learn about:\\n\\n1. **Dolphins**: Highly intelligent and social creatures, dolphins are known for their playful behavior and complex communication.\\n\\n2. **Porpoises**: Similar to dolphins but generally smaller and with a more rounded snout, porpoises are also social animals but tend to be less acrobatic.\\n\\n3. **Seals**: These pinnipeds include species like harbor seals and elephant seals. They are known for their ability to navigate both land and water.\\n\\n4. **Sea Lions**: Similar to seals but with external ear flaps and a more social nature, sea lions are often seen in large groups.\\n\\n5. **Manatees**: Also known as sea cows, these gentle herbivores inhabit warm coastal waters and are known for their slow-moving, peaceful nature.\\n\\n6. **Dugongs**: Similar to manatees, dugongs are marine herbivores found in warm coastal waters, primarily in the Indian and western Pacific Oceans.\\n\\n7. **Narwhals**: Known for their long, spiral tusks, narwhals are Arctic whales that have a unique appearance and behavior.\\n\\n8. **Beluga Whales**: These white whales are known for their vocalizations and are often called \"canaries of the sea\" due to their wide range of sounds.\\n\\n9. **Orcas (Killer Whales)**: Highly social and intelligent, orcas are actually the largest members of the dolphin family and have complex social structures.\\n\\n10. **Sperm Whales**: Known for their large heads and deep diving abilities, sperm whales are fascinating predators that hunt squid and other deep-sea creatures.\\n\\nExploring these mammals can provide insight into their behaviors, habitats, and the conservation challenges they face in our oceans.', additional_kwargs={'refusal': None}, response_metadata={'token_usage': {'completion_tokens': 374, 'prompt_tokens': 39, 'total_tokens': 413, 'completion_tokens_details': {'accepted_prediction_tokens': 0, 'audio_tokens': 0, 'reasoning_tokens': 0, 'rejected_prediction_tokens': 0}, 'prompt_tokens_details': {'audio_tokens': 0, 'cached_tokens': 0}}, 'model_name': 'gpt-4o-mini-2024-07-18', 'system_fingerprint': 'fp_bba3c8e70b', 'finish_reason': 'stop', 'logprobs': None}, id='run-13f4725e-5d26-4683-b724-fce5c38e1b04-0', usage_metadata={'input_tokens': 39, 'output_tokens': 374, 'total_tokens': 413, 'input_token_details': {'audio': 0, 'cache_read': 0}, 'output_token_details': {'audio': 0, 'reasoning': 0}})\n"
     ]
    }
   ],
   "source": [
    "from langchain_openai import ChatOpenAI\n",
    "import pprint\n",
    "\n",
    "llm = ChatOpenAI(model='gpt-4o-mini')\n",
    "pprint.pprint(llm.invoke(messages))"
   ]
  },
  {
   "cell_type": "code",
   "execution_count": 113,
   "id": "7a8ea6fb",
   "metadata": {},
   "outputs": [
    {
     "data": {
      "image/png": "[encoded data removed]",
      "text/plain": [
       "<IPython.core.display.Image object>"
      ]
     },
     "metadata": {},
     "output_type": "display_data"
    }
   ],
   "source": [
    "from langgraph.graph.message import add_messages\n",
    "from langgraph.graph.state import StateGraph, START, END\n",
    "from typing import Annotated, List\n",
    "from typing_extensions import TypedDict\n",
    "\n",
    "class State(TypedDict):\n",
    "    messages : Annotated[List, add_messages]\n",
    "\n",
    "\n",
    "def chat_model_node(state):\n",
    "    return {'messages':llm.invoke(state['messages'])}\n",
    "\n",
    "builder = StateGraph(State)\n",
    "builder.add_node('chat_model', chat_model_node)\n",
    "builder.add_edge(START, 'chat_model')\n",
    "builder.add_edge('chat_model', END)\n",
    "\n",
    "graph = builder.compile()\n",
    "\n",
    "from IPython.display import Image, display\n",
    "display(Image(graph.get_graph().draw_mermaid_png()))"
   ]
  },
  {
   "cell_type": "code",
   "execution_count": 114,
   "id": "14cfe50c",
   "metadata": {},
   "outputs": [
    {
     "name": "stdout",
     "output_type": "stream",
     "text": [
      "==================================\u001b[1m Ai Message \u001b[0m==================================\n",
      "Name: Bot\n",
      "\n",
      "So you said you were researching ocean mammals?\n",
      "================================\u001b[1m Human Message \u001b[0m=================================\n",
      "Name: Lance\n",
      "\n",
      "Yes, I know about whales. But what others should I learn about?\n",
      "==================================\u001b[1m Ai Message \u001b[0m==================================\n",
      "\n",
      "In addition to whales, there are several other fascinating ocean mammals you might want to learn about:\n",
      "\n",
      "1. **Dolphins**: Known for their intelligence and playful behavior, dolphins are social animals that often live in pods.\n",
      "\n",
      "2. **Porpoises**: Similar to dolphins but generally smaller and with a different snout shape, porpoises are also social creatures.\n",
      "\n",
      "3. **Seals**: These marine mammals are commonly found on coasts and are known for their playful nature. They can be divided into true seals (phocids) and eared seals (otariids).\n",
      "\n",
      "4. **Sea Lions**: A type of eared seal, sea lions are known for their external ear flaps and are often found in large colonies.\n",
      "\n",
      "5. **Manatees**: Often called \"sea cows,\" these gentle herbivores are found in warm coastal waters and rivers.\n",
      "\n",
      "6. **Dugongs**: Similar to manatees, dugongs are also herbivorous and are primarily found in warm coastal waters of the Indian and western Pacific Oceans.\n",
      "\n",
      "7. **Narwhals**: Known for their long, spiral tusk, narwhals are Arctic whales that have unique adaptations for living in cold waters.\n",
      "\n",
      "8. **Beluga Whales**: These small, white whales are known for their vocalizations and social behavior. They inhabit Arctic and sub-Arctic waters.\n",
      "\n",
      "9. **Orcas (Killer Whales)**: Actually the largest members of the dolphin family, orcas are highly social and intelligent, known for their complex social structures and hunting techniques.\n",
      "\n",
      "10. **Sperm Whales**: The largest of the toothed whales, sperm whales are known for their deep diving abilities and distinctive block-shaped head.\n",
      "\n",
      "Each of these mammals has unique adaptations and behaviors that make them interesting subjects of study!\n"
     ]
    }
   ],
   "source": [
    "output = graph.invoke({'messages':messages})\n",
    "for m in output['messages']:\n",
    "    m.pretty_print()"
   ]
  },
  {
   "cell_type": "code",
   "execution_count": 118,
   "id": "1247db59",
   "metadata": {},
   "outputs": [
    {
     "data": {
      "image/png": "[encoded data removed]",
      "text/plain": [
       "<IPython.core.display.Image object>"
      ]
     },
     "metadata": {},
     "output_type": "display_data"
    }
   ],
   "source": [
    "from langchain_core.messages import RemoveMessage\n",
    "\n",
    "class State(TypedDict):\n",
    "    messages : Annotated[List, add_messages]\n",
    "\n",
    "def filter_message(state:State):\n",
    "    delete_message = [RemoveMessage(id=msg.id) for msg in state['messages'][:-2]]\n",
    "    return {'messages':delete_message}\n",
    "\n",
    "def chat_model_node(state:State):\n",
    "    return {'messages':llm.invoke(state['messages'])}\n",
    "\n",
    "builder = StateGraph(State)\n",
    "builder.add_node('filter', filter_message)\n",
    "builder.add_node('chat_model', chat_model_node)\n",
    "builder.add_edge(START, 'filter')\n",
    "builder.add_edge('filter', 'chat_model')\n",
    "builder.add_edge('chat_model', END)\n",
    "graph = builder.compile()\n",
    "\n",
    "display(Image(graph.get_graph().draw_mermaid_png()))"
   ]
  },
  {
   "cell_type": "code",
   "execution_count": 119,
   "id": "2ae4e6a6",
   "metadata": {},
   "outputs": [
    {
     "name": "stdout",
     "output_type": "stream",
     "text": [
      "==================================\u001b[1m Ai Message \u001b[0m==================================\n",
      "Name: Bot\n",
      "\n",
      "So you said you were researching ocean mammals?\n",
      "================================\u001b[1m Human Message \u001b[0m=================================\n",
      "Name: Lance\n",
      "\n",
      "Yes, I know about whales. But what others should I learn about?\n",
      "==================================\u001b[1m Ai Message \u001b[0m==================================\n",
      "\n",
      "In addition to whales, there are several other fascinating ocean mammals you might want to learn about:\n",
      "\n",
      "1. **Dolphins**: Known for their intelligence and social behavior, dolphins are highly communicative and often found in pods. The bottlenose dolphin is one of the most well-known species.\n",
      "\n",
      "2. **Porpoises**: Similar to dolphins but generally smaller and with a more rounded snout, porpoises are also social animals and can be found in coastal waters.\n",
      "\n",
      "3. **Seals**: There are various species of seals, including harbor seals and elephant seals. They are known for their playful behavior and can often be seen resting on beaches.\n",
      "\n",
      "4. **Sea Lions**: These are often confused with seals, but sea lions have external ear flaps and can \"walk\" on land using their flippers. They are very social animals and often form large colonies.\n",
      "\n",
      "5. **Manatees**: Also known as sea cows, manatees are slow-moving herbivores that inhabit warm coastal waters and rivers. They are gentle giants and are often threatened by habitat loss and boat strikes.\n",
      "\n",
      "6. **Dugongs**: Similar to manatees, dugongs are also herbivorous marine mammals but are primarily found in warmer waters of the Indian and western Pacific Oceans.\n",
      "\n",
      "7. **Narwhals**: Known for their long, spiral tusks, narwhals are sometimes called the \"unicorns of the sea.\" They inhabit Arctic waters and are known for their unique adaptations to cold environments.\n",
      "\n",
      "8. **Beluga Whales**: These small, white whales are known for their vocalizations and are often referred to as the \"canaries of the sea.\" They are social animals and can often be seen in groups.\n",
      "\n",
      "9. **Orcas (Killer Whales)**: Despite their name, orcas are actually the largest members of the dolphin family. They are highly intelligent and social animals, known for their complex hunting techniques.\n",
      "\n",
      "10. **Sea Otters**: While not typically categorized with the larger marine mammals, sea otters are incredibly important to coastal ecosystems. They use tools to crack open shellfish and are known for their playful behavior.\n",
      "\n",
      "These mammals each have unique adaptations, behaviors, and ecological roles in their environments. Studying them can give you a deeper understanding of marine ecosystems!\n"
     ]
    }
   ],
   "source": [
    "# Message list with a preamble\n",
    "messages = [AIMessage(\"Hi.\", name=\"Bot\", id=\"1\")]\n",
    "messages.append(HumanMessage(\"Hi.\", name=\"Lance\", id=\"2\"))\n",
    "messages.append(AIMessage(\"So you said you were researching ocean mammals?\", name=\"Bot\", id=\"3\"))\n",
    "messages.append(HumanMessage(\"Yes, I know about whales. But what others should I learn about?\", name=\"Lance\", id=\"4\"))\n",
    "\n",
    "output = graph.invoke({'messages':messages})\n",
    "for msg in output['messages']:\n",
    "    msg.pretty_print()"
   ]
  },
  {
   "cell_type": "code",
   "execution_count": 120,
   "id": "16df8eb0",
   "metadata": {},
   "outputs": [
    {
     "data": {
      "text/plain": [
       "[AIMessage(content='Hi.', additional_kwargs={}, response_metadata={}, name='Bot', id='1'),\n",
       " HumanMessage(content='Hi.', additional_kwargs={}, response_metadata={}, name='Lance', id='2'),\n",
       " AIMessage(content='So you said you were researching ocean mammals?', additional_kwargs={}, response_metadata={}, name='Bot', id='3'),\n",
       " HumanMessage(content='Yes, I know about whales. But what others should I learn about?', additional_kwargs={}, response_metadata={}, name='Lance', id='4')]"
      ]
     },
     "execution_count": 120,
     "metadata": {},
     "output_type": "execute_result"
    }
   ],
   "source": [
    "messages"
   ]
  },
  {
   "cell_type": "code",
   "execution_count": 121,
   "id": "94cf7722",
   "metadata": {},
   "outputs": [
    {
     "data": {
      "text/plain": [
       "{'messages': [AIMessage(content='So you said you were researching ocean mammals?', additional_kwargs={}, response_metadata={}, name='Bot', id='3'),\n",
       "  HumanMessage(content='Yes, I know about whales. But what others should I learn about?', additional_kwargs={}, response_metadata={}, name='Lance', id='4'),\n",
       "  AIMessage(content='In addition to whales, there are several other fascinating ocean mammals you might want to learn about:\\n\\n1. **Dolphins**: Known for their intelligence and social behavior, dolphins are highly communicative and often found in pods. The bottlenose dolphin is one of the most well-known species.\\n\\n2. **Porpoises**: Similar to dolphins but generally smaller and with a more rounded snout, porpoises are also social animals and can be found in coastal waters.\\n\\n3. **Seals**: There are various species of seals, including harbor seals and elephant seals. They are known for their playful behavior and can often be seen resting on beaches.\\n\\n4. **Sea Lions**: These are often confused with seals, but sea lions have external ear flaps and can \"walk\" on land using their flippers. They are very social animals and often form large colonies.\\n\\n5. **Manatees**: Also known as sea cows, manatees are slow-moving herbivores that inhabit warm coastal waters and rivers. They are gentle giants and are often threatened by habitat loss and boat strikes.\\n\\n6. **Dugongs**: Similar to manatees, dugongs are also herbivorous marine mammals but are primarily found in warmer waters of the Indian and western Pacific Oceans.\\n\\n7. **Narwhals**: Known for their long, spiral tusks, narwhals are sometimes called the \"unicorns of the sea.\" They inhabit Arctic waters and are known for their unique adaptations to cold environments.\\n\\n8. **Beluga Whales**: These small, white whales are known for their vocalizations and are often referred to as the \"canaries of the sea.\" They are social animals and can often be seen in groups.\\n\\n9. **Orcas (Killer Whales)**: Despite their name, orcas are actually the largest members of the dolphin family. They are highly intelligent and social animals, known for their complex hunting techniques.\\n\\n10. **Sea Otters**: While not typically categorized with the larger marine mammals, sea otters are incredibly important to coastal ecosystems. They use tools to crack open shellfish and are known for their playful behavior.\\n\\nThese mammals each have unique adaptations, behaviors, and ecological roles in their environments. Studying them can give you a deeper understanding of marine ecosystems!', additional_kwargs={'refusal': None}, response_metadata={'token_usage': {'completion_tokens': 472, 'prompt_tokens': 39, 'total_tokens': 511, 'completion_tokens_details': {'accepted_prediction_tokens': 0, 'audio_tokens': 0, 'reasoning_tokens': 0, 'rejected_prediction_tokens': 0}, 'prompt_tokens_details': {'audio_tokens': 0, 'cached_tokens': 0}}, 'model_name': 'gpt-4o-mini-2024-07-18', 'system_fingerprint': 'fp_bba3c8e70b', 'finish_reason': 'stop', 'logprobs': None}, id='run-b4ee2532-a7ba-4def-bd80-930b743c7b20-0', usage_metadata={'input_tokens': 39, 'output_tokens': 472, 'total_tokens': 511, 'input_token_details': {'audio': 0, 'cache_read': 0}, 'output_token_details': {'audio': 0, 'reasoning': 0}})]}"
      ]
     },
     "execution_count": 121,
     "metadata": {},
     "output_type": "execute_result"
    }
   ],
   "source": [
    "output"
   ]
  },
  {
   "cell_type": "code",
   "execution_count": 122,
   "id": "f08353c4",
   "metadata": {},
   "outputs": [
    {
     "data": {
      "text/plain": [
       "[AIMessage(content='Hi.', additional_kwargs={}, response_metadata={}, name='Bot', id='1'),\n",
       " HumanMessage(content='Hi.', additional_kwargs={}, response_metadata={}, name='Lance', id='2'),\n",
       " AIMessage(content='So you said you were researching ocean mammals?', additional_kwargs={}, response_metadata={}, name='Bot', id='3'),\n",
       " HumanMessage(content='Yes, I know about whales. But what others should I learn about?', additional_kwargs={}, response_metadata={}, name='Lance', id='4'),\n",
       " AIMessage(content='In addition to whales, there are several other fascinating ocean mammals you might want to learn about:\\n\\n1. **Dolphins**: Known for their intelligence and social behavior, dolphins are highly communicative and often found in pods. The bottlenose dolphin is one of the most well-known species.\\n\\n2. **Porpoises**: Similar to dolphins but generally smaller and with a more rounded snout, porpoises are also social animals and can be found in coastal waters.\\n\\n3. **Seals**: There are various species of seals, including harbor seals and elephant seals. They are known for their playful behavior and can often be seen resting on beaches.\\n\\n4. **Sea Lions**: These are often confused with seals, but sea lions have external ear flaps and can \"walk\" on land using their flippers. They are very social animals and often form large colonies.\\n\\n5. **Manatees**: Also known as sea cows, manatees are slow-moving herbivores that inhabit warm coastal waters and rivers. They are gentle giants and are often threatened by habitat loss and boat strikes.\\n\\n6. **Dugongs**: Similar to manatees, dugongs are also herbivorous marine mammals but are primarily found in warmer waters of the Indian and western Pacific Oceans.\\n\\n7. **Narwhals**: Known for their long, spiral tusks, narwhals are sometimes called the \"unicorns of the sea.\" They inhabit Arctic waters and are known for their unique adaptations to cold environments.\\n\\n8. **Beluga Whales**: These small, white whales are known for their vocalizations and are often referred to as the \"canaries of the sea.\" They are social animals and can often be seen in groups.\\n\\n9. **Orcas (Killer Whales)**: Despite their name, orcas are actually the largest members of the dolphin family. They are highly intelligent and social animals, known for their complex hunting techniques.\\n\\n10. **Sea Otters**: While not typically categorized with the larger marine mammals, sea otters are incredibly important to coastal ecosystems. They use tools to crack open shellfish and are known for their playful behavior.\\n\\nThese mammals each have unique adaptations, behaviors, and ecological roles in their environments. Studying them can give you a deeper understanding of marine ecosystems!', additional_kwargs={'refusal': None}, response_metadata={'token_usage': {'completion_tokens': 472, 'prompt_tokens': 39, 'total_tokens': 511, 'completion_tokens_details': {'accepted_prediction_tokens': 0, 'audio_tokens': 0, 'reasoning_tokens': 0, 'rejected_prediction_tokens': 0}, 'prompt_tokens_details': {'audio_tokens': 0, 'cached_tokens': 0}}, 'model_name': 'gpt-4o-mini-2024-07-18', 'system_fingerprint': 'fp_bba3c8e70b', 'finish_reason': 'stop', 'logprobs': None}, id='run-b4ee2532-a7ba-4def-bd80-930b743c7b20-0', usage_metadata={'input_tokens': 39, 'output_tokens': 472, 'total_tokens': 511, 'input_token_details': {'audio': 0, 'cache_read': 0}, 'output_token_details': {'audio': 0, 'reasoning': 0}})]"
      ]
     },
     "execution_count": 122,
     "metadata": {},
     "output_type": "execute_result"
    }
   ],
   "source": [
    "messages.append(output['messages'][-1])\n",
    "messages"
   ]
  },
  {
   "cell_type": "code",
   "execution_count": 123,
   "id": "0cf9603a",
   "metadata": {},
   "outputs": [
    {
     "name": "stdout",
     "output_type": "stream",
     "text": [
      "==================================\u001b[1m Ai Message \u001b[0m==================================\n",
      "Name: Bot\n",
      "\n",
      "Hi.\n",
      "================================\u001b[1m Human Message \u001b[0m=================================\n",
      "Name: Lance\n",
      "\n",
      "Hi.\n",
      "==================================\u001b[1m Ai Message \u001b[0m==================================\n",
      "Name: Bot\n",
      "\n",
      "So you said you were researching ocean mammals?\n",
      "================================\u001b[1m Human Message \u001b[0m=================================\n",
      "Name: Lance\n",
      "\n",
      "Yes, I know about whales. But what others should I learn about?\n",
      "==================================\u001b[1m Ai Message \u001b[0m==================================\n",
      "\n",
      "In addition to whales, there are several other fascinating ocean mammals you might want to learn about:\n",
      "\n",
      "1. **Dolphins**: Known for their intelligence and social behavior, dolphins are highly communicative and often found in pods. The bottlenose dolphin is one of the most well-known species.\n",
      "\n",
      "2. **Porpoises**: Similar to dolphins but generally smaller and with a more rounded snout, porpoises are also social animals and can be found in coastal waters.\n",
      "\n",
      "3. **Seals**: There are various species of seals, including harbor seals and elephant seals. They are known for their playful behavior and can often be seen resting on beaches.\n",
      "\n",
      "4. **Sea Lions**: These are often confused with seals, but sea lions have external ear flaps and can \"walk\" on land using their flippers. They are very social animals and often form large colonies.\n",
      "\n",
      "5. **Manatees**: Also known as sea cows, manatees are slow-moving herbivores that inhabit warm coastal waters and rivers. They are gentle giants and are often threatened by habitat loss and boat strikes.\n",
      "\n",
      "6. **Dugongs**: Similar to manatees, dugongs are also herbivorous marine mammals but are primarily found in warmer waters of the Indian and western Pacific Oceans.\n",
      "\n",
      "7. **Narwhals**: Known for their long, spiral tusks, narwhals are sometimes called the \"unicorns of the sea.\" They inhabit Arctic waters and are known for their unique adaptations to cold environments.\n",
      "\n",
      "8. **Beluga Whales**: These small, white whales are known for their vocalizations and are often referred to as the \"canaries of the sea.\" They are social animals and can often be seen in groups.\n",
      "\n",
      "9. **Orcas (Killer Whales)**: Despite their name, orcas are actually the largest members of the dolphin family. They are highly intelligent and social animals, known for their complex hunting techniques.\n",
      "\n",
      "10. **Sea Otters**: While not typically categorized with the larger marine mammals, sea otters are incredibly important to coastal ecosystems. They use tools to crack open shellfish and are known for their playful behavior.\n",
      "\n",
      "These mammals each have unique adaptations, behaviors, and ecological roles in their environments. Studying them can give you a deeper understanding of marine ecosystems!\n"
     ]
    }
   ],
   "source": [
    "for m in messages:\n",
    "    m.pretty_print()"
   ]
  },
  {
   "cell_type": "code",
   "execution_count": 124,
   "id": "d7a152b2",
   "metadata": {},
   "outputs": [
    {
     "data": {
      "image/png": "[encoded data removed]",
      "text/plain": [
       "<IPython.core.display.Image object>"
      ]
     },
     "metadata": {},
     "output_type": "display_data"
    }
   ],
   "source": [
    "from langchain_core.messages import AIMessage, HumanMessage, trim_messages\n",
    "\n",
    "\n",
    "class State(TypedDict):\n",
    "    messages : Annotated[List, add_messages]\n",
    "\n",
    "def chat_model_node(state:State):\n",
    "    messages = trim_messages(state['messages'], max_tokens=100,\n",
    "                             strategy='last', token_counter=ChatOpenAI(model='gpt-4o-mini'),\n",
    "                             allow_partial=True)\n",
    "    \n",
    "    return {'messages':llm.invoke(messages)}\n",
    "\n",
    "builder = StateGraph(State)\n",
    "builder.add_node('chat_model', chat_model_node)\n",
    "builder.add_edge(START, 'chat_model')\n",
    "builder.add_edge('chat_model', END)\n",
    "graph = builder.compile()\n",
    "\n",
    "display(Image(graph.get_graph().draw_mermaid_png()))"
   ]
  },
  {
   "cell_type": "code",
   "execution_count": 125,
   "id": "f465baec",
   "metadata": {},
   "outputs": [
    {
     "name": "stdout",
     "output_type": "stream",
     "text": [
      "{'messages': [AIMessage(content='Hi.', additional_kwargs={}, response_metadata={}, name='Bot', id='1'), HumanMessage(content='Hi.', additional_kwargs={}, response_metadata={}, name='Lance', id='2'), AIMessage(content='So you said you were researching ocean mammals?', additional_kwargs={}, response_metadata={}, name='Bot', id='3'), HumanMessage(content='Yes, I know about whales. But what others should I learn about?', additional_kwargs={}, response_metadata={}, name='Lance', id='4'), AIMessage(content='In addition to whales, there are several other fascinating ocean mammals you might want to learn about:\\n\\n1. **Dolphins**: Known for their intelligence and social behavior, dolphins are highly communicative and often found in pods. The bottlenose dolphin is one of the most well-known species.\\n\\n2. **Porpoises**: Similar to dolphins but generally smaller and with a more rounded snout, porpoises are also social animals and can be found in coastal waters.\\n\\n3. **Seals**: There are various species of seals, including harbor seals and elephant seals. They are known for their playful behavior and can often be seen resting on beaches.\\n\\n4. **Sea Lions**: These are often confused with seals, but sea lions have external ear flaps and can \"walk\" on land using their flippers. They are very social animals and often form large colonies.\\n\\n5. **Manatees**: Also known as sea cows, manatees are slow-moving herbivores that inhabit warm coastal waters and rivers. They are gentle giants and are often threatened by habitat loss and boat strikes.\\n\\n6. **Dugongs**: Similar to manatees, dugongs are also herbivorous marine mammals but are primarily found in warmer waters of the Indian and western Pacific Oceans.\\n\\n7. **Narwhals**: Known for their long, spiral tusks, narwhals are sometimes called the \"unicorns of the sea.\" They inhabit Arctic waters and are known for their unique adaptations to cold environments.\\n\\n8. **Beluga Whales**: These small, white whales are known for their vocalizations and are often referred to as the \"canaries of the sea.\" They are social animals and can often be seen in groups.\\n\\n9. **Orcas (Killer Whales)**: Despite their name, orcas are actually the largest members of the dolphin family. They are highly intelligent and social animals, known for their complex hunting techniques.\\n\\n10. **Sea Otters**: While not typically categorized with the larger marine mammals, sea otters are incredibly important to coastal ecosystems. They use tools to crack open shellfish and are known for their playful behavior.\\n\\nThese mammals each have unique adaptations, behaviors, and ecological roles in their environments. Studying them can give you a deeper understanding of marine ecosystems!', additional_kwargs={'refusal': None}, response_metadata={'token_usage': {'completion_tokens': 472, 'prompt_tokens': 39, 'total_tokens': 511, 'completion_tokens_details': {'accepted_prediction_tokens': 0, 'audio_tokens': 0, 'reasoning_tokens': 0, 'rejected_prediction_tokens': 0}, 'prompt_tokens_details': {'audio_tokens': 0, 'cached_tokens': 0}}, 'model_name': 'gpt-4o-mini-2024-07-18', 'system_fingerprint': 'fp_bba3c8e70b', 'finish_reason': 'stop', 'logprobs': None}, id='run-b4ee2532-a7ba-4def-bd80-930b743c7b20-0', usage_metadata={'input_tokens': 39, 'output_tokens': 472, 'total_tokens': 511, 'input_token_details': {'audio': 0, 'cache_read': 0}, 'output_token_details': {'audio': 0, 'reasoning': 0}}), HumanMessage(content='Tell me where Orcas Live!', additional_kwargs={}, response_metadata={}, name='Lance', id='96a52428-5490-4b2c-bcc6-377ce1e596a7'), AIMessage(content='Orcas, also known as killer whales, are found in oceans all over the world. They inhabit a variety of marine environments, including:\\n\\n1. **Coastal Regions**: Orcas are often seen in coastal areas, including bays and estuaries, where they hunt for prey such as seals and fish.\\n\\n2. **Open Oceans**: They can also be found in deep ocean waters, far from land, where they travel in search of food.\\n\\n3. **Polar Regions**: Orcas are present in colder waters, including the Arctic and Antarctic regions, where they hunt for seals and other marine mammals.\\n\\n4. **Tropical Waters**: Some populations of orcas can be found in warmer, tropical waters as well.\\n\\nOverall, orcas are highly adaptable and can thrive in a wide range of marine environments, from icy polar waters to temperate coastal regions.', additional_kwargs={'refusal': None}, response_metadata={'token_usage': {'completion_tokens': 176, 'prompt_tokens': 94, 'total_tokens': 270, 'completion_tokens_details': {'accepted_prediction_tokens': 0, 'audio_tokens': 0, 'reasoning_tokens': 0, 'rejected_prediction_tokens': 0}, 'prompt_tokens_details': {'audio_tokens': 0, 'cached_tokens': 0}}, 'model_name': 'gpt-4o-mini-2024-07-18', 'system_fingerprint': 'fp_244dc2ef33', 'finish_reason': 'stop', 'logprobs': None}, id='run-b50d6eaa-3f57-4f4f-9e8d-a4f33dd26a35-0', usage_metadata={'input_tokens': 94, 'output_tokens': 176, 'total_tokens': 270, 'input_token_details': {'audio': 0, 'cache_read': 0}, 'output_token_details': {'audio': 0, 'reasoning': 0}})]}\n"
     ]
    }
   ],
   "source": [
    "messages.append(HumanMessage(content='Tell me where Orcas Live!', name = 'Lance'))\n",
    "messages_out_trim = graph.invoke({'messages':messages})\n",
    "print(messages_out_trim)"
   ]
  },
  {
   "cell_type": "markdown",
   "id": "90637f56",
   "metadata": {},
   "source": [
    "### Build with summary"
   ]
  },
  {
   "cell_type": "code",
   "execution_count": 3,
   "id": "f991e510",
   "metadata": {},
   "outputs": [
    {
     "data": {
      "image/png": "[encoded data removed]",
      "text/plain": [
       "<IPython.core.display.Image object>"
      ]
     },
     "metadata": {},
     "output_type": "display_data"
    }
   ],
   "source": [
    "from langgraph.graph.state import StateGraph, START, END\n",
    "from langgraph.graph.message import add_messages\n",
    "from typing import Annotated, List\n",
    "from typing_extensions import TypedDict\n",
    "from langchain_core.messages import AIMessage, HumanMessage, SystemMessage, RemoveMessage\n",
    "\n",
    "\n",
    "class State(TypedDict):\n",
    "    messages : Annotated[List,add_messages]\n",
    "    summary : str\n",
    "\n",
    "def call_model(state:State):\n",
    "    summary = state.get('summary', '')\n",
    "    if summary:\n",
    "        sys_msg = f\"Summary of the conversation earlier: {summary}\"\n",
    "        messages = [SystemMessage(content=sys_msg)] + state['messages']\n",
    "    else:\n",
    "        messages = state['messages']\n",
    "\n",
    "    response = llm.invoke(messages)\n",
    "    return {'messages':response}\n",
    "\n",
    "\n",
    "def summarize_conversation(state:State):\n",
    "    summary = state.get('summary', '')\n",
    "    if summary:\n",
    "        summary_msg = (\n",
    "            f\"\"\"\n",
    "            This is summary of conversation to date: {summary} \\n\\n.\n",
    "            Extend the summary by taking into account the new messages above:\n",
    "            \"\"\"\n",
    "        )\n",
    "    else:\n",
    "        summary_message = \"create a summary of the conversation of the above\"\n",
    "    \n",
    "    messages = state['messages'] + [HumanMessage(content=summary_message)]\n",
    "    response = llm.invoke(messages)\n",
    "\n",
    "    delete_message = [RemoveMessage(id=m.id) for m in state['messages'][:-2]]\n",
    "    return {'summary':response.content, 'messages':delete_message}\n",
    "\n",
    "def should_continue(state:State):\n",
    "    messages = state['messages']\n",
    "    if len(messages)>6:\n",
    "        return 'summarize_conversation'\n",
    "    return END \n",
    "\n",
    "from IPython.display import Image, display\n",
    "from langgraph.checkpoint.memory import MemorySaver\n",
    "from langgraph.graph import StateGraph, START\n",
    "\n",
    "# Define a new graph\n",
    "workflow = StateGraph(State)\n",
    "workflow.add_node(\"conversation\", call_model)\n",
    "workflow.add_node(summarize_conversation)\n",
    "\n",
    "# Set the entrypoint as conversation\n",
    "workflow.add_edge(START, \"conversation\")\n",
    "workflow.add_conditional_edges(\"conversation\", should_continue)\n",
    "workflow.add_edge(\"summarize_conversation\", END)\n",
    "\n",
    "# Compile\n",
    "memory = MemorySaver()\n",
    "graph = workflow.compile(checkpointer=memory)\n",
    "display(Image(graph.get_graph().draw_mermaid_png()))"
   ]
  },
  {
   "cell_type": "code",
   "execution_count": 4,
   "id": "a268849e",
   "metadata": {},
   "outputs": [
    {
     "name": "stdout",
     "output_type": "stream",
     "text": [
      "Collecting langgraph-checkpoint-sqlite\n",
      "  Downloading langgraph_checkpoint_sqlite-2.0.1-py3-none-any.whl.metadata (3.0 kB)\n",
      "Collecting aiosqlite<0.21.0,>=0.20.0 (from langgraph-checkpoint-sqlite)\n",
      "  Downloading aiosqlite-0.20.0-py3-none-any.whl.metadata (4.3 kB)\n",
      "Requirement already satisfied: langgraph-checkpoint<3.0.0,>=2.0.2 in /Users/prem.kumar/.pyenv/versions/venv_langgraph/lib/python3.11/site-packages (from langgraph-checkpoint-sqlite) (2.0.7)\n",
      "Requirement already satisfied: typing_extensions>=4.0 in /Users/prem.kumar/.pyenv/versions/venv_langgraph/lib/python3.11/site-packages (from aiosqlite<0.21.0,>=0.20.0->langgraph-checkpoint-sqlite) (4.12.2)\n",
      "Requirement already satisfied: langchain-core<0.4,>=0.2.38 in /Users/prem.kumar/.pyenv/versions/venv_langgraph/lib/python3.11/site-packages (from langgraph-checkpoint<3.0.0,>=2.0.2->langgraph-checkpoint-sqlite) (0.3.21)\n",
      "Requirement already satisfied: msgpack<2.0.0,>=1.1.0 in /Users/prem.kumar/.pyenv/versions/venv_langgraph/lib/python3.11/site-packages (from langgraph-checkpoint<3.0.0,>=2.0.2->langgraph-checkpoint-sqlite) (1.1.0)\n",
      "Requirement already satisfied: PyYAML>=5.3 in /Users/prem.kumar/.pyenv/versions/venv_langgraph/lib/python3.11/site-packages (from langchain-core<0.4,>=0.2.38->langgraph-checkpoint<3.0.0,>=2.0.2->langgraph-checkpoint-sqlite) (6.0.2)\n",
      "Requirement already satisfied: jsonpatch<2.0,>=1.33 in /Users/prem.kumar/.pyenv/versions/venv_langgraph/lib/python3.11/site-packages (from langchain-core<0.4,>=0.2.38->langgraph-checkpoint<3.0.0,>=2.0.2->langgraph-checkpoint-sqlite) (1.33)\n",
      "Requirement already satisfied: langsmith<0.2.0,>=0.1.125 in /Users/prem.kumar/.pyenv/versions/venv_langgraph/lib/python3.11/site-packages (from langchain-core<0.4,>=0.2.38->langgraph-checkpoint<3.0.0,>=2.0.2->langgraph-checkpoint-sqlite) (0.1.147)\n",
      "Requirement already satisfied: packaging<25,>=23.2 in /Users/prem.kumar/.pyenv/versions/venv_langgraph/lib/python3.11/site-packages (from langchain-core<0.4,>=0.2.38->langgraph-checkpoint<3.0.0,>=2.0.2->langgraph-checkpoint-sqlite) (24.2)\n",
      "Requirement already satisfied: pydantic<3.0.0,>=2.5.2 in /Users/prem.kumar/.pyenv/versions/venv_langgraph/lib/python3.11/site-packages (from langchain-core<0.4,>=0.2.38->langgraph-checkpoint<3.0.0,>=2.0.2->langgraph-checkpoint-sqlite) (2.9.2)\n",
      "Requirement already satisfied: tenacity!=8.4.0,<10.0.0,>=8.1.0 in /Users/prem.kumar/.pyenv/versions/venv_langgraph/lib/python3.11/site-packages (from langchain-core<0.4,>=0.2.38->langgraph-checkpoint<3.0.0,>=2.0.2->langgraph-checkpoint-sqlite) (8.5.0)\n",
      "Requirement already satisfied: jsonpointer>=1.9 in /Users/prem.kumar/.pyenv/versions/venv_langgraph/lib/python3.11/site-packages (from jsonpatch<2.0,>=1.33->langchain-core<0.4,>=0.2.38->langgraph-checkpoint<3.0.0,>=2.0.2->langgraph-checkpoint-sqlite) (3.0.0)\n",
      "Requirement already satisfied: httpx<1,>=0.23.0 in /Users/prem.kumar/.pyenv/versions/venv_langgraph/lib/python3.11/site-packages (from langsmith<0.2.0,>=0.1.125->langchain-core<0.4,>=0.2.38->langgraph-checkpoint<3.0.0,>=2.0.2->langgraph-checkpoint-sqlite) (0.28.0)\n",
      "Requirement already satisfied: orjson<4.0.0,>=3.9.14 in /Users/prem.kumar/.pyenv/versions/venv_langgraph/lib/python3.11/site-packages (from langsmith<0.2.0,>=0.1.125->langchain-core<0.4,>=0.2.38->langgraph-checkpoint<3.0.0,>=2.0.2->langgraph-checkpoint-sqlite) (3.10.12)\n",
      "Requirement already satisfied: requests<3,>=2 in /Users/prem.kumar/.pyenv/versions/venv_langgraph/lib/python3.11/site-packages (from langsmith<0.2.0,>=0.1.125->langchain-core<0.4,>=0.2.38->langgraph-checkpoint<3.0.0,>=2.0.2->langgraph-checkpoint-sqlite) (2.32.3)\n",
      "Requirement already satisfied: requests-toolbelt<2.0.0,>=1.0.0 in /Users/prem.kumar/.pyenv/versions/venv_langgraph/lib/python3.11/site-packages (from langsmith<0.2.0,>=0.1.125->langchain-core<0.4,>=0.2.38->langgraph-checkpoint<3.0.0,>=2.0.2->langgraph-checkpoint-sqlite) (1.0.0)\n",
      "Requirement already satisfied: annotated-types>=0.6.0 in /Users/prem.kumar/.pyenv/versions/venv_langgraph/lib/python3.11/site-packages (from pydantic<3.0.0,>=2.5.2->langchain-core<0.4,>=0.2.38->langgraph-checkpoint<3.0.0,>=2.0.2->langgraph-checkpoint-sqlite) (0.7.0)\n",
      "Requirement already satisfied: pydantic-core==2.23.4 in /Users/prem.kumar/.pyenv/versions/venv_langgraph/lib/python3.11/site-packages (from pydantic<3.0.0,>=2.5.2->langchain-core<0.4,>=0.2.38->langgraph-checkpoint<3.0.0,>=2.0.2->langgraph-checkpoint-sqlite) (2.23.4)\n",
      "Requirement already satisfied: anyio in /Users/prem.kumar/.pyenv/versions/venv_langgraph/lib/python3.11/site-packages (from httpx<1,>=0.23.0->langsmith<0.2.0,>=0.1.125->langchain-core<0.4,>=0.2.38->langgraph-checkpoint<3.0.0,>=2.0.2->langgraph-checkpoint-sqlite) (4.6.2.post1)\n",
      "Requirement already satisfied: certifi in /Users/prem.kumar/.pyenv/versions/venv_langgraph/lib/python3.11/site-packages (from httpx<1,>=0.23.0->langsmith<0.2.0,>=0.1.125->langchain-core<0.4,>=0.2.38->langgraph-checkpoint<3.0.0,>=2.0.2->langgraph-checkpoint-sqlite) (2024.8.30)\n",
      "Requirement already satisfied: httpcore==1.* in /Users/prem.kumar/.pyenv/versions/venv_langgraph/lib/python3.11/site-packages (from httpx<1,>=0.23.0->langsmith<0.2.0,>=0.1.125->langchain-core<0.4,>=0.2.38->langgraph-checkpoint<3.0.0,>=2.0.2->langgraph-checkpoint-sqlite) (1.0.7)\n",
      "Requirement already satisfied: idna in /Users/prem.kumar/.pyenv/versions/venv_langgraph/lib/python3.11/site-packages (from httpx<1,>=0.23.0->langsmith<0.2.0,>=0.1.125->langchain-core<0.4,>=0.2.38->langgraph-checkpoint<3.0.0,>=2.0.2->langgraph-checkpoint-sqlite) (3.10)\n",
      "Requirement already satisfied: h11<0.15,>=0.13 in /Users/prem.kumar/.pyenv/versions/venv_langgraph/lib/python3.11/site-packages (from httpcore==1.*->httpx<1,>=0.23.0->langsmith<0.2.0,>=0.1.125->langchain-core<0.4,>=0.2.38->langgraph-checkpoint<3.0.0,>=2.0.2->langgraph-checkpoint-sqlite) (0.14.0)\n",
      "Requirement already satisfied: charset-normalizer<4,>=2 in /Users/prem.kumar/.pyenv/versions/venv_langgraph/lib/python3.11/site-packages (from requests<3,>=2->langsmith<0.2.0,>=0.1.125->langchain-core<0.4,>=0.2.38->langgraph-checkpoint<3.0.0,>=2.0.2->langgraph-checkpoint-sqlite) (3.4.0)\n",
      "Requirement already satisfied: urllib3<3,>=1.21.1 in /Users/prem.kumar/.pyenv/versions/venv_langgraph/lib/python3.11/site-packages (from requests<3,>=2->langsmith<0.2.0,>=0.1.125->langchain-core<0.4,>=0.2.38->langgraph-checkpoint<3.0.0,>=2.0.2->langgraph-checkpoint-sqlite) (2.2.3)\n",
      "Requirement already satisfied: sniffio>=1.1 in /Users/prem.kumar/.pyenv/versions/venv_langgraph/lib/python3.11/site-packages (from anyio->httpx<1,>=0.23.0->langsmith<0.2.0,>=0.1.125->langchain-core<0.4,>=0.2.38->langgraph-checkpoint<3.0.0,>=2.0.2->langgraph-checkpoint-sqlite) (1.3.1)\n",
      "Downloading langgraph_checkpoint_sqlite-2.0.1-py3-none-any.whl (12 kB)\n",
      "Downloading aiosqlite-0.20.0-py3-none-any.whl (15 kB)\n",
      "Installing collected packages: aiosqlite, langgraph-checkpoint-sqlite\n",
      "Successfully installed aiosqlite-0.20.0 langgraph-checkpoint-sqlite-2.0.1\n"
     ]
    }
   ],
   "source": [
    "!pip install langgraph-checkpoint-sqlite"
   ]
  },
  {
   "cell_type": "markdown",
   "id": "265007b6",
   "metadata": {},
   "source": [
    "## Streaming"
   ]
  },
  {
   "cell_type": "code",
   "execution_count": 5,
   "id": "728e8dd3",
   "metadata": {},
   "outputs": [
    {
     "data": {
      "image/png": "[encoded data removed]",
      "text/plain": [
       "<IPython.core.display.Image object>"
      ]
     },
     "metadata": {},
     "output_type": "display_data"
    }
   ],
   "source": [
    "from IPython.display import Image, display\n",
    "from langchain_openai import ChatOpenAI\n",
    "from langchain_core.messages import HumanMessage, AIMessage, SystemMessage, RemoveMessage\n",
    "from langchain_core.runnables import RunnableConfig\n",
    "from langgraph.checkpoint.memory import MemorySaver\n",
    "from langgraph.graph.state import StateGraph, START, END\n",
    "from langgraph.graph.message import add_messages\n",
    "from typing import Annotated, List\n",
    "from typing_extensions import TypedDict\n",
    "\n",
    "class State(TypedDict):\n",
    "    messages : Annotated[List, add_messages]\n",
    "    summary : str\n",
    "\n",
    "\n",
    "def call_model(state:State, config:RunnableConfig):\n",
    "    summary = state.get('summary', '')\n",
    "    if summary:\n",
    "        system_message = f\"Summary of the conversation earlier: {summary}\"\n",
    "        messages = [SystemMessage(content=system_message)] + state['messages']\n",
    "    else:\n",
    "        messages = state['messages']\n",
    "\n",
    "    response = llm.invoke(messages, config)\n",
    "    return {'messages': response}\n",
    "\n",
    "\n",
    "def summarize_conversation(state:State):\n",
    "    summary = state.get('summary', '')\n",
    "    if summary:\n",
    "        summary_msg = f\"\"\"\n",
    "                            This is summary of the conversation to date : {summary}.\\n\n",
    "                            Extend this summary using the new conversation given above.\n",
    "                            \"\"\"\n",
    "        \n",
    "    else:\n",
    "        summary_msg = \"Create the summary of the conversation given above:\"\n",
    "    \n",
    "    messages = state['messages'] + [HumanMessage(content=summary_msg)]\n",
    "    response = llm.invoke(messages)\n",
    "    delete_msg = [RemoveMessage(id = m.id) for m in state['messages'][:-2]]\n",
    "    return {'summary':response.content, 'messages':delete_message}\n",
    "\n",
    "def should_continue(state:State):\n",
    "    messages = state['messages']\n",
    "    if len(messages)>6:\n",
    "        return 'summarize_conversation'\n",
    "    else:\n",
    "        return END\n",
    "\n",
    "builder = StateGraph(State)\n",
    "builder.add_node('conversation', call_model)\n",
    "builder.add_node('summarize_conversation', summarize_conversation)\n",
    "builder.add_edge(START, 'conversation')\n",
    "builder.add_conditional_edges('conversation', should_continue)\n",
    "builder.add_edge('summarize_conversation', END)\n",
    "\n",
    "memory = MemorySaver()\n",
    "graph = builder.compile(checkpointer=memory)\n",
    "display(Image(graph.get_graph().draw_mermaid_png()))"
   ]
  },
  {
   "cell_type": "code",
   "execution_count": 7,
   "id": "c17c89f6",
   "metadata": {},
   "outputs": [
    {
     "name": "stdout",
     "output_type": "stream",
     "text": [
      "{'conversation': {'messages': AIMessage(content='Hi Prem! How can I assist you today?', additional_kwargs={'refusal': None}, response_metadata={'token_usage': {'completion_tokens': 10, 'prompt_tokens': 21, 'total_tokens': 31, 'completion_tokens_details': {'accepted_prediction_tokens': 0, 'audio_tokens': 0, 'reasoning_tokens': 0, 'rejected_prediction_tokens': 0}, 'prompt_tokens_details': {'audio_tokens': 0, 'cached_tokens': 0}}, 'model_name': 'gpt-4o-mini-2024-07-18', 'system_fingerprint': 'fp_bba3c8e70b', 'finish_reason': 'stop', 'logprobs': None}, id='run-ad6f234c-3bdb-402d-934f-7da0e12c4a15-0', usage_metadata={'input_tokens': 21, 'output_tokens': 10, 'total_tokens': 31, 'input_token_details': {'audio': 0, 'cache_read': 0}, 'output_token_details': {'audio': 0, 'reasoning': 0}})}}\n"
     ]
    }
   ],
   "source": [
    "llm = ChatOpenAI(model='gpt-4o-mini')\n",
    "config = {'configurable':{'thread_id':1}}\n",
    "for chunk in graph.stream({'messages':HumanMessage(content='Hi, i am Prem')}, config=config, stream_mode='updates'):\n",
    "    print(chunk)"
   ]
  },
  {
   "cell_type": "code",
   "execution_count": 9,
   "id": "84198858",
   "metadata": {},
   "outputs": [
    {
     "name": "stdout",
     "output_type": "stream",
     "text": [
      "================================\u001b[1m Human Message \u001b[0m=================================\n",
      "\n",
      "Hi, i am Prem\n",
      "================================\u001b[1m Human Message \u001b[0m=================================\n",
      "\n",
      "Hi, i am Prem\n",
      "==================================\u001b[1m Ai Message \u001b[0m==================================\n",
      "\n",
      "Hi Prem! How can I assist you today?\n",
      "================================\u001b[1m Human Message \u001b[0m=================================\n",
      "\n",
      "Hi this is KP\n",
      "================================\u001b[1m Human Message \u001b[0m=================================\n",
      "\n",
      "Hi this is KP\n",
      "--------------------------------------------------\n",
      "================================\u001b[1m Human Message \u001b[0m=================================\n",
      "\n",
      "Hi, i am Prem\n",
      "================================\u001b[1m Human Message \u001b[0m=================================\n",
      "\n",
      "Hi, i am Prem\n",
      "==================================\u001b[1m Ai Message \u001b[0m==================================\n",
      "\n",
      "Hi Prem! How can I assist you today?\n",
      "================================\u001b[1m Human Message \u001b[0m=================================\n",
      "\n",
      "Hi this is KP\n",
      "================================\u001b[1m Human Message \u001b[0m=================================\n",
      "\n",
      "Hi this is KP\n",
      "==================================\u001b[1m Ai Message \u001b[0m==================================\n",
      "\n",
      "Hi KP! How can I help you today?\n",
      "--------------------------------------------------\n"
     ]
    }
   ],
   "source": [
    "config ={'configurable':{'thread_id':1}}\n",
    "input_message = HumanMessage(content='Hi this is KP')\n",
    "for event in graph.stream({'messages':input_message}, config=config, stream_mode='values'):\n",
    "    for m in event['messages']:\n",
    "        m.pretty_print()\n",
    "    print('--'*25)"
   ]
  },
  {
   "cell_type": "code",
   "execution_count": 10,
   "id": "89b4e76b",
   "metadata": {},
   "outputs": [
    {
     "name": "stdout",
     "output_type": "stream",
     "text": [
      "Node:. Type:on_chain_start. Name:LangGraph\n",
      "Node:__start__. Type:on_chain_start. Name:__start__\n",
      "Node:__start__. Type:on_chain_end. Name:__start__\n",
      "Node:conversation. Type:on_chain_start. Name:conversation\n",
      "Node:conversation. Type:on_chat_model_start. Name:ChatOpenAI\n",
      "Node:conversation. Type:on_chat_model_stream. Name:ChatOpenAI\n",
      "Node:conversation. Type:on_chat_model_stream. Name:ChatOpenAI\n",
      "Node:conversation. Type:on_chat_model_stream. Name:ChatOpenAI\n",
      "Node:conversation. Type:on_chat_model_stream. Name:ChatOpenAI\n",
      "Node:conversation. Type:on_chat_model_stream. Name:ChatOpenAI\n",
      "Node:conversation. Type:on_chat_model_stream. Name:ChatOpenAI\n",
      "Node:conversation. Type:on_chat_model_stream. Name:ChatOpenAI\n",
      "Node:conversation. Type:on_chat_model_stream. Name:ChatOpenAI\n",
      "Node:conversation. Type:on_chat_model_stream. Name:ChatOpenAI\n",
      "Node:conversation. Type:on_chat_model_stream. Name:ChatOpenAI\n",
      "Node:conversation. Type:on_chat_model_stream. Name:ChatOpenAI\n",
      "Node:conversation. Type:on_chat_model_stream. Name:ChatOpenAI\n",
      "Node:conversation. Type:on_chat_model_stream. Name:ChatOpenAI\n",
      "Node:conversation. Type:on_chat_model_stream. Name:ChatOpenAI\n",
      "Node:conversation. Type:on_chat_model_stream. Name:ChatOpenAI\n",
      "Node:conversation. Type:on_chat_model_stream. Name:ChatOpenAI\n",
      "Node:conversation. Type:on_chat_model_stream. Name:ChatOpenAI\n",
      "Node:conversation. Type:on_chat_model_stream. Name:ChatOpenAI\n",
      "Node:conversation. Type:on_chat_model_stream. Name:ChatOpenAI\n",
      "Node:conversation. Type:on_chat_model_stream. Name:ChatOpenAI\n",
      "Node:conversation. Type:on_chat_model_stream. Name:ChatOpenAI\n",
      "Node:conversation. Type:on_chat_model_stream. Name:ChatOpenAI\n",
      "Node:conversation. Type:on_chat_model_stream. Name:ChatOpenAI\n",
      "Node:conversation. Type:on_chat_model_stream. Name:ChatOpenAI\n",
      "Node:conversation. Type:on_chat_model_stream. Name:ChatOpenAI\n",
      "Node:conversation. Type:on_chat_model_stream. Name:ChatOpenAI\n",
      "Node:conversation. Type:on_chat_model_stream. Name:ChatOpenAI\n",
      "Node:conversation. Type:on_chat_model_stream. Name:ChatOpenAI\n",
      "Node:conversation. Type:on_chat_model_stream. Name:ChatOpenAI\n",
      "Node:conversation. Type:on_chat_model_stream. Name:ChatOpenAI\n",
      "Node:conversation. Type:on_chat_model_stream. Name:ChatOpenAI\n",
      "Node:conversation. Type:on_chat_model_stream. Name:ChatOpenAI\n",
      "Node:conversation. Type:on_chat_model_stream. Name:ChatOpenAI\n",
      "Node:conversation. Type:on_chat_model_stream. Name:ChatOpenAI\n",
      "Node:conversation. Type:on_chat_model_stream. Name:ChatOpenAI\n",
      "Node:conversation. Type:on_chat_model_stream. Name:ChatOpenAI\n",
      "Node:conversation. Type:on_chat_model_stream. Name:ChatOpenAI\n",
      "Node:conversation. Type:on_chat_model_stream. Name:ChatOpenAI\n",
      "Node:conversation. Type:on_chat_model_stream. Name:ChatOpenAI\n",
      "Node:conversation. Type:on_chat_model_stream. Name:ChatOpenAI\n",
      "Node:conversation. Type:on_chat_model_stream. Name:ChatOpenAI\n",
      "Node:conversation. Type:on_chat_model_stream. Name:ChatOpenAI\n",
      "Node:conversation. Type:on_chat_model_stream. Name:ChatOpenAI\n",
      "Node:conversation. Type:on_chat_model_stream. Name:ChatOpenAI\n",
      "Node:conversation. Type:on_chat_model_stream. Name:ChatOpenAI\n",
      "Node:conversation. Type:on_chat_model_stream. Name:ChatOpenAI\n",
      "Node:conversation. Type:on_chat_model_stream. Name:ChatOpenAI\n",
      "Node:conversation. Type:on_chat_model_stream. Name:ChatOpenAI\n",
      "Node:conversation. Type:on_chat_model_stream. Name:ChatOpenAI\n",
      "Node:conversation. Type:on_chat_model_stream. Name:ChatOpenAI\n",
      "Node:conversation. Type:on_chat_model_stream. Name:ChatOpenAI\n",
      "Node:conversation. Type:on_chat_model_stream. Name:ChatOpenAI\n",
      "Node:conversation. Type:on_chat_model_stream. Name:ChatOpenAI\n",
      "Node:conversation. Type:on_chat_model_stream. Name:ChatOpenAI\n",
      "Node:conversation. Type:on_chat_model_stream. Name:ChatOpenAI\n",
      "Node:conversation. Type:on_chat_model_stream. Name:ChatOpenAI\n",
      "Node:conversation. Type:on_chat_model_stream. Name:ChatOpenAI\n",
      "Node:conversation. Type:on_chat_model_stream. Name:ChatOpenAI\n",
      "Node:conversation. Type:on_chat_model_stream. Name:ChatOpenAI\n",
      "Node:conversation. Type:on_chat_model_stream. Name:ChatOpenAI\n",
      "Node:conversation. Type:on_chat_model_stream. Name:ChatOpenAI\n",
      "Node:conversation. Type:on_chat_model_stream. Name:ChatOpenAI\n",
      "Node:conversation. Type:on_chat_model_stream. Name:ChatOpenAI\n",
      "Node:conversation. Type:on_chat_model_stream. Name:ChatOpenAI\n",
      "Node:conversation. Type:on_chat_model_stream. Name:ChatOpenAI\n",
      "Node:conversation. Type:on_chat_model_stream. Name:ChatOpenAI\n",
      "Node:conversation. Type:on_chat_model_stream. Name:ChatOpenAI\n",
      "Node:conversation. Type:on_chat_model_stream. Name:ChatOpenAI\n",
      "Node:conversation. Type:on_chat_model_stream. Name:ChatOpenAI\n",
      "Node:conversation. Type:on_chat_model_stream. Name:ChatOpenAI\n",
      "Node:conversation. Type:on_chat_model_stream. Name:ChatOpenAI\n",
      "Node:conversation. Type:on_chat_model_stream. Name:ChatOpenAI\n",
      "Node:conversation. Type:on_chat_model_stream. Name:ChatOpenAI\n",
      "Node:conversation. Type:on_chat_model_stream. Name:ChatOpenAI\n",
      "Node:conversation. Type:on_chat_model_stream. Name:ChatOpenAI\n",
      "Node:conversation. Type:on_chat_model_stream. Name:ChatOpenAI\n",
      "Node:conversation. Type:on_chat_model_stream. Name:ChatOpenAI\n",
      "Node:conversation. Type:on_chat_model_stream. Name:ChatOpenAI\n",
      "Node:conversation. Type:on_chat_model_stream. Name:ChatOpenAI\n",
      "Node:conversation. Type:on_chat_model_stream. Name:ChatOpenAI\n",
      "Node:conversation. Type:on_chat_model_stream. Name:ChatOpenAI\n",
      "Node:conversation. Type:on_chat_model_stream. Name:ChatOpenAI\n",
      "Node:conversation. Type:on_chat_model_stream. Name:ChatOpenAI\n",
      "Node:conversation. Type:on_chat_model_stream. Name:ChatOpenAI\n",
      "Node:conversation. Type:on_chat_model_stream. Name:ChatOpenAI\n",
      "Node:conversation. Type:on_chat_model_stream. Name:ChatOpenAI\n",
      "Node:conversation. Type:on_chat_model_stream. Name:ChatOpenAI\n",
      "Node:conversation. Type:on_chat_model_stream. Name:ChatOpenAI\n",
      "Node:conversation. Type:on_chat_model_stream. Name:ChatOpenAI\n",
      "Node:conversation. Type:on_chat_model_stream. Name:ChatOpenAI\n",
      "Node:conversation. Type:on_chat_model_stream. Name:ChatOpenAI\n",
      "Node:conversation. Type:on_chat_model_stream. Name:ChatOpenAI\n",
      "Node:conversation. Type:on_chat_model_stream. Name:ChatOpenAI\n",
      "Node:conversation. Type:on_chat_model_stream. Name:ChatOpenAI\n",
      "Node:conversation. Type:on_chat_model_stream. Name:ChatOpenAI\n",
      "Node:conversation. Type:on_chat_model_stream. Name:ChatOpenAI\n",
      "Node:conversation. Type:on_chat_model_stream. Name:ChatOpenAI\n",
      "Node:conversation. Type:on_chat_model_stream. Name:ChatOpenAI\n",
      "Node:conversation. Type:on_chat_model_stream. Name:ChatOpenAI\n",
      "Node:conversation. Type:on_chat_model_stream. Name:ChatOpenAI\n",
      "Node:conversation. Type:on_chat_model_stream. Name:ChatOpenAI\n",
      "Node:conversation. Type:on_chat_model_stream. Name:ChatOpenAI\n",
      "Node:conversation. Type:on_chat_model_stream. Name:ChatOpenAI\n",
      "Node:conversation. Type:on_chat_model_stream. Name:ChatOpenAI\n",
      "Node:conversation. Type:on_chat_model_stream. Name:ChatOpenAI\n",
      "Node:conversation. Type:on_chat_model_stream. Name:ChatOpenAI\n",
      "Node:conversation. Type:on_chat_model_stream. Name:ChatOpenAI\n",
      "Node:conversation. Type:on_chat_model_stream. Name:ChatOpenAI\n",
      "Node:conversation. Type:on_chat_model_stream. Name:ChatOpenAI\n",
      "Node:conversation. Type:on_chat_model_stream. Name:ChatOpenAI\n",
      "Node:conversation. Type:on_chat_model_stream. Name:ChatOpenAI\n",
      "Node:conversation. Type:on_chat_model_stream. Name:ChatOpenAI\n",
      "Node:conversation. Type:on_chat_model_stream. Name:ChatOpenAI\n",
      "Node:conversation. Type:on_chat_model_stream. Name:ChatOpenAI\n",
      "Node:conversation. Type:on_chat_model_stream. Name:ChatOpenAI\n",
      "Node:conversation. Type:on_chat_model_stream. Name:ChatOpenAI\n",
      "Node:conversation. Type:on_chat_model_stream. Name:ChatOpenAI\n",
      "Node:conversation. Type:on_chat_model_stream. Name:ChatOpenAI\n",
      "Node:conversation. Type:on_chat_model_stream. Name:ChatOpenAI\n",
      "Node:conversation. Type:on_chat_model_stream. Name:ChatOpenAI\n",
      "Node:conversation. Type:on_chat_model_stream. Name:ChatOpenAI\n",
      "Node:conversation. Type:on_chat_model_stream. Name:ChatOpenAI\n",
      "Node:conversation. Type:on_chat_model_stream. Name:ChatOpenAI\n",
      "Node:conversation. Type:on_chat_model_stream. Name:ChatOpenAI\n",
      "Node:conversation. Type:on_chat_model_stream. Name:ChatOpenAI\n",
      "Node:conversation. Type:on_chat_model_stream. Name:ChatOpenAI\n",
      "Node:conversation. Type:on_chat_model_stream. Name:ChatOpenAI\n",
      "Node:conversation. Type:on_chat_model_stream. Name:ChatOpenAI\n",
      "Node:conversation. Type:on_chat_model_stream. Name:ChatOpenAI\n",
      "Node:conversation. Type:on_chat_model_stream. Name:ChatOpenAI\n",
      "Node:conversation. Type:on_chat_model_stream. Name:ChatOpenAI\n",
      "Node:conversation. Type:on_chat_model_stream. Name:ChatOpenAI\n",
      "Node:conversation. Type:on_chat_model_stream. Name:ChatOpenAI\n",
      "Node:conversation. Type:on_chat_model_stream. Name:ChatOpenAI\n",
      "Node:conversation. Type:on_chat_model_stream. Name:ChatOpenAI\n",
      "Node:conversation. Type:on_chat_model_stream. Name:ChatOpenAI\n",
      "Node:conversation. Type:on_chat_model_stream. Name:ChatOpenAI\n",
      "Node:conversation. Type:on_chat_model_stream. Name:ChatOpenAI\n",
      "Node:conversation. Type:on_chat_model_stream. Name:ChatOpenAI\n",
      "Node:conversation. Type:on_chat_model_stream. Name:ChatOpenAI\n",
      "Node:conversation. Type:on_chat_model_stream. Name:ChatOpenAI\n",
      "Node:conversation. Type:on_chat_model_stream. Name:ChatOpenAI\n",
      "Node:conversation. Type:on_chat_model_stream. Name:ChatOpenAI\n",
      "Node:conversation. Type:on_chat_model_stream. Name:ChatOpenAI\n",
      "Node:conversation. Type:on_chat_model_stream. Name:ChatOpenAI\n",
      "Node:conversation. Type:on_chat_model_stream. Name:ChatOpenAI\n",
      "Node:conversation. Type:on_chat_model_stream. Name:ChatOpenAI\n",
      "Node:conversation. Type:on_chat_model_stream. Name:ChatOpenAI\n",
      "Node:conversation. Type:on_chat_model_stream. Name:ChatOpenAI\n",
      "Node:conversation. Type:on_chat_model_stream. Name:ChatOpenAI\n",
      "Node:conversation. Type:on_chat_model_stream. Name:ChatOpenAI\n",
      "Node:conversation. Type:on_chat_model_stream. Name:ChatOpenAI\n",
      "Node:conversation. Type:on_chat_model_stream. Name:ChatOpenAI\n",
      "Node:conversation. Type:on_chat_model_stream. Name:ChatOpenAI\n",
      "Node:conversation. Type:on_chat_model_stream. Name:ChatOpenAI\n",
      "Node:conversation. Type:on_chat_model_stream. Name:ChatOpenAI\n",
      "Node:conversation. Type:on_chat_model_stream. Name:ChatOpenAI\n",
      "Node:conversation. Type:on_chat_model_stream. Name:ChatOpenAI\n",
      "Node:conversation. Type:on_chat_model_stream. Name:ChatOpenAI\n",
      "Node:conversation. Type:on_chat_model_stream. Name:ChatOpenAI\n",
      "Node:conversation. Type:on_chat_model_stream. Name:ChatOpenAI\n",
      "Node:conversation. Type:on_chat_model_stream. Name:ChatOpenAI\n",
      "Node:conversation. Type:on_chat_model_stream. Name:ChatOpenAI\n",
      "Node:conversation. Type:on_chat_model_stream. Name:ChatOpenAI\n",
      "Node:conversation. Type:on_chat_model_stream. Name:ChatOpenAI\n",
      "Node:conversation. Type:on_chat_model_stream. Name:ChatOpenAI\n",
      "Node:conversation. Type:on_chat_model_stream. Name:ChatOpenAI\n",
      "Node:conversation. Type:on_chat_model_stream. Name:ChatOpenAI\n",
      "Node:conversation. Type:on_chat_model_stream. Name:ChatOpenAI\n",
      "Node:conversation. Type:on_chat_model_stream. Name:ChatOpenAI\n",
      "Node:conversation. Type:on_chat_model_stream. Name:ChatOpenAI\n",
      "Node:conversation. Type:on_chat_model_stream. Name:ChatOpenAI\n",
      "Node:conversation. Type:on_chat_model_stream. Name:ChatOpenAI\n",
      "Node:conversation. Type:on_chat_model_stream. Name:ChatOpenAI\n",
      "Node:conversation. Type:on_chat_model_stream. Name:ChatOpenAI\n",
      "Node:conversation. Type:on_chat_model_stream. Name:ChatOpenAI\n",
      "Node:conversation. Type:on_chat_model_stream. Name:ChatOpenAI\n",
      "Node:conversation. Type:on_chat_model_stream. Name:ChatOpenAI\n",
      "Node:conversation. Type:on_chat_model_stream. Name:ChatOpenAI\n",
      "Node:conversation. Type:on_chat_model_stream. Name:ChatOpenAI\n",
      "Node:conversation. Type:on_chat_model_stream. Name:ChatOpenAI\n",
      "Node:conversation. Type:on_chat_model_stream. Name:ChatOpenAI\n",
      "Node:conversation. Type:on_chat_model_stream. Name:ChatOpenAI\n",
      "Node:conversation. Type:on_chat_model_stream. Name:ChatOpenAI\n",
      "Node:conversation. Type:on_chat_model_stream. Name:ChatOpenAI\n",
      "Node:conversation. Type:on_chat_model_stream. Name:ChatOpenAI\n",
      "Node:conversation. Type:on_chat_model_stream. Name:ChatOpenAI\n",
      "Node:conversation. Type:on_chat_model_stream. Name:ChatOpenAI\n",
      "Node:conversation. Type:on_chat_model_stream. Name:ChatOpenAI\n",
      "Node:conversation. Type:on_chat_model_stream. Name:ChatOpenAI\n",
      "Node:conversation. Type:on_chat_model_stream. Name:ChatOpenAI\n",
      "Node:conversation. Type:on_chat_model_stream. Name:ChatOpenAI\n",
      "Node:conversation. Type:on_chat_model_stream. Name:ChatOpenAI\n",
      "Node:conversation. Type:on_chat_model_stream. Name:ChatOpenAI\n",
      "Node:conversation. Type:on_chat_model_stream. Name:ChatOpenAI\n",
      "Node:conversation. Type:on_chat_model_stream. Name:ChatOpenAI\n",
      "Node:conversation. Type:on_chat_model_stream. Name:ChatOpenAI\n",
      "Node:conversation. Type:on_chat_model_stream. Name:ChatOpenAI\n",
      "Node:conversation. Type:on_chat_model_stream. Name:ChatOpenAI\n",
      "Node:conversation. Type:on_chat_model_stream. Name:ChatOpenAI\n",
      "Node:conversation. Type:on_chat_model_stream. Name:ChatOpenAI\n",
      "Node:conversation. Type:on_chat_model_stream. Name:ChatOpenAI\n",
      "Node:conversation. Type:on_chat_model_stream. Name:ChatOpenAI\n",
      "Node:conversation. Type:on_chat_model_stream. Name:ChatOpenAI\n",
      "Node:conversation. Type:on_chat_model_stream. Name:ChatOpenAI\n",
      "Node:conversation. Type:on_chat_model_stream. Name:ChatOpenAI\n",
      "Node:conversation. Type:on_chat_model_stream. Name:ChatOpenAI\n",
      "Node:conversation. Type:on_chat_model_stream. Name:ChatOpenAI\n",
      "Node:conversation. Type:on_chat_model_stream. Name:ChatOpenAI\n",
      "Node:conversation. Type:on_chat_model_stream. Name:ChatOpenAI\n",
      "Node:conversation. Type:on_chat_model_stream. Name:ChatOpenAI\n",
      "Node:conversation. Type:on_chat_model_stream. Name:ChatOpenAI\n",
      "Node:conversation. Type:on_chat_model_stream. Name:ChatOpenAI\n",
      "Node:conversation. Type:on_chat_model_stream. Name:ChatOpenAI\n",
      "Node:conversation. Type:on_chat_model_stream. Name:ChatOpenAI\n",
      "Node:conversation. Type:on_chat_model_stream. Name:ChatOpenAI\n",
      "Node:conversation. Type:on_chat_model_stream. Name:ChatOpenAI\n",
      "Node:conversation. Type:on_chat_model_stream. Name:ChatOpenAI\n",
      "Node:conversation. Type:on_chat_model_stream. Name:ChatOpenAI\n",
      "Node:conversation. Type:on_chat_model_stream. Name:ChatOpenAI\n",
      "Node:conversation. Type:on_chat_model_stream. Name:ChatOpenAI\n",
      "Node:conversation. Type:on_chat_model_stream. Name:ChatOpenAI\n",
      "Node:conversation. Type:on_chat_model_stream. Name:ChatOpenAI\n",
      "Node:conversation. Type:on_chat_model_stream. Name:ChatOpenAI\n",
      "Node:conversation. Type:on_chat_model_stream. Name:ChatOpenAI\n",
      "Node:conversation. Type:on_chat_model_stream. Name:ChatOpenAI\n",
      "Node:conversation. Type:on_chat_model_stream. Name:ChatOpenAI\n",
      "Node:conversation. Type:on_chat_model_stream. Name:ChatOpenAI\n",
      "Node:conversation. Type:on_chat_model_stream. Name:ChatOpenAI\n",
      "Node:conversation. Type:on_chat_model_stream. Name:ChatOpenAI\n",
      "Node:conversation. Type:on_chat_model_stream. Name:ChatOpenAI\n",
      "Node:conversation. Type:on_chat_model_stream. Name:ChatOpenAI\n",
      "Node:conversation. Type:on_chat_model_stream. Name:ChatOpenAI\n",
      "Node:conversation. Type:on_chat_model_stream. Name:ChatOpenAI\n",
      "Node:conversation. Type:on_chat_model_stream. Name:ChatOpenAI\n",
      "Node:conversation. Type:on_chat_model_stream. Name:ChatOpenAI\n",
      "Node:conversation. Type:on_chat_model_stream. Name:ChatOpenAI\n",
      "Node:conversation. Type:on_chat_model_stream. Name:ChatOpenAI\n",
      "Node:conversation. Type:on_chat_model_stream. Name:ChatOpenAI\n",
      "Node:conversation. Type:on_chat_model_stream. Name:ChatOpenAI\n",
      "Node:conversation. Type:on_chat_model_stream. Name:ChatOpenAI\n",
      "Node:conversation. Type:on_chat_model_stream. Name:ChatOpenAI\n",
      "Node:conversation. Type:on_chat_model_stream. Name:ChatOpenAI\n",
      "Node:conversation. Type:on_chat_model_stream. Name:ChatOpenAI\n",
      "Node:conversation. Type:on_chat_model_stream. Name:ChatOpenAI\n",
      "Node:conversation. Type:on_chat_model_stream. Name:ChatOpenAI\n",
      "Node:conversation. Type:on_chat_model_stream. Name:ChatOpenAI\n",
      "Node:conversation. Type:on_chat_model_stream. Name:ChatOpenAI\n",
      "Node:conversation. Type:on_chat_model_stream. Name:ChatOpenAI\n",
      "Node:conversation. Type:on_chat_model_stream. Name:ChatOpenAI\n",
      "Node:conversation. Type:on_chat_model_stream. Name:ChatOpenAI\n",
      "Node:conversation. Type:on_chat_model_stream. Name:ChatOpenAI\n",
      "Node:conversation. Type:on_chat_model_stream. Name:ChatOpenAI\n",
      "Node:conversation. Type:on_chat_model_stream. Name:ChatOpenAI\n",
      "Node:conversation. Type:on_chat_model_stream. Name:ChatOpenAI\n",
      "Node:conversation. Type:on_chat_model_stream. Name:ChatOpenAI\n",
      "Node:conversation. Type:on_chat_model_stream. Name:ChatOpenAI\n",
      "Node:conversation. Type:on_chat_model_stream. Name:ChatOpenAI\n",
      "Node:conversation. Type:on_chat_model_stream. Name:ChatOpenAI\n",
      "Node:conversation. Type:on_chat_model_stream. Name:ChatOpenAI\n",
      "Node:conversation. Type:on_chat_model_stream. Name:ChatOpenAI\n",
      "Node:conversation. Type:on_chat_model_stream. Name:ChatOpenAI\n",
      "Node:conversation. Type:on_chat_model_stream. Name:ChatOpenAI\n",
      "Node:conversation. Type:on_chat_model_stream. Name:ChatOpenAI\n",
      "Node:conversation. Type:on_chat_model_stream. Name:ChatOpenAI\n",
      "Node:conversation. Type:on_chat_model_stream. Name:ChatOpenAI\n",
      "Node:conversation. Type:on_chat_model_stream. Name:ChatOpenAI\n",
      "Node:conversation. Type:on_chat_model_stream. Name:ChatOpenAI\n",
      "Node:conversation. Type:on_chat_model_stream. Name:ChatOpenAI\n",
      "Node:conversation. Type:on_chat_model_stream. Name:ChatOpenAI\n",
      "Node:conversation. Type:on_chat_model_stream. Name:ChatOpenAI\n",
      "Node:conversation. Type:on_chat_model_stream. Name:ChatOpenAI\n",
      "Node:conversation. Type:on_chat_model_stream. Name:ChatOpenAI\n",
      "Node:conversation. Type:on_chat_model_stream. Name:ChatOpenAI\n",
      "Node:conversation. Type:on_chat_model_stream. Name:ChatOpenAI\n",
      "Node:conversation. Type:on_chat_model_stream. Name:ChatOpenAI\n",
      "Node:conversation. Type:on_chat_model_stream. Name:ChatOpenAI\n",
      "Node:conversation. Type:on_chat_model_stream. Name:ChatOpenAI\n",
      "Node:conversation. Type:on_chat_model_stream. Name:ChatOpenAI\n",
      "Node:conversation. Type:on_chat_model_stream. Name:ChatOpenAI\n",
      "Node:conversation. Type:on_chat_model_stream. Name:ChatOpenAI\n",
      "Node:conversation. Type:on_chat_model_stream. Name:ChatOpenAI\n",
      "Node:conversation. Type:on_chat_model_stream. Name:ChatOpenAI\n",
      "Node:conversation. Type:on_chat_model_stream. Name:ChatOpenAI\n",
      "Node:conversation. Type:on_chat_model_stream. Name:ChatOpenAI\n",
      "Node:conversation. Type:on_chat_model_stream. Name:ChatOpenAI\n",
      "Node:conversation. Type:on_chat_model_stream. Name:ChatOpenAI\n",
      "Node:conversation. Type:on_chat_model_stream. Name:ChatOpenAI\n",
      "Node:conversation. Type:on_chat_model_stream. Name:ChatOpenAI\n",
      "Node:conversation. Type:on_chat_model_stream. Name:ChatOpenAI\n",
      "Node:conversation. Type:on_chat_model_stream. Name:ChatOpenAI\n",
      "Node:conversation. Type:on_chat_model_stream. Name:ChatOpenAI\n",
      "Node:conversation. Type:on_chat_model_stream. Name:ChatOpenAI\n",
      "Node:conversation. Type:on_chat_model_stream. Name:ChatOpenAI\n",
      "Node:conversation. Type:on_chat_model_stream. Name:ChatOpenAI\n",
      "Node:conversation. Type:on_chat_model_stream. Name:ChatOpenAI\n",
      "Node:conversation. Type:on_chat_model_stream. Name:ChatOpenAI\n",
      "Node:conversation. Type:on_chat_model_stream. Name:ChatOpenAI\n",
      "Node:conversation. Type:on_chat_model_stream. Name:ChatOpenAI\n",
      "Node:conversation. Type:on_chat_model_stream. Name:ChatOpenAI\n",
      "Node:conversation. Type:on_chat_model_stream. Name:ChatOpenAI\n",
      "Node:conversation. Type:on_chat_model_stream. Name:ChatOpenAI\n",
      "Node:conversation. Type:on_chat_model_stream. Name:ChatOpenAI\n",
      "Node:conversation. Type:on_chat_model_stream. Name:ChatOpenAI\n",
      "Node:conversation. Type:on_chat_model_stream. Name:ChatOpenAI\n",
      "Node:conversation. Type:on_chat_model_stream. Name:ChatOpenAI\n",
      "Node:conversation. Type:on_chat_model_stream. Name:ChatOpenAI\n",
      "Node:conversation. Type:on_chat_model_stream. Name:ChatOpenAI\n",
      "Node:conversation. Type:on_chat_model_stream. Name:ChatOpenAI\n",
      "Node:conversation. Type:on_chat_model_stream. Name:ChatOpenAI\n",
      "Node:conversation. Type:on_chat_model_stream. Name:ChatOpenAI\n",
      "Node:conversation. Type:on_chat_model_stream. Name:ChatOpenAI\n",
      "Node:conversation. Type:on_chat_model_stream. Name:ChatOpenAI\n",
      "Node:conversation. Type:on_chat_model_stream. Name:ChatOpenAI\n",
      "Node:conversation. Type:on_chat_model_stream. Name:ChatOpenAI\n",
      "Node:conversation. Type:on_chat_model_stream. Name:ChatOpenAI\n",
      "Node:conversation. Type:on_chat_model_stream. Name:ChatOpenAI\n",
      "Node:conversation. Type:on_chat_model_stream. Name:ChatOpenAI\n",
      "Node:conversation. Type:on_chat_model_stream. Name:ChatOpenAI\n",
      "Node:conversation. Type:on_chat_model_stream. Name:ChatOpenAI\n",
      "Node:conversation. Type:on_chat_model_stream. Name:ChatOpenAI\n",
      "Node:conversation. Type:on_chat_model_stream. Name:ChatOpenAI\n",
      "Node:conversation. Type:on_chat_model_stream. Name:ChatOpenAI\n",
      "Node:conversation. Type:on_chat_model_stream. Name:ChatOpenAI\n",
      "Node:conversation. Type:on_chat_model_stream. Name:ChatOpenAI\n",
      "Node:conversation. Type:on_chat_model_stream. Name:ChatOpenAI\n",
      "Node:conversation. Type:on_chat_model_stream. Name:ChatOpenAI\n",
      "Node:conversation. Type:on_chat_model_stream. Name:ChatOpenAI\n",
      "Node:conversation. Type:on_chat_model_stream. Name:ChatOpenAI\n",
      "Node:conversation. Type:on_chat_model_stream. Name:ChatOpenAI\n",
      "Node:conversation. Type:on_chat_model_stream. Name:ChatOpenAI\n",
      "Node:conversation. Type:on_chat_model_stream. Name:ChatOpenAI\n",
      "Node:conversation. Type:on_chat_model_stream. Name:ChatOpenAI\n",
      "Node:conversation. Type:on_chat_model_stream. Name:ChatOpenAI\n",
      "Node:conversation. Type:on_chat_model_stream. Name:ChatOpenAI\n",
      "Node:conversation. Type:on_chat_model_stream. Name:ChatOpenAI\n",
      "Node:conversation. Type:on_chat_model_stream. Name:ChatOpenAI\n",
      "Node:conversation. Type:on_chat_model_stream. Name:ChatOpenAI\n",
      "Node:conversation. Type:on_chat_model_stream. Name:ChatOpenAI\n",
      "Node:conversation. Type:on_chat_model_stream. Name:ChatOpenAI\n",
      "Node:conversation. Type:on_chat_model_stream. Name:ChatOpenAI\n",
      "Node:conversation. Type:on_chat_model_stream. Name:ChatOpenAI\n",
      "Node:conversation. Type:on_chat_model_stream. Name:ChatOpenAI\n",
      "Node:conversation. Type:on_chat_model_stream. Name:ChatOpenAI\n",
      "Node:conversation. Type:on_chat_model_stream. Name:ChatOpenAI\n",
      "Node:conversation. Type:on_chat_model_stream. Name:ChatOpenAI\n",
      "Node:conversation. Type:on_chat_model_stream. Name:ChatOpenAI\n",
      "Node:conversation. Type:on_chat_model_stream. Name:ChatOpenAI\n",
      "Node:conversation. Type:on_chat_model_stream. Name:ChatOpenAI\n",
      "Node:conversation. Type:on_chat_model_stream. Name:ChatOpenAI\n",
      "Node:conversation. Type:on_chat_model_stream. Name:ChatOpenAI\n",
      "Node:conversation. Type:on_chat_model_stream. Name:ChatOpenAI\n",
      "Node:conversation. Type:on_chat_model_stream. Name:ChatOpenAI\n",
      "Node:conversation. Type:on_chat_model_stream. Name:ChatOpenAI\n",
      "Node:conversation. Type:on_chat_model_stream. Name:ChatOpenAI\n",
      "Node:conversation. Type:on_chat_model_stream. Name:ChatOpenAI\n",
      "Node:conversation. Type:on_chat_model_stream. Name:ChatOpenAI\n",
      "Node:conversation. Type:on_chat_model_stream. Name:ChatOpenAI\n",
      "Node:conversation. Type:on_chat_model_stream. Name:ChatOpenAI\n",
      "Node:conversation. Type:on_chat_model_stream. Name:ChatOpenAI\n",
      "Node:conversation. Type:on_chat_model_stream. Name:ChatOpenAI\n",
      "Node:conversation. Type:on_chat_model_stream. Name:ChatOpenAI\n",
      "Node:conversation. Type:on_chat_model_stream. Name:ChatOpenAI\n",
      "Node:conversation. Type:on_chat_model_stream. Name:ChatOpenAI\n",
      "Node:conversation. Type:on_chat_model_stream. Name:ChatOpenAI\n",
      "Node:conversation. Type:on_chat_model_stream. Name:ChatOpenAI\n",
      "Node:conversation. Type:on_chat_model_stream. Name:ChatOpenAI\n",
      "Node:conversation. Type:on_chat_model_stream. Name:ChatOpenAI\n",
      "Node:conversation. Type:on_chat_model_stream. Name:ChatOpenAI\n",
      "Node:conversation. Type:on_chat_model_stream. Name:ChatOpenAI\n",
      "Node:conversation. Type:on_chat_model_stream. Name:ChatOpenAI\n",
      "Node:conversation. Type:on_chat_model_stream. Name:ChatOpenAI\n",
      "Node:conversation. Type:on_chat_model_stream. Name:ChatOpenAI\n",
      "Node:conversation. Type:on_chat_model_stream. Name:ChatOpenAI\n",
      "Node:conversation. Type:on_chat_model_stream. Name:ChatOpenAI\n",
      "Node:conversation. Type:on_chat_model_stream. Name:ChatOpenAI\n",
      "Node:conversation. Type:on_chat_model_stream. Name:ChatOpenAI\n",
      "Node:conversation. Type:on_chat_model_stream. Name:ChatOpenAI\n",
      "Node:conversation. Type:on_chat_model_stream. Name:ChatOpenAI\n",
      "Node:conversation. Type:on_chat_model_stream. Name:ChatOpenAI\n",
      "Node:conversation. Type:on_chat_model_stream. Name:ChatOpenAI\n",
      "Node:conversation. Type:on_chat_model_stream. Name:ChatOpenAI\n",
      "Node:conversation. Type:on_chat_model_stream. Name:ChatOpenAI\n",
      "Node:conversation. Type:on_chat_model_stream. Name:ChatOpenAI\n",
      "Node:conversation. Type:on_chat_model_stream. Name:ChatOpenAI\n",
      "Node:conversation. Type:on_chat_model_stream. Name:ChatOpenAI\n",
      "Node:conversation. Type:on_chat_model_stream. Name:ChatOpenAI\n",
      "Node:conversation. Type:on_chat_model_stream. Name:ChatOpenAI\n",
      "Node:conversation. Type:on_chat_model_stream. Name:ChatOpenAI\n",
      "Node:conversation. Type:on_chat_model_stream. Name:ChatOpenAI\n",
      "Node:conversation. Type:on_chat_model_stream. Name:ChatOpenAI\n",
      "Node:conversation. Type:on_chat_model_stream. Name:ChatOpenAI\n",
      "Node:conversation. Type:on_chat_model_stream. Name:ChatOpenAI\n",
      "Node:conversation. Type:on_chat_model_stream. Name:ChatOpenAI\n",
      "Node:conversation. Type:on_chat_model_stream. Name:ChatOpenAI\n",
      "Node:conversation. Type:on_chat_model_stream. Name:ChatOpenAI\n",
      "Node:conversation. Type:on_chat_model_stream. Name:ChatOpenAI\n",
      "Node:conversation. Type:on_chat_model_stream. Name:ChatOpenAI\n",
      "Node:conversation. Type:on_chat_model_stream. Name:ChatOpenAI\n",
      "Node:conversation. Type:on_chat_model_stream. Name:ChatOpenAI\n",
      "Node:conversation. Type:on_chat_model_stream. Name:ChatOpenAI\n",
      "Node:conversation. Type:on_chat_model_stream. Name:ChatOpenAI\n",
      "Node:conversation. Type:on_chat_model_stream. Name:ChatOpenAI\n",
      "Node:conversation. Type:on_chat_model_stream. Name:ChatOpenAI\n",
      "Node:conversation. Type:on_chat_model_stream. Name:ChatOpenAI\n",
      "Node:conversation. Type:on_chat_model_stream. Name:ChatOpenAI\n",
      "Node:conversation. Type:on_chat_model_stream. Name:ChatOpenAI\n",
      "Node:conversation. Type:on_chat_model_stream. Name:ChatOpenAI\n",
      "Node:conversation. Type:on_chat_model_stream. Name:ChatOpenAI\n",
      "Node:conversation. Type:on_chat_model_stream. Name:ChatOpenAI\n",
      "Node:conversation. Type:on_chat_model_stream. Name:ChatOpenAI\n",
      "Node:conversation. Type:on_chat_model_stream. Name:ChatOpenAI\n",
      "Node:conversation. Type:on_chat_model_stream. Name:ChatOpenAI\n",
      "Node:conversation. Type:on_chat_model_stream. Name:ChatOpenAI\n",
      "Node:conversation. Type:on_chat_model_stream. Name:ChatOpenAI\n",
      "Node:conversation. Type:on_chat_model_stream. Name:ChatOpenAI\n",
      "Node:conversation. Type:on_chat_model_stream. Name:ChatOpenAI\n",
      "Node:conversation. Type:on_chat_model_stream. Name:ChatOpenAI\n",
      "Node:conversation. Type:on_chat_model_stream. Name:ChatOpenAI\n",
      "Node:conversation. Type:on_chat_model_stream. Name:ChatOpenAI\n",
      "Node:conversation. Type:on_chat_model_stream. Name:ChatOpenAI\n",
      "Node:conversation. Type:on_chat_model_stream. Name:ChatOpenAI\n",
      "Node:conversation. Type:on_chat_model_stream. Name:ChatOpenAI\n",
      "Node:conversation. Type:on_chat_model_stream. Name:ChatOpenAI\n",
      "Node:conversation. Type:on_chat_model_stream. Name:ChatOpenAI\n",
      "Node:conversation. Type:on_chat_model_stream. Name:ChatOpenAI\n",
      "Node:conversation. Type:on_chat_model_stream. Name:ChatOpenAI\n",
      "Node:conversation. Type:on_chat_model_stream. Name:ChatOpenAI\n",
      "Node:conversation. Type:on_chat_model_stream. Name:ChatOpenAI\n",
      "Node:conversation. Type:on_chat_model_stream. Name:ChatOpenAI\n",
      "Node:conversation. Type:on_chat_model_stream. Name:ChatOpenAI\n",
      "Node:conversation. Type:on_chat_model_stream. Name:ChatOpenAI\n",
      "Node:conversation. Type:on_chat_model_stream. Name:ChatOpenAI\n",
      "Node:conversation. Type:on_chat_model_stream. Name:ChatOpenAI\n",
      "Node:conversation. Type:on_chat_model_stream. Name:ChatOpenAI\n",
      "Node:conversation. Type:on_chat_model_stream. Name:ChatOpenAI\n",
      "Node:conversation. Type:on_chat_model_stream. Name:ChatOpenAI\n",
      "Node:conversation. Type:on_chat_model_stream. Name:ChatOpenAI\n",
      "Node:conversation. Type:on_chat_model_stream. Name:ChatOpenAI\n",
      "Node:conversation. Type:on_chat_model_stream. Name:ChatOpenAI\n",
      "Node:conversation. Type:on_chat_model_stream. Name:ChatOpenAI\n",
      "Node:conversation. Type:on_chat_model_stream. Name:ChatOpenAI\n",
      "Node:conversation. Type:on_chat_model_stream. Name:ChatOpenAI\n",
      "Node:conversation. Type:on_chat_model_stream. Name:ChatOpenAI\n",
      "Node:conversation. Type:on_chat_model_stream. Name:ChatOpenAI\n",
      "Node:conversation. Type:on_chat_model_stream. Name:ChatOpenAI\n",
      "Node:conversation. Type:on_chat_model_stream. Name:ChatOpenAI\n",
      "Node:conversation. Type:on_chat_model_stream. Name:ChatOpenAI\n",
      "Node:conversation. Type:on_chat_model_stream. Name:ChatOpenAI\n",
      "Node:conversation. Type:on_chat_model_stream. Name:ChatOpenAI\n",
      "Node:conversation. Type:on_chat_model_stream. Name:ChatOpenAI\n",
      "Node:conversation. Type:on_chat_model_stream. Name:ChatOpenAI\n",
      "Node:conversation. Type:on_chat_model_stream. Name:ChatOpenAI\n",
      "Node:conversation. Type:on_chat_model_stream. Name:ChatOpenAI\n",
      "Node:conversation. Type:on_chat_model_stream. Name:ChatOpenAI\n",
      "Node:conversation. Type:on_chat_model_stream. Name:ChatOpenAI\n",
      "Node:conversation. Type:on_chat_model_stream. Name:ChatOpenAI\n",
      "Node:conversation. Type:on_chat_model_stream. Name:ChatOpenAI\n",
      "Node:conversation. Type:on_chat_model_stream. Name:ChatOpenAI\n",
      "Node:conversation. Type:on_chat_model_stream. Name:ChatOpenAI\n",
      "Node:conversation. Type:on_chat_model_stream. Name:ChatOpenAI\n",
      "Node:conversation. Type:on_chat_model_stream. Name:ChatOpenAI\n",
      "Node:conversation. Type:on_chat_model_stream. Name:ChatOpenAI\n",
      "Node:conversation. Type:on_chat_model_stream. Name:ChatOpenAI\n",
      "Node:conversation. Type:on_chat_model_stream. Name:ChatOpenAI\n",
      "Node:conversation. Type:on_chat_model_stream. Name:ChatOpenAI\n",
      "Node:conversation. Type:on_chat_model_stream. Name:ChatOpenAI\n",
      "Node:conversation. Type:on_chat_model_stream. Name:ChatOpenAI\n",
      "Node:conversation. Type:on_chat_model_stream. Name:ChatOpenAI\n",
      "Node:conversation. Type:on_chat_model_stream. Name:ChatOpenAI\n",
      "Node:conversation. Type:on_chat_model_stream. Name:ChatOpenAI\n",
      "Node:conversation. Type:on_chat_model_stream. Name:ChatOpenAI\n",
      "Node:conversation. Type:on_chat_model_stream. Name:ChatOpenAI\n",
      "Node:conversation. Type:on_chat_model_stream. Name:ChatOpenAI\n",
      "Node:conversation. Type:on_chat_model_stream. Name:ChatOpenAI\n",
      "Node:conversation. Type:on_chat_model_stream. Name:ChatOpenAI\n",
      "Node:conversation. Type:on_chat_model_stream. Name:ChatOpenAI\n",
      "Node:conversation. Type:on_chat_model_stream. Name:ChatOpenAI\n",
      "Node:conversation. Type:on_chat_model_stream. Name:ChatOpenAI\n",
      "Node:conversation. Type:on_chat_model_stream. Name:ChatOpenAI\n",
      "Node:conversation. Type:on_chat_model_stream. Name:ChatOpenAI\n",
      "Node:conversation. Type:on_chat_model_stream. Name:ChatOpenAI\n",
      "Node:conversation. Type:on_chat_model_stream. Name:ChatOpenAI\n",
      "Node:conversation. Type:on_chat_model_stream. Name:ChatOpenAI\n",
      "Node:conversation. Type:on_chat_model_stream. Name:ChatOpenAI\n",
      "Node:conversation. Type:on_chat_model_stream. Name:ChatOpenAI\n",
      "Node:conversation. Type:on_chat_model_stream. Name:ChatOpenAI\n",
      "Node:conversation. Type:on_chat_model_stream. Name:ChatOpenAI\n",
      "Node:conversation. Type:on_chat_model_stream. Name:ChatOpenAI\n",
      "Node:conversation. Type:on_chat_model_stream. Name:ChatOpenAI\n",
      "Node:conversation. Type:on_chat_model_stream. Name:ChatOpenAI\n",
      "Node:conversation. Type:on_chat_model_stream. Name:ChatOpenAI\n",
      "Node:conversation. Type:on_chat_model_stream. Name:ChatOpenAI\n",
      "Node:conversation. Type:on_chat_model_stream. Name:ChatOpenAI\n",
      "Node:conversation. Type:on_chat_model_stream. Name:ChatOpenAI\n",
      "Node:conversation. Type:on_chat_model_stream. Name:ChatOpenAI\n",
      "Node:conversation. Type:on_chat_model_stream. Name:ChatOpenAI\n",
      "Node:conversation. Type:on_chat_model_stream. Name:ChatOpenAI\n",
      "Node:conversation. Type:on_chat_model_stream. Name:ChatOpenAI\n",
      "Node:conversation. Type:on_chat_model_stream. Name:ChatOpenAI\n",
      "Node:conversation. Type:on_chat_model_stream. Name:ChatOpenAI\n",
      "Node:conversation. Type:on_chat_model_stream. Name:ChatOpenAI\n",
      "Node:conversation. Type:on_chat_model_stream. Name:ChatOpenAI\n",
      "Node:conversation. Type:on_chat_model_stream. Name:ChatOpenAI\n",
      "Node:conversation. Type:on_chat_model_stream. Name:ChatOpenAI\n",
      "Node:conversation. Type:on_chat_model_stream. Name:ChatOpenAI\n",
      "Node:conversation. Type:on_chat_model_stream. Name:ChatOpenAI\n",
      "Node:conversation. Type:on_chat_model_stream. Name:ChatOpenAI\n",
      "Node:conversation. Type:on_chat_model_stream. Name:ChatOpenAI\n",
      "Node:conversation. Type:on_chat_model_end. Name:ChatOpenAI\n",
      "Node:conversation. Type:on_chain_start. Name:_write\n",
      "Node:conversation. Type:on_chain_end. Name:_write\n",
      "Node:conversation. Type:on_chain_start. Name:should_continue\n",
      "Node:conversation. Type:on_chain_end. Name:should_continue\n",
      "Node:conversation. Type:on_chain_stream. Name:conversation\n",
      "Node:conversation. Type:on_chain_end. Name:conversation\n",
      "Node:. Type:on_chain_stream. Name:LangGraph\n",
      "Node:. Type:on_chain_end. Name:LangGraph\n"
     ]
    }
   ],
   "source": [
    "config = {'configurable':{'thread_id':3}}\n",
    "input_message = HumanMessage(content='Tell me about csk')\n",
    "async for event in graph.astream_events({'messages':input_message}, config=config, version='v2'):\n",
    "    print(f\"Node:{event['metadata'].get('langgraph_node', '')}. Type:{event['event']}. Name:{event['name']}\")"
   ]
  },
  {
   "cell_type": "code",
   "execution_count": 11,
   "id": "b4834624",
   "metadata": {},
   "outputs": [
    {
     "name": "stdout",
     "output_type": "stream",
     "text": [
      "{'chunk': AIMessageChunk(content='', additional_kwargs={}, response_metadata={}, id='run-0743dd82-c833-463e-9872-961516e47c5a')}\n",
      "{'chunk': AIMessageChunk(content='The', additional_kwargs={}, response_metadata={}, id='run-0743dd82-c833-463e-9872-961516e47c5a')}\n",
      "{'chunk': AIMessageChunk(content=' Mumbai', additional_kwargs={}, response_metadata={}, id='run-0743dd82-c833-463e-9872-961516e47c5a')}\n",
      "{'chunk': AIMessageChunk(content=' Indians', additional_kwargs={}, response_metadata={}, id='run-0743dd82-c833-463e-9872-961516e47c5a')}\n",
      "{'chunk': AIMessageChunk(content=' (', additional_kwargs={}, response_metadata={}, id='run-0743dd82-c833-463e-9872-961516e47c5a')}\n",
      "{'chunk': AIMessageChunk(content='MI', additional_kwargs={}, response_metadata={}, id='run-0743dd82-c833-463e-9872-961516e47c5a')}\n",
      "{'chunk': AIMessageChunk(content=')', additional_kwargs={}, response_metadata={}, id='run-0743dd82-c833-463e-9872-961516e47c5a')}\n",
      "{'chunk': AIMessageChunk(content=' are', additional_kwargs={}, response_metadata={}, id='run-0743dd82-c833-463e-9872-961516e47c5a')}\n",
      "{'chunk': AIMessageChunk(content=' a', additional_kwargs={}, response_metadata={}, id='run-0743dd82-c833-463e-9872-961516e47c5a')}\n",
      "{'chunk': AIMessageChunk(content=' professional', additional_kwargs={}, response_metadata={}, id='run-0743dd82-c833-463e-9872-961516e47c5a')}\n",
      "{'chunk': AIMessageChunk(content=' cricket', additional_kwargs={}, response_metadata={}, id='run-0743dd82-c833-463e-9872-961516e47c5a')}\n",
      "{'chunk': AIMessageChunk(content=' franchise', additional_kwargs={}, response_metadata={}, id='run-0743dd82-c833-463e-9872-961516e47c5a')}\n",
      "{'chunk': AIMessageChunk(content=' based', additional_kwargs={}, response_metadata={}, id='run-0743dd82-c833-463e-9872-961516e47c5a')}\n",
      "{'chunk': AIMessageChunk(content=' in', additional_kwargs={}, response_metadata={}, id='run-0743dd82-c833-463e-9872-961516e47c5a')}\n",
      "{'chunk': AIMessageChunk(content=' Mumbai', additional_kwargs={}, response_metadata={}, id='run-0743dd82-c833-463e-9872-961516e47c5a')}\n",
      "{'chunk': AIMessageChunk(content=',', additional_kwargs={}, response_metadata={}, id='run-0743dd82-c833-463e-9872-961516e47c5a')}\n",
      "{'chunk': AIMessageChunk(content=' Maharashtra', additional_kwargs={}, response_metadata={}, id='run-0743dd82-c833-463e-9872-961516e47c5a')}\n",
      "{'chunk': AIMessageChunk(content=',', additional_kwargs={}, response_metadata={}, id='run-0743dd82-c833-463e-9872-961516e47c5a')}\n",
      "{'chunk': AIMessageChunk(content=' India', additional_kwargs={}, response_metadata={}, id='run-0743dd82-c833-463e-9872-961516e47c5a')}\n",
      "{'chunk': AIMessageChunk(content=',', additional_kwargs={}, response_metadata={}, id='run-0743dd82-c833-463e-9872-961516e47c5a')}\n",
      "{'chunk': AIMessageChunk(content=' that', additional_kwargs={}, response_metadata={}, id='run-0743dd82-c833-463e-9872-961516e47c5a')}\n",
      "{'chunk': AIMessageChunk(content=' compet', additional_kwargs={}, response_metadata={}, id='run-0743dd82-c833-463e-9872-961516e47c5a')}\n",
      "{'chunk': AIMessageChunk(content='es', additional_kwargs={}, response_metadata={}, id='run-0743dd82-c833-463e-9872-961516e47c5a')}\n",
      "{'chunk': AIMessageChunk(content=' in', additional_kwargs={}, response_metadata={}, id='run-0743dd82-c833-463e-9872-961516e47c5a')}\n",
      "{'chunk': AIMessageChunk(content=' the', additional_kwargs={}, response_metadata={}, id='run-0743dd82-c833-463e-9872-961516e47c5a')}\n",
      "{'chunk': AIMessageChunk(content=' Indian', additional_kwargs={}, response_metadata={}, id='run-0743dd82-c833-463e-9872-961516e47c5a')}\n",
      "{'chunk': AIMessageChunk(content=' Premier', additional_kwargs={}, response_metadata={}, id='run-0743dd82-c833-463e-9872-961516e47c5a')}\n",
      "{'chunk': AIMessageChunk(content=' League', additional_kwargs={}, response_metadata={}, id='run-0743dd82-c833-463e-9872-961516e47c5a')}\n",
      "{'chunk': AIMessageChunk(content=' (', additional_kwargs={}, response_metadata={}, id='run-0743dd82-c833-463e-9872-961516e47c5a')}\n",
      "{'chunk': AIMessageChunk(content='IPL', additional_kwargs={}, response_metadata={}, id='run-0743dd82-c833-463e-9872-961516e47c5a')}\n",
      "{'chunk': AIMessageChunk(content=').', additional_kwargs={}, response_metadata={}, id='run-0743dd82-c833-463e-9872-961516e47c5a')}\n",
      "{'chunk': AIMessageChunk(content=' Established', additional_kwargs={}, response_metadata={}, id='run-0743dd82-c833-463e-9872-961516e47c5a')}\n",
      "{'chunk': AIMessageChunk(content=' in', additional_kwargs={}, response_metadata={}, id='run-0743dd82-c833-463e-9872-961516e47c5a')}\n",
      "{'chunk': AIMessageChunk(content=' ', additional_kwargs={}, response_metadata={}, id='run-0743dd82-c833-463e-9872-961516e47c5a')}\n",
      "{'chunk': AIMessageChunk(content='200', additional_kwargs={}, response_metadata={}, id='run-0743dd82-c833-463e-9872-961516e47c5a')}\n",
      "{'chunk': AIMessageChunk(content='8', additional_kwargs={}, response_metadata={}, id='run-0743dd82-c833-463e-9872-961516e47c5a')}\n",
      "{'chunk': AIMessageChunk(content=',', additional_kwargs={}, response_metadata={}, id='run-0743dd82-c833-463e-9872-961516e47c5a')}\n",
      "{'chunk': AIMessageChunk(content=' the', additional_kwargs={}, response_metadata={}, id='run-0743dd82-c833-463e-9872-961516e47c5a')}\n",
      "{'chunk': AIMessageChunk(content=' team', additional_kwargs={}, response_metadata={}, id='run-0743dd82-c833-463e-9872-961516e47c5a')}\n",
      "{'chunk': AIMessageChunk(content=' is', additional_kwargs={}, response_metadata={}, id='run-0743dd82-c833-463e-9872-961516e47c5a')}\n",
      "{'chunk': AIMessageChunk(content=' one', additional_kwargs={}, response_metadata={}, id='run-0743dd82-c833-463e-9872-961516e47c5a')}\n",
      "{'chunk': AIMessageChunk(content=' of', additional_kwargs={}, response_metadata={}, id='run-0743dd82-c833-463e-9872-961516e47c5a')}\n",
      "{'chunk': AIMessageChunk(content=' the', additional_kwargs={}, response_metadata={}, id='run-0743dd82-c833-463e-9872-961516e47c5a')}\n",
      "{'chunk': AIMessageChunk(content=' most', additional_kwargs={}, response_metadata={}, id='run-0743dd82-c833-463e-9872-961516e47c5a')}\n",
      "{'chunk': AIMessageChunk(content=' successful', additional_kwargs={}, response_metadata={}, id='run-0743dd82-c833-463e-9872-961516e47c5a')}\n",
      "{'chunk': AIMessageChunk(content=' franchises', additional_kwargs={}, response_metadata={}, id='run-0743dd82-c833-463e-9872-961516e47c5a')}\n",
      "{'chunk': AIMessageChunk(content=' in', additional_kwargs={}, response_metadata={}, id='run-0743dd82-c833-463e-9872-961516e47c5a')}\n",
      "{'chunk': AIMessageChunk(content=' the', additional_kwargs={}, response_metadata={}, id='run-0743dd82-c833-463e-9872-961516e47c5a')}\n",
      "{'chunk': AIMessageChunk(content=' league', additional_kwargs={}, response_metadata={}, id='run-0743dd82-c833-463e-9872-961516e47c5a')}\n",
      "{'chunk': AIMessageChunk(content=\"'s\", additional_kwargs={}, response_metadata={}, id='run-0743dd82-c833-463e-9872-961516e47c5a')}\n",
      "{'chunk': AIMessageChunk(content=' history', additional_kwargs={}, response_metadata={}, id='run-0743dd82-c833-463e-9872-961516e47c5a')}\n",
      "{'chunk': AIMessageChunk(content='.', additional_kwargs={}, response_metadata={}, id='run-0743dd82-c833-463e-9872-961516e47c5a')}\n",
      "{'chunk': AIMessageChunk(content=' Here', additional_kwargs={}, response_metadata={}, id='run-0743dd82-c833-463e-9872-961516e47c5a')}\n",
      "{'chunk': AIMessageChunk(content=' are', additional_kwargs={}, response_metadata={}, id='run-0743dd82-c833-463e-9872-961516e47c5a')}\n",
      "{'chunk': AIMessageChunk(content=' some', additional_kwargs={}, response_metadata={}, id='run-0743dd82-c833-463e-9872-961516e47c5a')}\n",
      "{'chunk': AIMessageChunk(content=' key', additional_kwargs={}, response_metadata={}, id='run-0743dd82-c833-463e-9872-961516e47c5a')}\n",
      "{'chunk': AIMessageChunk(content=' points', additional_kwargs={}, response_metadata={}, id='run-0743dd82-c833-463e-9872-961516e47c5a')}\n",
      "{'chunk': AIMessageChunk(content=' about', additional_kwargs={}, response_metadata={}, id='run-0743dd82-c833-463e-9872-961516e47c5a')}\n",
      "{'chunk': AIMessageChunk(content=' the', additional_kwargs={}, response_metadata={}, id='run-0743dd82-c833-463e-9872-961516e47c5a')}\n",
      "{'chunk': AIMessageChunk(content=' Mumbai', additional_kwargs={}, response_metadata={}, id='run-0743dd82-c833-463e-9872-961516e47c5a')}\n",
      "{'chunk': AIMessageChunk(content=' Indians', additional_kwargs={}, response_metadata={}, id='run-0743dd82-c833-463e-9872-961516e47c5a')}\n",
      "{'chunk': AIMessageChunk(content=':\\n\\n', additional_kwargs={}, response_metadata={}, id='run-0743dd82-c833-463e-9872-961516e47c5a')}\n",
      "{'chunk': AIMessageChunk(content='###', additional_kwargs={}, response_metadata={}, id='run-0743dd82-c833-463e-9872-961516e47c5a')}\n",
      "{'chunk': AIMessageChunk(content=' Ownership', additional_kwargs={}, response_metadata={}, id='run-0743dd82-c833-463e-9872-961516e47c5a')}\n",
      "{'chunk': AIMessageChunk(content=' and', additional_kwargs={}, response_metadata={}, id='run-0743dd82-c833-463e-9872-961516e47c5a')}\n",
      "{'chunk': AIMessageChunk(content=' Management', additional_kwargs={}, response_metadata={}, id='run-0743dd82-c833-463e-9872-961516e47c5a')}\n",
      "{'chunk': AIMessageChunk(content='\\n', additional_kwargs={}, response_metadata={}, id='run-0743dd82-c833-463e-9872-961516e47c5a')}\n",
      "{'chunk': AIMessageChunk(content='-', additional_kwargs={}, response_metadata={}, id='run-0743dd82-c833-463e-9872-961516e47c5a')}\n",
      "{'chunk': AIMessageChunk(content=' **', additional_kwargs={}, response_metadata={}, id='run-0743dd82-c833-463e-9872-961516e47c5a')}\n",
      "{'chunk': AIMessageChunk(content='Owner', additional_kwargs={}, response_metadata={}, id='run-0743dd82-c833-463e-9872-961516e47c5a')}\n",
      "{'chunk': AIMessageChunk(content='**', additional_kwargs={}, response_metadata={}, id='run-0743dd82-c833-463e-9872-961516e47c5a')}\n",
      "{'chunk': AIMessageChunk(content=':', additional_kwargs={}, response_metadata={}, id='run-0743dd82-c833-463e-9872-961516e47c5a')}\n",
      "{'chunk': AIMessageChunk(content=' The', additional_kwargs={}, response_metadata={}, id='run-0743dd82-c833-463e-9872-961516e47c5a')}\n",
      "{'chunk': AIMessageChunk(content=' franchise', additional_kwargs={}, response_metadata={}, id='run-0743dd82-c833-463e-9872-961516e47c5a')}\n",
      "{'chunk': AIMessageChunk(content=' is', additional_kwargs={}, response_metadata={}, id='run-0743dd82-c833-463e-9872-961516e47c5a')}\n",
      "{'chunk': AIMessageChunk(content=' owned', additional_kwargs={}, response_metadata={}, id='run-0743dd82-c833-463e-9872-961516e47c5a')}\n",
      "{'chunk': AIMessageChunk(content=' by', additional_kwargs={}, response_metadata={}, id='run-0743dd82-c833-463e-9872-961516e47c5a')}\n",
      "{'chunk': AIMessageChunk(content=' Reli', additional_kwargs={}, response_metadata={}, id='run-0743dd82-c833-463e-9872-961516e47c5a')}\n",
      "{'chunk': AIMessageChunk(content='ance', additional_kwargs={}, response_metadata={}, id='run-0743dd82-c833-463e-9872-961516e47c5a')}\n",
      "{'chunk': AIMessageChunk(content=' Industries', additional_kwargs={}, response_metadata={}, id='run-0743dd82-c833-463e-9872-961516e47c5a')}\n",
      "{'chunk': AIMessageChunk(content=',', additional_kwargs={}, response_metadata={}, id='run-0743dd82-c833-463e-9872-961516e47c5a')}\n",
      "{'chunk': AIMessageChunk(content=' led', additional_kwargs={}, response_metadata={}, id='run-0743dd82-c833-463e-9872-961516e47c5a')}\n",
      "{'chunk': AIMessageChunk(content=' by', additional_kwargs={}, response_metadata={}, id='run-0743dd82-c833-463e-9872-961516e47c5a')}\n",
      "{'chunk': AIMessageChunk(content=' Muk', additional_kwargs={}, response_metadata={}, id='run-0743dd82-c833-463e-9872-961516e47c5a')}\n",
      "{'chunk': AIMessageChunk(content='esh', additional_kwargs={}, response_metadata={}, id='run-0743dd82-c833-463e-9872-961516e47c5a')}\n",
      "{'chunk': AIMessageChunk(content=' Amb', additional_kwargs={}, response_metadata={}, id='run-0743dd82-c833-463e-9872-961516e47c5a')}\n",
      "{'chunk': AIMessageChunk(content='ani', additional_kwargs={}, response_metadata={}, id='run-0743dd82-c833-463e-9872-961516e47c5a')}\n",
      "{'chunk': AIMessageChunk(content='.\\n', additional_kwargs={}, response_metadata={}, id='run-0743dd82-c833-463e-9872-961516e47c5a')}\n",
      "{'chunk': AIMessageChunk(content='-', additional_kwargs={}, response_metadata={}, id='run-0743dd82-c833-463e-9872-961516e47c5a')}\n",
      "{'chunk': AIMessageChunk(content=' **', additional_kwargs={}, response_metadata={}, id='run-0743dd82-c833-463e-9872-961516e47c5a')}\n",
      "{'chunk': AIMessageChunk(content='Management', additional_kwargs={}, response_metadata={}, id='run-0743dd82-c833-463e-9872-961516e47c5a')}\n",
      "{'chunk': AIMessageChunk(content='**', additional_kwargs={}, response_metadata={}, id='run-0743dd82-c833-463e-9872-961516e47c5a')}\n",
      "{'chunk': AIMessageChunk(content=':', additional_kwargs={}, response_metadata={}, id='run-0743dd82-c833-463e-9872-961516e47c5a')}\n",
      "{'chunk': AIMessageChunk(content=' The', additional_kwargs={}, response_metadata={}, id='run-0743dd82-c833-463e-9872-961516e47c5a')}\n",
      "{'chunk': AIMessageChunk(content=' team', additional_kwargs={}, response_metadata={}, id='run-0743dd82-c833-463e-9872-961516e47c5a')}\n",
      "{'chunk': AIMessageChunk(content=' has', additional_kwargs={}, response_metadata={}, id='run-0743dd82-c833-463e-9872-961516e47c5a')}\n",
      "{'chunk': AIMessageChunk(content=' seen', additional_kwargs={}, response_metadata={}, id='run-0743dd82-c833-463e-9872-961516e47c5a')}\n",
      "{'chunk': AIMessageChunk(content=' various', additional_kwargs={}, response_metadata={}, id='run-0743dd82-c833-463e-9872-961516e47c5a')}\n",
      "{'chunk': AIMessageChunk(content=' coaches', additional_kwargs={}, response_metadata={}, id='run-0743dd82-c833-463e-9872-961516e47c5a')}\n",
      "{'chunk': AIMessageChunk(content=' and', additional_kwargs={}, response_metadata={}, id='run-0743dd82-c833-463e-9872-961516e47c5a')}\n",
      "{'chunk': AIMessageChunk(content=' support', additional_kwargs={}, response_metadata={}, id='run-0743dd82-c833-463e-9872-961516e47c5a')}\n",
      "{'chunk': AIMessageChunk(content=' staff', additional_kwargs={}, response_metadata={}, id='run-0743dd82-c833-463e-9872-961516e47c5a')}\n",
      "{'chunk': AIMessageChunk(content=' over', additional_kwargs={}, response_metadata={}, id='run-0743dd82-c833-463e-9872-961516e47c5a')}\n",
      "{'chunk': AIMessageChunk(content=' the', additional_kwargs={}, response_metadata={}, id='run-0743dd82-c833-463e-9872-961516e47c5a')}\n",
      "{'chunk': AIMessageChunk(content=' years', additional_kwargs={}, response_metadata={}, id='run-0743dd82-c833-463e-9872-961516e47c5a')}\n",
      "{'chunk': AIMessageChunk(content=',', additional_kwargs={}, response_metadata={}, id='run-0743dd82-c833-463e-9872-961516e47c5a')}\n",
      "{'chunk': AIMessageChunk(content=' with', additional_kwargs={}, response_metadata={}, id='run-0743dd82-c833-463e-9872-961516e47c5a')}\n",
      "{'chunk': AIMessageChunk(content=' notable', additional_kwargs={}, response_metadata={}, id='run-0743dd82-c833-463e-9872-961516e47c5a')}\n",
      "{'chunk': AIMessageChunk(content=' figures', additional_kwargs={}, response_metadata={}, id='run-0743dd82-c833-463e-9872-961516e47c5a')}\n",
      "{'chunk': AIMessageChunk(content=' like', additional_kwargs={}, response_metadata={}, id='run-0743dd82-c833-463e-9872-961516e47c5a')}\n",
      "{'chunk': AIMessageChunk(content=' Ricky', additional_kwargs={}, response_metadata={}, id='run-0743dd82-c833-463e-9872-961516e47c5a')}\n",
      "{'chunk': AIMessageChunk(content=' Pont', additional_kwargs={}, response_metadata={}, id='run-0743dd82-c833-463e-9872-961516e47c5a')}\n",
      "{'chunk': AIMessageChunk(content='ing', additional_kwargs={}, response_metadata={}, id='run-0743dd82-c833-463e-9872-961516e47c5a')}\n",
      "{'chunk': AIMessageChunk(content=' serving', additional_kwargs={}, response_metadata={}, id='run-0743dd82-c833-463e-9872-961516e47c5a')}\n",
      "{'chunk': AIMessageChunk(content=' as', additional_kwargs={}, response_metadata={}, id='run-0743dd82-c833-463e-9872-961516e47c5a')}\n",
      "{'chunk': AIMessageChunk(content=' head', additional_kwargs={}, response_metadata={}, id='run-0743dd82-c833-463e-9872-961516e47c5a')}\n",
      "{'chunk': AIMessageChunk(content=' coach', additional_kwargs={}, response_metadata={}, id='run-0743dd82-c833-463e-9872-961516e47c5a')}\n",
      "{'chunk': AIMessageChunk(content='.\\n\\n', additional_kwargs={}, response_metadata={}, id='run-0743dd82-c833-463e-9872-961516e47c5a')}\n",
      "{'chunk': AIMessageChunk(content='###', additional_kwargs={}, response_metadata={}, id='run-0743dd82-c833-463e-9872-961516e47c5a')}\n",
      "{'chunk': AIMessageChunk(content=' Ach', additional_kwargs={}, response_metadata={}, id='run-0743dd82-c833-463e-9872-961516e47c5a')}\n",
      "{'chunk': AIMessageChunk(content='ievements', additional_kwargs={}, response_metadata={}, id='run-0743dd82-c833-463e-9872-961516e47c5a')}\n",
      "{'chunk': AIMessageChunk(content='\\n', additional_kwargs={}, response_metadata={}, id='run-0743dd82-c833-463e-9872-961516e47c5a')}\n",
      "{'chunk': AIMessageChunk(content='-', additional_kwargs={}, response_metadata={}, id='run-0743dd82-c833-463e-9872-961516e47c5a')}\n",
      "{'chunk': AIMessageChunk(content=' **', additional_kwargs={}, response_metadata={}, id='run-0743dd82-c833-463e-9872-961516e47c5a')}\n",
      "{'chunk': AIMessageChunk(content='IPL', additional_kwargs={}, response_metadata={}, id='run-0743dd82-c833-463e-9872-961516e47c5a')}\n",
      "{'chunk': AIMessageChunk(content=' Championships', additional_kwargs={}, response_metadata={}, id='run-0743dd82-c833-463e-9872-961516e47c5a')}\n",
      "{'chunk': AIMessageChunk(content='**', additional_kwargs={}, response_metadata={}, id='run-0743dd82-c833-463e-9872-961516e47c5a')}\n",
      "{'chunk': AIMessageChunk(content=':', additional_kwargs={}, response_metadata={}, id='run-0743dd82-c833-463e-9872-961516e47c5a')}\n",
      "{'chunk': AIMessageChunk(content=' The', additional_kwargs={}, response_metadata={}, id='run-0743dd82-c833-463e-9872-961516e47c5a')}\n",
      "{'chunk': AIMessageChunk(content=' Mumbai', additional_kwargs={}, response_metadata={}, id='run-0743dd82-c833-463e-9872-961516e47c5a')}\n",
      "{'chunk': AIMessageChunk(content=' Indians', additional_kwargs={}, response_metadata={}, id='run-0743dd82-c833-463e-9872-961516e47c5a')}\n",
      "{'chunk': AIMessageChunk(content=' have', additional_kwargs={}, response_metadata={}, id='run-0743dd82-c833-463e-9872-961516e47c5a')}\n",
      "{'chunk': AIMessageChunk(content=' won', additional_kwargs={}, response_metadata={}, id='run-0743dd82-c833-463e-9872-961516e47c5a')}\n",
      "{'chunk': AIMessageChunk(content=' the', additional_kwargs={}, response_metadata={}, id='run-0743dd82-c833-463e-9872-961516e47c5a')}\n",
      "{'chunk': AIMessageChunk(content=' IPL', additional_kwargs={}, response_metadata={}, id='run-0743dd82-c833-463e-9872-961516e47c5a')}\n",
      "{'chunk': AIMessageChunk(content=' title', additional_kwargs={}, response_metadata={}, id='run-0743dd82-c833-463e-9872-961516e47c5a')}\n",
      "{'chunk': AIMessageChunk(content=' multiple', additional_kwargs={}, response_metadata={}, id='run-0743dd82-c833-463e-9872-961516e47c5a')}\n",
      "{'chunk': AIMessageChunk(content=' times', additional_kwargs={}, response_metadata={}, id='run-0743dd82-c833-463e-9872-961516e47c5a')}\n",
      "{'chunk': AIMessageChunk(content=',', additional_kwargs={}, response_metadata={}, id='run-0743dd82-c833-463e-9872-961516e47c5a')}\n",
      "{'chunk': AIMessageChunk(content=' with', additional_kwargs={}, response_metadata={}, id='run-0743dd82-c833-463e-9872-961516e47c5a')}\n",
      "{'chunk': AIMessageChunk(content=' their', additional_kwargs={}, response_metadata={}, id='run-0743dd82-c833-463e-9872-961516e47c5a')}\n",
      "{'chunk': AIMessageChunk(content=' victories', additional_kwargs={}, response_metadata={}, id='run-0743dd82-c833-463e-9872-961516e47c5a')}\n",
      "{'chunk': AIMessageChunk(content=' coming', additional_kwargs={}, response_metadata={}, id='run-0743dd82-c833-463e-9872-961516e47c5a')}\n",
      "{'chunk': AIMessageChunk(content=' in', additional_kwargs={}, response_metadata={}, id='run-0743dd82-c833-463e-9872-961516e47c5a')}\n",
      "{'chunk': AIMessageChunk(content=' ', additional_kwargs={}, response_metadata={}, id='run-0743dd82-c833-463e-9872-961516e47c5a')}\n",
      "{'chunk': AIMessageChunk(content='201', additional_kwargs={}, response_metadata={}, id='run-0743dd82-c833-463e-9872-961516e47c5a')}\n",
      "{'chunk': AIMessageChunk(content='3', additional_kwargs={}, response_metadata={}, id='run-0743dd82-c833-463e-9872-961516e47c5a')}\n",
      "{'chunk': AIMessageChunk(content=',', additional_kwargs={}, response_metadata={}, id='run-0743dd82-c833-463e-9872-961516e47c5a')}\n",
      "{'chunk': AIMessageChunk(content=' ', additional_kwargs={}, response_metadata={}, id='run-0743dd82-c833-463e-9872-961516e47c5a')}\n",
      "{'chunk': AIMessageChunk(content='201', additional_kwargs={}, response_metadata={}, id='run-0743dd82-c833-463e-9872-961516e47c5a')}\n",
      "{'chunk': AIMessageChunk(content='5', additional_kwargs={}, response_metadata={}, id='run-0743dd82-c833-463e-9872-961516e47c5a')}\n",
      "{'chunk': AIMessageChunk(content=',', additional_kwargs={}, response_metadata={}, id='run-0743dd82-c833-463e-9872-961516e47c5a')}\n",
      "{'chunk': AIMessageChunk(content=' ', additional_kwargs={}, response_metadata={}, id='run-0743dd82-c833-463e-9872-961516e47c5a')}\n",
      "{'chunk': AIMessageChunk(content='201', additional_kwargs={}, response_metadata={}, id='run-0743dd82-c833-463e-9872-961516e47c5a')}\n",
      "{'chunk': AIMessageChunk(content='7', additional_kwargs={}, response_metadata={}, id='run-0743dd82-c833-463e-9872-961516e47c5a')}\n",
      "{'chunk': AIMessageChunk(content=',', additional_kwargs={}, response_metadata={}, id='run-0743dd82-c833-463e-9872-961516e47c5a')}\n",
      "{'chunk': AIMessageChunk(content=' ', additional_kwargs={}, response_metadata={}, id='run-0743dd82-c833-463e-9872-961516e47c5a')}\n",
      "{'chunk': AIMessageChunk(content='201', additional_kwargs={}, response_metadata={}, id='run-0743dd82-c833-463e-9872-961516e47c5a')}\n",
      "{'chunk': AIMessageChunk(content='9', additional_kwargs={}, response_metadata={}, id='run-0743dd82-c833-463e-9872-961516e47c5a')}\n",
      "{'chunk': AIMessageChunk(content=',', additional_kwargs={}, response_metadata={}, id='run-0743dd82-c833-463e-9872-961516e47c5a')}\n",
      "{'chunk': AIMessageChunk(content=' and', additional_kwargs={}, response_metadata={}, id='run-0743dd82-c833-463e-9872-961516e47c5a')}\n",
      "{'chunk': AIMessageChunk(content=' ', additional_kwargs={}, response_metadata={}, id='run-0743dd82-c833-463e-9872-961516e47c5a')}\n",
      "{'chunk': AIMessageChunk(content='202', additional_kwargs={}, response_metadata={}, id='run-0743dd82-c833-463e-9872-961516e47c5a')}\n",
      "{'chunk': AIMessageChunk(content='0', additional_kwargs={}, response_metadata={}, id='run-0743dd82-c833-463e-9872-961516e47c5a')}\n",
      "{'chunk': AIMessageChunk(content='.', additional_kwargs={}, response_metadata={}, id='run-0743dd82-c833-463e-9872-961516e47c5a')}\n",
      "{'chunk': AIMessageChunk(content=' They', additional_kwargs={}, response_metadata={}, id='run-0743dd82-c833-463e-9872-961516e47c5a')}\n",
      "{'chunk': AIMessageChunk(content=' were', additional_kwargs={}, response_metadata={}, id='run-0743dd82-c833-463e-9872-961516e47c5a')}\n",
      "{'chunk': AIMessageChunk(content=' the', additional_kwargs={}, response_metadata={}, id='run-0743dd82-c833-463e-9872-961516e47c5a')}\n",
      "{'chunk': AIMessageChunk(content=' first', additional_kwargs={}, response_metadata={}, id='run-0743dd82-c833-463e-9872-961516e47c5a')}\n",
      "{'chunk': AIMessageChunk(content=' team', additional_kwargs={}, response_metadata={}, id='run-0743dd82-c833-463e-9872-961516e47c5a')}\n",
      "{'chunk': AIMessageChunk(content=' to', additional_kwargs={}, response_metadata={}, id='run-0743dd82-c833-463e-9872-961516e47c5a')}\n",
      "{'chunk': AIMessageChunk(content=' win', additional_kwargs={}, response_metadata={}, id='run-0743dd82-c833-463e-9872-961516e47c5a')}\n",
      "{'chunk': AIMessageChunk(content=' the', additional_kwargs={}, response_metadata={}, id='run-0743dd82-c833-463e-9872-961516e47c5a')}\n",
      "{'chunk': AIMessageChunk(content=' tournament', additional_kwargs={}, response_metadata={}, id='run-0743dd82-c833-463e-9872-961516e47c5a')}\n",
      "{'chunk': AIMessageChunk(content=' five', additional_kwargs={}, response_metadata={}, id='run-0743dd82-c833-463e-9872-961516e47c5a')}\n",
      "{'chunk': AIMessageChunk(content=' times', additional_kwargs={}, response_metadata={}, id='run-0743dd82-c833-463e-9872-961516e47c5a')}\n",
      "{'chunk': AIMessageChunk(content='.\\n', additional_kwargs={}, response_metadata={}, id='run-0743dd82-c833-463e-9872-961516e47c5a')}\n",
      "{'chunk': AIMessageChunk(content='-', additional_kwargs={}, response_metadata={}, id='run-0743dd82-c833-463e-9872-961516e47c5a')}\n",
      "{'chunk': AIMessageChunk(content=' **', additional_kwargs={}, response_metadata={}, id='run-0743dd82-c833-463e-9872-961516e47c5a')}\n",
      "{'chunk': AIMessageChunk(content='Champ', additional_kwargs={}, response_metadata={}, id='run-0743dd82-c833-463e-9872-961516e47c5a')}\n",
      "{'chunk': AIMessageChunk(content='ions', additional_kwargs={}, response_metadata={}, id='run-0743dd82-c833-463e-9872-961516e47c5a')}\n",
      "{'chunk': AIMessageChunk(content=' League', additional_kwargs={}, response_metadata={}, id='run-0743dd82-c833-463e-9872-961516e47c5a')}\n",
      "{'chunk': AIMessageChunk(content=' T', additional_kwargs={}, response_metadata={}, id='run-0743dd82-c833-463e-9872-961516e47c5a')}\n",
      "{'chunk': AIMessageChunk(content='20', additional_kwargs={}, response_metadata={}, id='run-0743dd82-c833-463e-9872-961516e47c5a')}\n",
      "{'chunk': AIMessageChunk(content='**', additional_kwargs={}, response_metadata={}, id='run-0743dd82-c833-463e-9872-961516e47c5a')}\n",
      "{'chunk': AIMessageChunk(content=':', additional_kwargs={}, response_metadata={}, id='run-0743dd82-c833-463e-9872-961516e47c5a')}\n",
      "{'chunk': AIMessageChunk(content=' MI', additional_kwargs={}, response_metadata={}, id='run-0743dd82-c833-463e-9872-961516e47c5a')}\n",
      "{'chunk': AIMessageChunk(content=' also', additional_kwargs={}, response_metadata={}, id='run-0743dd82-c833-463e-9872-961516e47c5a')}\n",
      "{'chunk': AIMessageChunk(content=' won', additional_kwargs={}, response_metadata={}, id='run-0743dd82-c833-463e-9872-961516e47c5a')}\n",
      "{'chunk': AIMessageChunk(content=' the', additional_kwargs={}, response_metadata={}, id='run-0743dd82-c833-463e-9872-961516e47c5a')}\n",
      "{'chunk': AIMessageChunk(content=' Champions', additional_kwargs={}, response_metadata={}, id='run-0743dd82-c833-463e-9872-961516e47c5a')}\n",
      "{'chunk': AIMessageChunk(content=' League', additional_kwargs={}, response_metadata={}, id='run-0743dd82-c833-463e-9872-961516e47c5a')}\n",
      "{'chunk': AIMessageChunk(content=' Twenty', additional_kwargs={}, response_metadata={}, id='run-0743dd82-c833-463e-9872-961516e47c5a')}\n",
      "{'chunk': AIMessageChunk(content='20', additional_kwargs={}, response_metadata={}, id='run-0743dd82-c833-463e-9872-961516e47c5a')}\n",
      "{'chunk': AIMessageChunk(content=' in', additional_kwargs={}, response_metadata={}, id='run-0743dd82-c833-463e-9872-961516e47c5a')}\n",
      "{'chunk': AIMessageChunk(content=' ', additional_kwargs={}, response_metadata={}, id='run-0743dd82-c833-463e-9872-961516e47c5a')}\n",
      "{'chunk': AIMessageChunk(content='201', additional_kwargs={}, response_metadata={}, id='run-0743dd82-c833-463e-9872-961516e47c5a')}\n",
      "{'chunk': AIMessageChunk(content='1', additional_kwargs={}, response_metadata={}, id='run-0743dd82-c833-463e-9872-961516e47c5a')}\n",
      "{'chunk': AIMessageChunk(content=' and', additional_kwargs={}, response_metadata={}, id='run-0743dd82-c833-463e-9872-961516e47c5a')}\n",
      "{'chunk': AIMessageChunk(content=' ', additional_kwargs={}, response_metadata={}, id='run-0743dd82-c833-463e-9872-961516e47c5a')}\n",
      "{'chunk': AIMessageChunk(content='201', additional_kwargs={}, response_metadata={}, id='run-0743dd82-c833-463e-9872-961516e47c5a')}\n",
      "{'chunk': AIMessageChunk(content='3', additional_kwargs={}, response_metadata={}, id='run-0743dd82-c833-463e-9872-961516e47c5a')}\n",
      "{'chunk': AIMessageChunk(content='.\\n\\n', additional_kwargs={}, response_metadata={}, id='run-0743dd82-c833-463e-9872-961516e47c5a')}\n",
      "{'chunk': AIMessageChunk(content='###', additional_kwargs={}, response_metadata={}, id='run-0743dd82-c833-463e-9872-961516e47c5a')}\n",
      "{'chunk': AIMessageChunk(content=' Team', additional_kwargs={}, response_metadata={}, id='run-0743dd82-c833-463e-9872-961516e47c5a')}\n",
      "{'chunk': AIMessageChunk(content=' Colors', additional_kwargs={}, response_metadata={}, id='run-0743dd82-c833-463e-9872-961516e47c5a')}\n",
      "{'chunk': AIMessageChunk(content=' and', additional_kwargs={}, response_metadata={}, id='run-0743dd82-c833-463e-9872-961516e47c5a')}\n",
      "{'chunk': AIMessageChunk(content=' Logo', additional_kwargs={}, response_metadata={}, id='run-0743dd82-c833-463e-9872-961516e47c5a')}\n",
      "{'chunk': AIMessageChunk(content='\\n', additional_kwargs={}, response_metadata={}, id='run-0743dd82-c833-463e-9872-961516e47c5a')}\n",
      "{'chunk': AIMessageChunk(content='-', additional_kwargs={}, response_metadata={}, id='run-0743dd82-c833-463e-9872-961516e47c5a')}\n",
      "{'chunk': AIMessageChunk(content=' The', additional_kwargs={}, response_metadata={}, id='run-0743dd82-c833-463e-9872-961516e47c5a')}\n",
      "{'chunk': AIMessageChunk(content=' team', additional_kwargs={}, response_metadata={}, id='run-0743dd82-c833-463e-9872-961516e47c5a')}\n",
      "{'chunk': AIMessageChunk(content=' colors', additional_kwargs={}, response_metadata={}, id='run-0743dd82-c833-463e-9872-961516e47c5a')}\n",
      "{'chunk': AIMessageChunk(content=' are', additional_kwargs={}, response_metadata={}, id='run-0743dd82-c833-463e-9872-961516e47c5a')}\n",
      "{'chunk': AIMessageChunk(content=' blue', additional_kwargs={}, response_metadata={}, id='run-0743dd82-c833-463e-9872-961516e47c5a')}\n",
      "{'chunk': AIMessageChunk(content=' and', additional_kwargs={}, response_metadata={}, id='run-0743dd82-c833-463e-9872-961516e47c5a')}\n",
      "{'chunk': AIMessageChunk(content=' gold', additional_kwargs={}, response_metadata={}, id='run-0743dd82-c833-463e-9872-961516e47c5a')}\n",
      "{'chunk': AIMessageChunk(content=',', additional_kwargs={}, response_metadata={}, id='run-0743dd82-c833-463e-9872-961516e47c5a')}\n",
      "{'chunk': AIMessageChunk(content=' symbol', additional_kwargs={}, response_metadata={}, id='run-0743dd82-c833-463e-9872-961516e47c5a')}\n",
      "{'chunk': AIMessageChunk(content='izing', additional_kwargs={}, response_metadata={}, id='run-0743dd82-c833-463e-9872-961516e47c5a')}\n",
      "{'chunk': AIMessageChunk(content=' the', additional_kwargs={}, response_metadata={}, id='run-0743dd82-c833-463e-9872-961516e47c5a')}\n",
      "{'chunk': AIMessageChunk(content=' city', additional_kwargs={}, response_metadata={}, id='run-0743dd82-c833-463e-9872-961516e47c5a')}\n",
      "{'chunk': AIMessageChunk(content=' of', additional_kwargs={}, response_metadata={}, id='run-0743dd82-c833-463e-9872-961516e47c5a')}\n",
      "{'chunk': AIMessageChunk(content=' Mumbai', additional_kwargs={}, response_metadata={}, id='run-0743dd82-c833-463e-9872-961516e47c5a')}\n",
      "{'chunk': AIMessageChunk(content=' and', additional_kwargs={}, response_metadata={}, id='run-0743dd82-c833-463e-9872-961516e47c5a')}\n",
      "{'chunk': AIMessageChunk(content=' its', additional_kwargs={}, response_metadata={}, id='run-0743dd82-c833-463e-9872-961516e47c5a')}\n",
      "{'chunk': AIMessageChunk(content=' vibrant', additional_kwargs={}, response_metadata={}, id='run-0743dd82-c833-463e-9872-961516e47c5a')}\n",
      "{'chunk': AIMessageChunk(content=' culture', additional_kwargs={}, response_metadata={}, id='run-0743dd82-c833-463e-9872-961516e47c5a')}\n",
      "{'chunk': AIMessageChunk(content='.\\n', additional_kwargs={}, response_metadata={}, id='run-0743dd82-c833-463e-9872-961516e47c5a')}\n",
      "{'chunk': AIMessageChunk(content='-', additional_kwargs={}, response_metadata={}, id='run-0743dd82-c833-463e-9872-961516e47c5a')}\n",
      "{'chunk': AIMessageChunk(content=' The', additional_kwargs={}, response_metadata={}, id='run-0743dd82-c833-463e-9872-961516e47c5a')}\n",
      "{'chunk': AIMessageChunk(content=' logo', additional_kwargs={}, response_metadata={}, id='run-0743dd82-c833-463e-9872-961516e47c5a')}\n",
      "{'chunk': AIMessageChunk(content=' features', additional_kwargs={}, response_metadata={}, id='run-0743dd82-c833-463e-9872-961516e47c5a')}\n",
      "{'chunk': AIMessageChunk(content=' a', additional_kwargs={}, response_metadata={}, id='run-0743dd82-c833-463e-9872-961516e47c5a')}\n",
      "{'chunk': AIMessageChunk(content=' styl', additional_kwargs={}, response_metadata={}, id='run-0743dd82-c833-463e-9872-961516e47c5a')}\n",
      "{'chunk': AIMessageChunk(content='ized', additional_kwargs={}, response_metadata={}, id='run-0743dd82-c833-463e-9872-961516e47c5a')}\n",
      "{'chunk': AIMessageChunk(content=' representation', additional_kwargs={}, response_metadata={}, id='run-0743dd82-c833-463e-9872-961516e47c5a')}\n",
      "{'chunk': AIMessageChunk(content=' of', additional_kwargs={}, response_metadata={}, id='run-0743dd82-c833-463e-9872-961516e47c5a')}\n",
      "{'chunk': AIMessageChunk(content=' a', additional_kwargs={}, response_metadata={}, id='run-0743dd82-c833-463e-9872-961516e47c5a')}\n",
      "{'chunk': AIMessageChunk(content=' \"', additional_kwargs={}, response_metadata={}, id='run-0743dd82-c833-463e-9872-961516e47c5a')}\n",
      "{'chunk': AIMessageChunk(content='w', additional_kwargs={}, response_metadata={}, id='run-0743dd82-c833-463e-9872-961516e47c5a')}\n",
      "{'chunk': AIMessageChunk(content='aving', additional_kwargs={}, response_metadata={}, id='run-0743dd82-c833-463e-9872-961516e47c5a')}\n",
      "{'chunk': AIMessageChunk(content=' flag', additional_kwargs={}, response_metadata={}, id='run-0743dd82-c833-463e-9872-961516e47c5a')}\n",
      "{'chunk': AIMessageChunk(content='\"', additional_kwargs={}, response_metadata={}, id='run-0743dd82-c833-463e-9872-961516e47c5a')}\n",
      "{'chunk': AIMessageChunk(content=' and', additional_kwargs={}, response_metadata={}, id='run-0743dd82-c833-463e-9872-961516e47c5a')}\n",
      "{'chunk': AIMessageChunk(content=' incorporates', additional_kwargs={}, response_metadata={}, id='run-0743dd82-c833-463e-9872-961516e47c5a')}\n",
      "{'chunk': AIMessageChunk(content=' elements', additional_kwargs={}, response_metadata={}, id='run-0743dd82-c833-463e-9872-961516e47c5a')}\n",
      "{'chunk': AIMessageChunk(content=' that', additional_kwargs={}, response_metadata={}, id='run-0743dd82-c833-463e-9872-961516e47c5a')}\n",
      "{'chunk': AIMessageChunk(content=' reflect', additional_kwargs={}, response_metadata={}, id='run-0743dd82-c833-463e-9872-961516e47c5a')}\n",
      "{'chunk': AIMessageChunk(content=' the', additional_kwargs={}, response_metadata={}, id='run-0743dd82-c833-463e-9872-961516e47c5a')}\n",
      "{'chunk': AIMessageChunk(content=' energy', additional_kwargs={}, response_metadata={}, id='run-0743dd82-c833-463e-9872-961516e47c5a')}\n",
      "{'chunk': AIMessageChunk(content=' and', additional_kwargs={}, response_metadata={}, id='run-0743dd82-c833-463e-9872-961516e47c5a')}\n",
      "{'chunk': AIMessageChunk(content=' spirit', additional_kwargs={}, response_metadata={}, id='run-0743dd82-c833-463e-9872-961516e47c5a')}\n",
      "{'chunk': AIMessageChunk(content=' of', additional_kwargs={}, response_metadata={}, id='run-0743dd82-c833-463e-9872-961516e47c5a')}\n",
      "{'chunk': AIMessageChunk(content=' Mumbai', additional_kwargs={}, response_metadata={}, id='run-0743dd82-c833-463e-9872-961516e47c5a')}\n",
      "{'chunk': AIMessageChunk(content='.\\n\\n', additional_kwargs={}, response_metadata={}, id='run-0743dd82-c833-463e-9872-961516e47c5a')}\n",
      "{'chunk': AIMessageChunk(content='###', additional_kwargs={}, response_metadata={}, id='run-0743dd82-c833-463e-9872-961516e47c5a')}\n",
      "{'chunk': AIMessageChunk(content=' Players', additional_kwargs={}, response_metadata={}, id='run-0743dd82-c833-463e-9872-961516e47c5a')}\n",
      "{'chunk': AIMessageChunk(content=' and', additional_kwargs={}, response_metadata={}, id='run-0743dd82-c833-463e-9872-961516e47c5a')}\n",
      "{'chunk': AIMessageChunk(content=' Contributions', additional_kwargs={}, response_metadata={}, id='run-0743dd82-c833-463e-9872-961516e47c5a')}\n",
      "{'chunk': AIMessageChunk(content='\\n', additional_kwargs={}, response_metadata={}, id='run-0743dd82-c833-463e-9872-961516e47c5a')}\n",
      "{'chunk': AIMessageChunk(content='-', additional_kwargs={}, response_metadata={}, id='run-0743dd82-c833-463e-9872-961516e47c5a')}\n",
      "{'chunk': AIMessageChunk(content=' The', additional_kwargs={}, response_metadata={}, id='run-0743dd82-c833-463e-9872-961516e47c5a')}\n",
      "{'chunk': AIMessageChunk(content=' team', additional_kwargs={}, response_metadata={}, id='run-0743dd82-c833-463e-9872-961516e47c5a')}\n",
      "{'chunk': AIMessageChunk(content=' has', additional_kwargs={}, response_metadata={}, id='run-0743dd82-c833-463e-9872-961516e47c5a')}\n",
      "{'chunk': AIMessageChunk(content=' been', additional_kwargs={}, response_metadata={}, id='run-0743dd82-c833-463e-9872-961516e47c5a')}\n",
      "{'chunk': AIMessageChunk(content=' home', additional_kwargs={}, response_metadata={}, id='run-0743dd82-c833-463e-9872-961516e47c5a')}\n",
      "{'chunk': AIMessageChunk(content=' to', additional_kwargs={}, response_metadata={}, id='run-0743dd82-c833-463e-9872-961516e47c5a')}\n",
      "{'chunk': AIMessageChunk(content=' several', additional_kwargs={}, response_metadata={}, id='run-0743dd82-c833-463e-9872-961516e47c5a')}\n",
      "{'chunk': AIMessageChunk(content=' international', additional_kwargs={}, response_metadata={}, id='run-0743dd82-c833-463e-9872-961516e47c5a')}\n",
      "{'chunk': AIMessageChunk(content=' cricket', additional_kwargs={}, response_metadata={}, id='run-0743dd82-c833-463e-9872-961516e47c5a')}\n",
      "{'chunk': AIMessageChunk(content=' stars', additional_kwargs={}, response_metadata={}, id='run-0743dd82-c833-463e-9872-961516e47c5a')}\n",
      "{'chunk': AIMessageChunk(content=',', additional_kwargs={}, response_metadata={}, id='run-0743dd82-c833-463e-9872-961516e47c5a')}\n",
      "{'chunk': AIMessageChunk(content=' including', additional_kwargs={}, response_metadata={}, id='run-0743dd82-c833-463e-9872-961516e47c5a')}\n",
      "{'chunk': AIMessageChunk(content=' Roh', additional_kwargs={}, response_metadata={}, id='run-0743dd82-c833-463e-9872-961516e47c5a')}\n",
      "{'chunk': AIMessageChunk(content='it', additional_kwargs={}, response_metadata={}, id='run-0743dd82-c833-463e-9872-961516e47c5a')}\n",
      "{'chunk': AIMessageChunk(content=' Sharma', additional_kwargs={}, response_metadata={}, id='run-0743dd82-c833-463e-9872-961516e47c5a')}\n",
      "{'chunk': AIMessageChunk(content=',', additional_kwargs={}, response_metadata={}, id='run-0743dd82-c833-463e-9872-961516e47c5a')}\n",
      "{'chunk': AIMessageChunk(content=' Jas', additional_kwargs={}, response_metadata={}, id='run-0743dd82-c833-463e-9872-961516e47c5a')}\n",
      "{'chunk': AIMessageChunk(content='prit', additional_kwargs={}, response_metadata={}, id='run-0743dd82-c833-463e-9872-961516e47c5a')}\n",
      "{'chunk': AIMessageChunk(content=' Bum', additional_kwargs={}, response_metadata={}, id='run-0743dd82-c833-463e-9872-961516e47c5a')}\n",
      "{'chunk': AIMessageChunk(content='rah', additional_kwargs={}, response_metadata={}, id='run-0743dd82-c833-463e-9872-961516e47c5a')}\n",
      "{'chunk': AIMessageChunk(content=',', additional_kwargs={}, response_metadata={}, id='run-0743dd82-c833-463e-9872-961516e47c5a')}\n",
      "{'chunk': AIMessageChunk(content=' K', additional_kwargs={}, response_metadata={}, id='run-0743dd82-c833-463e-9872-961516e47c5a')}\n",
      "{'chunk': AIMessageChunk(content='ieron', additional_kwargs={}, response_metadata={}, id='run-0743dd82-c833-463e-9872-961516e47c5a')}\n",
      "{'chunk': AIMessageChunk(content=' Poll', additional_kwargs={}, response_metadata={}, id='run-0743dd82-c833-463e-9872-961516e47c5a')}\n",
      "{'chunk': AIMessageChunk(content='ard', additional_kwargs={}, response_metadata={}, id='run-0743dd82-c833-463e-9872-961516e47c5a')}\n",
      "{'chunk': AIMessageChunk(content=',', additional_kwargs={}, response_metadata={}, id='run-0743dd82-c833-463e-9872-961516e47c5a')}\n",
      "{'chunk': AIMessageChunk(content=' and', additional_kwargs={}, response_metadata={}, id='run-0743dd82-c833-463e-9872-961516e47c5a')}\n",
      "{'chunk': AIMessageChunk(content=' many', additional_kwargs={}, response_metadata={}, id='run-0743dd82-c833-463e-9872-961516e47c5a')}\n",
      "{'chunk': AIMessageChunk(content=' others', additional_kwargs={}, response_metadata={}, id='run-0743dd82-c833-463e-9872-961516e47c5a')}\n",
      "{'chunk': AIMessageChunk(content='.\\n', additional_kwargs={}, response_metadata={}, id='run-0743dd82-c833-463e-9872-961516e47c5a')}\n",
      "{'chunk': AIMessageChunk(content='-', additional_kwargs={}, response_metadata={}, id='run-0743dd82-c833-463e-9872-961516e47c5a')}\n",
      "{'chunk': AIMessageChunk(content=' Roh', additional_kwargs={}, response_metadata={}, id='run-0743dd82-c833-463e-9872-961516e47c5a')}\n",
      "{'chunk': AIMessageChunk(content='it', additional_kwargs={}, response_metadata={}, id='run-0743dd82-c833-463e-9872-961516e47c5a')}\n",
      "{'chunk': AIMessageChunk(content=' Sharma', additional_kwargs={}, response_metadata={}, id='run-0743dd82-c833-463e-9872-961516e47c5a')}\n",
      "{'chunk': AIMessageChunk(content=' has', additional_kwargs={}, response_metadata={}, id='run-0743dd82-c833-463e-9872-961516e47c5a')}\n",
      "{'chunk': AIMessageChunk(content=' been', additional_kwargs={}, response_metadata={}, id='run-0743dd82-c833-463e-9872-961516e47c5a')}\n",
      "{'chunk': AIMessageChunk(content=' the', additional_kwargs={}, response_metadata={}, id='run-0743dd82-c833-463e-9872-961516e47c5a')}\n",
      "{'chunk': AIMessageChunk(content=' captain', additional_kwargs={}, response_metadata={}, id='run-0743dd82-c833-463e-9872-961516e47c5a')}\n",
      "{'chunk': AIMessageChunk(content=' of', additional_kwargs={}, response_metadata={}, id='run-0743dd82-c833-463e-9872-961516e47c5a')}\n",
      "{'chunk': AIMessageChunk(content=' the', additional_kwargs={}, response_metadata={}, id='run-0743dd82-c833-463e-9872-961516e47c5a')}\n",
      "{'chunk': AIMessageChunk(content=' team', additional_kwargs={}, response_metadata={}, id='run-0743dd82-c833-463e-9872-961516e47c5a')}\n",
      "{'chunk': AIMessageChunk(content=' since', additional_kwargs={}, response_metadata={}, id='run-0743dd82-c833-463e-9872-961516e47c5a')}\n",
      "{'chunk': AIMessageChunk(content=' ', additional_kwargs={}, response_metadata={}, id='run-0743dd82-c833-463e-9872-961516e47c5a')}\n",
      "{'chunk': AIMessageChunk(content='201', additional_kwargs={}, response_metadata={}, id='run-0743dd82-c833-463e-9872-961516e47c5a')}\n",
      "{'chunk': AIMessageChunk(content='3', additional_kwargs={}, response_metadata={}, id='run-0743dd82-c833-463e-9872-961516e47c5a')}\n",
      "{'chunk': AIMessageChunk(content=' and', additional_kwargs={}, response_metadata={}, id='run-0743dd82-c833-463e-9872-961516e47c5a')}\n",
      "{'chunk': AIMessageChunk(content=' has', additional_kwargs={}, response_metadata={}, id='run-0743dd82-c833-463e-9872-961516e47c5a')}\n",
      "{'chunk': AIMessageChunk(content=' played', additional_kwargs={}, response_metadata={}, id='run-0743dd82-c833-463e-9872-961516e47c5a')}\n",
      "{'chunk': AIMessageChunk(content=' a', additional_kwargs={}, response_metadata={}, id='run-0743dd82-c833-463e-9872-961516e47c5a')}\n",
      "{'chunk': AIMessageChunk(content=' pivotal', additional_kwargs={}, response_metadata={}, id='run-0743dd82-c833-463e-9872-961516e47c5a')}\n",
      "{'chunk': AIMessageChunk(content=' role', additional_kwargs={}, response_metadata={}, id='run-0743dd82-c833-463e-9872-961516e47c5a')}\n",
      "{'chunk': AIMessageChunk(content=' in', additional_kwargs={}, response_metadata={}, id='run-0743dd82-c833-463e-9872-961516e47c5a')}\n",
      "{'chunk': AIMessageChunk(content=' their', additional_kwargs={}, response_metadata={}, id='run-0743dd82-c833-463e-9872-961516e47c5a')}\n",
      "{'chunk': AIMessageChunk(content=' success', additional_kwargs={}, response_metadata={}, id='run-0743dd82-c833-463e-9872-961516e47c5a')}\n",
      "{'chunk': AIMessageChunk(content='.\\n\\n', additional_kwargs={}, response_metadata={}, id='run-0743dd82-c833-463e-9872-961516e47c5a')}\n",
      "{'chunk': AIMessageChunk(content='###', additional_kwargs={}, response_metadata={}, id='run-0743dd82-c833-463e-9872-961516e47c5a')}\n",
      "{'chunk': AIMessageChunk(content=' Fan', additional_kwargs={}, response_metadata={}, id='run-0743dd82-c833-463e-9872-961516e47c5a')}\n",
      "{'chunk': AIMessageChunk(content=' Base', additional_kwargs={}, response_metadata={}, id='run-0743dd82-c833-463e-9872-961516e47c5a')}\n",
      "{'chunk': AIMessageChunk(content=' and', additional_kwargs={}, response_metadata={}, id='run-0743dd82-c833-463e-9872-961516e47c5a')}\n",
      "{'chunk': AIMessageChunk(content=' Culture', additional_kwargs={}, response_metadata={}, id='run-0743dd82-c833-463e-9872-961516e47c5a')}\n",
      "{'chunk': AIMessageChunk(content='\\n', additional_kwargs={}, response_metadata={}, id='run-0743dd82-c833-463e-9872-961516e47c5a')}\n",
      "{'chunk': AIMessageChunk(content='-', additional_kwargs={}, response_metadata={}, id='run-0743dd82-c833-463e-9872-961516e47c5a')}\n",
      "{'chunk': AIMessageChunk(content=' The', additional_kwargs={}, response_metadata={}, id='run-0743dd82-c833-463e-9872-961516e47c5a')}\n",
      "{'chunk': AIMessageChunk(content=' Mumbai', additional_kwargs={}, response_metadata={}, id='run-0743dd82-c833-463e-9872-961516e47c5a')}\n",
      "{'chunk': AIMessageChunk(content=' Indians', additional_kwargs={}, response_metadata={}, id='run-0743dd82-c833-463e-9872-961516e47c5a')}\n",
      "{'chunk': AIMessageChunk(content=' have', additional_kwargs={}, response_metadata={}, id='run-0743dd82-c833-463e-9872-961516e47c5a')}\n",
      "{'chunk': AIMessageChunk(content=' a', additional_kwargs={}, response_metadata={}, id='run-0743dd82-c833-463e-9872-961516e47c5a')}\n",
      "{'chunk': AIMessageChunk(content=' massive', additional_kwargs={}, response_metadata={}, id='run-0743dd82-c833-463e-9872-961516e47c5a')}\n",
      "{'chunk': AIMessageChunk(content=' and', additional_kwargs={}, response_metadata={}, id='run-0743dd82-c833-463e-9872-961516e47c5a')}\n",
      "{'chunk': AIMessageChunk(content=' passionate', additional_kwargs={}, response_metadata={}, id='run-0743dd82-c833-463e-9872-961516e47c5a')}\n",
      "{'chunk': AIMessageChunk(content=' fan', additional_kwargs={}, response_metadata={}, id='run-0743dd82-c833-463e-9872-961516e47c5a')}\n",
      "{'chunk': AIMessageChunk(content=' base', additional_kwargs={}, response_metadata={}, id='run-0743dd82-c833-463e-9872-961516e47c5a')}\n",
      "{'chunk': AIMessageChunk(content=',', additional_kwargs={}, response_metadata={}, id='run-0743dd82-c833-463e-9872-961516e47c5a')}\n",
      "{'chunk': AIMessageChunk(content=' often', additional_kwargs={}, response_metadata={}, id='run-0743dd82-c833-463e-9872-961516e47c5a')}\n",
      "{'chunk': AIMessageChunk(content=' referred', additional_kwargs={}, response_metadata={}, id='run-0743dd82-c833-463e-9872-961516e47c5a')}\n",
      "{'chunk': AIMessageChunk(content=' to', additional_kwargs={}, response_metadata={}, id='run-0743dd82-c833-463e-9872-961516e47c5a')}\n",
      "{'chunk': AIMessageChunk(content=' as', additional_kwargs={}, response_metadata={}, id='run-0743dd82-c833-463e-9872-961516e47c5a')}\n",
      "{'chunk': AIMessageChunk(content=' \"', additional_kwargs={}, response_metadata={}, id='run-0743dd82-c833-463e-9872-961516e47c5a')}\n",
      "{'chunk': AIMessageChunk(content='MI', additional_kwargs={}, response_metadata={}, id='run-0743dd82-c833-463e-9872-961516e47c5a')}\n",
      "{'chunk': AIMessageChunk(content=' P', additional_kwargs={}, response_metadata={}, id='run-0743dd82-c833-463e-9872-961516e47c5a')}\n",
      "{'chunk': AIMessageChunk(content='alt', additional_kwargs={}, response_metadata={}, id='run-0743dd82-c833-463e-9872-961516e47c5a')}\n",
      "{'chunk': AIMessageChunk(content='an', additional_kwargs={}, response_metadata={}, id='run-0743dd82-c833-463e-9872-961516e47c5a')}\n",
      "{'chunk': AIMessageChunk(content='.\"\\n', additional_kwargs={}, response_metadata={}, id='run-0743dd82-c833-463e-9872-961516e47c5a')}\n",
      "{'chunk': AIMessageChunk(content='-', additional_kwargs={}, response_metadata={}, id='run-0743dd82-c833-463e-9872-961516e47c5a')}\n",
      "{'chunk': AIMessageChunk(content=' The', additional_kwargs={}, response_metadata={}, id='run-0743dd82-c833-463e-9872-961516e47c5a')}\n",
      "{'chunk': AIMessageChunk(content=\" team's\", additional_kwargs={}, response_metadata={}, id='run-0743dd82-c833-463e-9872-961516e47c5a')}\n",
      "{'chunk': AIMessageChunk(content=' matches', additional_kwargs={}, response_metadata={}, id='run-0743dd82-c833-463e-9872-961516e47c5a')}\n",
      "{'chunk': AIMessageChunk(content=' are', additional_kwargs={}, response_metadata={}, id='run-0743dd82-c833-463e-9872-961516e47c5a')}\n",
      "{'chunk': AIMessageChunk(content=' known', additional_kwargs={}, response_metadata={}, id='run-0743dd82-c833-463e-9872-961516e47c5a')}\n",
      "{'chunk': AIMessageChunk(content=' for', additional_kwargs={}, response_metadata={}, id='run-0743dd82-c833-463e-9872-961516e47c5a')}\n",
      "{'chunk': AIMessageChunk(content=' their', additional_kwargs={}, response_metadata={}, id='run-0743dd82-c833-463e-9872-961516e47c5a')}\n",
      "{'chunk': AIMessageChunk(content=' electric', additional_kwargs={}, response_metadata={}, id='run-0743dd82-c833-463e-9872-961516e47c5a')}\n",
      "{'chunk': AIMessageChunk(content=' atmosphere', additional_kwargs={}, response_metadata={}, id='run-0743dd82-c833-463e-9872-961516e47c5a')}\n",
      "{'chunk': AIMessageChunk(content=',', additional_kwargs={}, response_metadata={}, id='run-0743dd82-c833-463e-9872-961516e47c5a')}\n",
      "{'chunk': AIMessageChunk(content=' and', additional_kwargs={}, response_metadata={}, id='run-0743dd82-c833-463e-9872-961516e47c5a')}\n",
      "{'chunk': AIMessageChunk(content=' they', additional_kwargs={}, response_metadata={}, id='run-0743dd82-c833-463e-9872-961516e47c5a')}\n",
      "{'chunk': AIMessageChunk(content=' enjoy', additional_kwargs={}, response_metadata={}, id='run-0743dd82-c833-463e-9872-961516e47c5a')}\n",
      "{'chunk': AIMessageChunk(content=' strong', additional_kwargs={}, response_metadata={}, id='run-0743dd82-c833-463e-9872-961516e47c5a')}\n",
      "{'chunk': AIMessageChunk(content=' support', additional_kwargs={}, response_metadata={}, id='run-0743dd82-c833-463e-9872-961516e47c5a')}\n",
      "{'chunk': AIMessageChunk(content=' at', additional_kwargs={}, response_metadata={}, id='run-0743dd82-c833-463e-9872-961516e47c5a')}\n",
      "{'chunk': AIMessageChunk(content=' their', additional_kwargs={}, response_metadata={}, id='run-0743dd82-c833-463e-9872-961516e47c5a')}\n",
      "{'chunk': AIMessageChunk(content=' home', additional_kwargs={}, response_metadata={}, id='run-0743dd82-c833-463e-9872-961516e47c5a')}\n",
      "{'chunk': AIMessageChunk(content=' ground', additional_kwargs={}, response_metadata={}, id='run-0743dd82-c833-463e-9872-961516e47c5a')}\n",
      "{'chunk': AIMessageChunk(content=',', additional_kwargs={}, response_metadata={}, id='run-0743dd82-c833-463e-9872-961516e47c5a')}\n",
      "{'chunk': AIMessageChunk(content=' W', additional_kwargs={}, response_metadata={}, id='run-0743dd82-c833-463e-9872-961516e47c5a')}\n",
      "{'chunk': AIMessageChunk(content='ank', additional_kwargs={}, response_metadata={}, id='run-0743dd82-c833-463e-9872-961516e47c5a')}\n",
      "{'chunk': AIMessageChunk(content='hede', additional_kwargs={}, response_metadata={}, id='run-0743dd82-c833-463e-9872-961516e47c5a')}\n",
      "{'chunk': AIMessageChunk(content=' Stadium', additional_kwargs={}, response_metadata={}, id='run-0743dd82-c833-463e-9872-961516e47c5a')}\n",
      "{'chunk': AIMessageChunk(content='.\\n\\n', additional_kwargs={}, response_metadata={}, id='run-0743dd82-c833-463e-9872-961516e47c5a')}\n",
      "{'chunk': AIMessageChunk(content='###', additional_kwargs={}, response_metadata={}, id='run-0743dd82-c833-463e-9872-961516e47c5a')}\n",
      "{'chunk': AIMessageChunk(content=' Community', additional_kwargs={}, response_metadata={}, id='run-0743dd82-c833-463e-9872-961516e47c5a')}\n",
      "{'chunk': AIMessageChunk(content=' Engagement', additional_kwargs={}, response_metadata={}, id='run-0743dd82-c833-463e-9872-961516e47c5a')}\n",
      "{'chunk': AIMessageChunk(content='\\n', additional_kwargs={}, response_metadata={}, id='run-0743dd82-c833-463e-9872-961516e47c5a')}\n",
      "{'chunk': AIMessageChunk(content='-', additional_kwargs={}, response_metadata={}, id='run-0743dd82-c833-463e-9872-961516e47c5a')}\n",
      "{'chunk': AIMessageChunk(content=' The', additional_kwargs={}, response_metadata={}, id='run-0743dd82-c833-463e-9872-961516e47c5a')}\n",
      "{'chunk': AIMessageChunk(content=' franchise', additional_kwargs={}, response_metadata={}, id='run-0743dd82-c833-463e-9872-961516e47c5a')}\n",
      "{'chunk': AIMessageChunk(content=' is', additional_kwargs={}, response_metadata={}, id='run-0743dd82-c833-463e-9872-961516e47c5a')}\n",
      "{'chunk': AIMessageChunk(content=' also', additional_kwargs={}, response_metadata={}, id='run-0743dd82-c833-463e-9872-961516e47c5a')}\n",
      "{'chunk': AIMessageChunk(content=' involved', additional_kwargs={}, response_metadata={}, id='run-0743dd82-c833-463e-9872-961516e47c5a')}\n",
      "{'chunk': AIMessageChunk(content=' in', additional_kwargs={}, response_metadata={}, id='run-0743dd82-c833-463e-9872-961516e47c5a')}\n",
      "{'chunk': AIMessageChunk(content=' various', additional_kwargs={}, response_metadata={}, id='run-0743dd82-c833-463e-9872-961516e47c5a')}\n",
      "{'chunk': AIMessageChunk(content=' social', additional_kwargs={}, response_metadata={}, id='run-0743dd82-c833-463e-9872-961516e47c5a')}\n",
      "{'chunk': AIMessageChunk(content=' initiatives', additional_kwargs={}, response_metadata={}, id='run-0743dd82-c833-463e-9872-961516e47c5a')}\n",
      "{'chunk': AIMessageChunk(content=' and', additional_kwargs={}, response_metadata={}, id='run-0743dd82-c833-463e-9872-961516e47c5a')}\n",
      "{'chunk': AIMessageChunk(content=' community', additional_kwargs={}, response_metadata={}, id='run-0743dd82-c833-463e-9872-961516e47c5a')}\n",
      "{'chunk': AIMessageChunk(content=' programs', additional_kwargs={}, response_metadata={}, id='run-0743dd82-c833-463e-9872-961516e47c5a')}\n",
      "{'chunk': AIMessageChunk(content=' aimed', additional_kwargs={}, response_metadata={}, id='run-0743dd82-c833-463e-9872-961516e47c5a')}\n",
      "{'chunk': AIMessageChunk(content=' at', additional_kwargs={}, response_metadata={}, id='run-0743dd82-c833-463e-9872-961516e47c5a')}\n",
      "{'chunk': AIMessageChunk(content=' promoting', additional_kwargs={}, response_metadata={}, id='run-0743dd82-c833-463e-9872-961516e47c5a')}\n",
      "{'chunk': AIMessageChunk(content=' sports', additional_kwargs={}, response_metadata={}, id='run-0743dd82-c833-463e-9872-961516e47c5a')}\n",
      "{'chunk': AIMessageChunk(content=' and', additional_kwargs={}, response_metadata={}, id='run-0743dd82-c833-463e-9872-961516e47c5a')}\n",
      "{'chunk': AIMessageChunk(content=' education', additional_kwargs={}, response_metadata={}, id='run-0743dd82-c833-463e-9872-961516e47c5a')}\n",
      "{'chunk': AIMessageChunk(content=' among', additional_kwargs={}, response_metadata={}, id='run-0743dd82-c833-463e-9872-961516e47c5a')}\n",
      "{'chunk': AIMessageChunk(content=' under', additional_kwargs={}, response_metadata={}, id='run-0743dd82-c833-463e-9872-961516e47c5a')}\n",
      "{'chunk': AIMessageChunk(content='priv', additional_kwargs={}, response_metadata={}, id='run-0743dd82-c833-463e-9872-961516e47c5a')}\n",
      "{'chunk': AIMessageChunk(content='ileged', additional_kwargs={}, response_metadata={}, id='run-0743dd82-c833-463e-9872-961516e47c5a')}\n",
      "{'chunk': AIMessageChunk(content=' children', additional_kwargs={}, response_metadata={}, id='run-0743dd82-c833-463e-9872-961516e47c5a')}\n",
      "{'chunk': AIMessageChunk(content='.\\n\\n', additional_kwargs={}, response_metadata={}, id='run-0743dd82-c833-463e-9872-961516e47c5a')}\n",
      "{'chunk': AIMessageChunk(content='The', additional_kwargs={}, response_metadata={}, id='run-0743dd82-c833-463e-9872-961516e47c5a')}\n",
      "{'chunk': AIMessageChunk(content=' Mumbai', additional_kwargs={}, response_metadata={}, id='run-0743dd82-c833-463e-9872-961516e47c5a')}\n",
      "{'chunk': AIMessageChunk(content=' Indians', additional_kwargs={}, response_metadata={}, id='run-0743dd82-c833-463e-9872-961516e47c5a')}\n",
      "{'chunk': AIMessageChunk(content=' have', additional_kwargs={}, response_metadata={}, id='run-0743dd82-c833-463e-9872-961516e47c5a')}\n",
      "{'chunk': AIMessageChunk(content=' established', additional_kwargs={}, response_metadata={}, id='run-0743dd82-c833-463e-9872-961516e47c5a')}\n",
      "{'chunk': AIMessageChunk(content=' themselves', additional_kwargs={}, response_metadata={}, id='run-0743dd82-c833-463e-9872-961516e47c5a')}\n",
      "{'chunk': AIMessageChunk(content=' as', additional_kwargs={}, response_metadata={}, id='run-0743dd82-c833-463e-9872-961516e47c5a')}\n",
      "{'chunk': AIMessageChunk(content=' a', additional_kwargs={}, response_metadata={}, id='run-0743dd82-c833-463e-9872-961516e47c5a')}\n",
      "{'chunk': AIMessageChunk(content=' powerhouse', additional_kwargs={}, response_metadata={}, id='run-0743dd82-c833-463e-9872-961516e47c5a')}\n",
      "{'chunk': AIMessageChunk(content=' in', additional_kwargs={}, response_metadata={}, id='run-0743dd82-c833-463e-9872-961516e47c5a')}\n",
      "{'chunk': AIMessageChunk(content=' the', additional_kwargs={}, response_metadata={}, id='run-0743dd82-c833-463e-9872-961516e47c5a')}\n",
      "{'chunk': AIMessageChunk(content=' IPL', additional_kwargs={}, response_metadata={}, id='run-0743dd82-c833-463e-9872-961516e47c5a')}\n",
      "{'chunk': AIMessageChunk(content=',', additional_kwargs={}, response_metadata={}, id='run-0743dd82-c833-463e-9872-961516e47c5a')}\n",
      "{'chunk': AIMessageChunk(content=' not', additional_kwargs={}, response_metadata={}, id='run-0743dd82-c833-463e-9872-961516e47c5a')}\n",
      "{'chunk': AIMessageChunk(content=' only', additional_kwargs={}, response_metadata={}, id='run-0743dd82-c833-463e-9872-961516e47c5a')}\n",
      "{'chunk': AIMessageChunk(content=' through', additional_kwargs={}, response_metadata={}, id='run-0743dd82-c833-463e-9872-961516e47c5a')}\n",
      "{'chunk': AIMessageChunk(content=' their', additional_kwargs={}, response_metadata={}, id='run-0743dd82-c833-463e-9872-961516e47c5a')}\n",
      "{'chunk': AIMessageChunk(content=' on', additional_kwargs={}, response_metadata={}, id='run-0743dd82-c833-463e-9872-961516e47c5a')}\n",
      "{'chunk': AIMessageChunk(content='-field', additional_kwargs={}, response_metadata={}, id='run-0743dd82-c833-463e-9872-961516e47c5a')}\n",
      "{'chunk': AIMessageChunk(content=' performance', additional_kwargs={}, response_metadata={}, id='run-0743dd82-c833-463e-9872-961516e47c5a')}\n",
      "{'chunk': AIMessageChunk(content=' but', additional_kwargs={}, response_metadata={}, id='run-0743dd82-c833-463e-9872-961516e47c5a')}\n",
      "{'chunk': AIMessageChunk(content=' also', additional_kwargs={}, response_metadata={}, id='run-0743dd82-c833-463e-9872-961516e47c5a')}\n",
      "{'chunk': AIMessageChunk(content=' through', additional_kwargs={}, response_metadata={}, id='run-0743dd82-c833-463e-9872-961516e47c5a')}\n",
      "{'chunk': AIMessageChunk(content=' their', additional_kwargs={}, response_metadata={}, id='run-0743dd82-c833-463e-9872-961516e47c5a')}\n",
      "{'chunk': AIMessageChunk(content=' branding', additional_kwargs={}, response_metadata={}, id='run-0743dd82-c833-463e-9872-961516e47c5a')}\n",
      "{'chunk': AIMessageChunk(content=' and', additional_kwargs={}, response_metadata={}, id='run-0743dd82-c833-463e-9872-961516e47c5a')}\n",
      "{'chunk': AIMessageChunk(content=' community', additional_kwargs={}, response_metadata={}, id='run-0743dd82-c833-463e-9872-961516e47c5a')}\n",
      "{'chunk': AIMessageChunk(content=' engagement', additional_kwargs={}, response_metadata={}, id='run-0743dd82-c833-463e-9872-961516e47c5a')}\n",
      "{'chunk': AIMessageChunk(content=' efforts', additional_kwargs={}, response_metadata={}, id='run-0743dd82-c833-463e-9872-961516e47c5a')}\n",
      "{'chunk': AIMessageChunk(content='.', additional_kwargs={}, response_metadata={}, id='run-0743dd82-c833-463e-9872-961516e47c5a')}\n",
      "{'chunk': AIMessageChunk(content='', additional_kwargs={}, response_metadata={'finish_reason': 'stop', 'model_name': 'gpt-4o-mini-2024-07-18', 'system_fingerprint': 'fp_bba3c8e70b'}, id='run-0743dd82-c833-463e-9872-961516e47c5a')}\n"
     ]
    }
   ],
   "source": [
    "node_to_stream = 'conversation'\n",
    "config = {'configurable':{'thread_id':4}}\n",
    "input_message = HumanMessage(content='Tell me about mumbai indians')\n",
    "async for event in graph.astream_events({'messages':input_message}, config=config, version='v2'):\n",
    "    if event['event']=='on_chat_model_stream' and event['metadata'].get('langgraph_node', '')==node_to_stream:\n",
    "        print(event['data'])"
   ]
  },
  {
   "cell_type": "code",
   "execution_count": 12,
   "id": "b4f80857",
   "metadata": {},
   "outputs": [
    {
     "name": "stdout",
     "output_type": "stream",
     "text": [
      "Requirement already satisfied: langgraph-sdk in /Users/prem.kumar/.pyenv/versions/venv_langgraph/lib/python3.11/site-packages (0.1.40)\n",
      "Requirement already satisfied: httpx>=0.25.2 in /Users/prem.kumar/.pyenv/versions/venv_langgraph/lib/python3.11/site-packages (from langgraph-sdk) (0.28.0)\n",
      "Requirement already satisfied: httpx-sse>=0.4.0 in /Users/prem.kumar/.pyenv/versions/venv_langgraph/lib/python3.11/site-packages (from langgraph-sdk) (0.4.0)\n",
      "Requirement already satisfied: orjson>=3.10.1 in /Users/prem.kumar/.pyenv/versions/venv_langgraph/lib/python3.11/site-packages (from langgraph-sdk) (3.10.12)\n",
      "Requirement already satisfied: anyio in /Users/prem.kumar/.pyenv/versions/venv_langgraph/lib/python3.11/site-packages (from httpx>=0.25.2->langgraph-sdk) (4.6.2.post1)\n",
      "Requirement already satisfied: certifi in /Users/prem.kumar/.pyenv/versions/venv_langgraph/lib/python3.11/site-packages (from httpx>=0.25.2->langgraph-sdk) (2024.8.30)\n",
      "Requirement already satisfied: httpcore==1.* in /Users/prem.kumar/.pyenv/versions/venv_langgraph/lib/python3.11/site-packages (from httpx>=0.25.2->langgraph-sdk) (1.0.7)\n",
      "Requirement already satisfied: idna in /Users/prem.kumar/.pyenv/versions/venv_langgraph/lib/python3.11/site-packages (from httpx>=0.25.2->langgraph-sdk) (3.10)\n",
      "Requirement already satisfied: h11<0.15,>=0.13 in /Users/prem.kumar/.pyenv/versions/venv_langgraph/lib/python3.11/site-packages (from httpcore==1.*->httpx>=0.25.2->langgraph-sdk) (0.14.0)\n",
      "Requirement already satisfied: sniffio>=1.1 in /Users/prem.kumar/.pyenv/versions/venv_langgraph/lib/python3.11/site-packages (from anyio->httpx>=0.25.2->langgraph-sdk) (1.3.1)\n"
     ]
    }
   ],
   "source": [
    "!pip install langgraph-sdk"
   ]
  },
  {
   "cell_type": "code",
   "execution_count": 15,
   "id": "484f40dc",
   "metadata": {},
   "outputs": [
    {
     "name": "stdout",
     "output_type": "stream",
     "text": [
      "[{'assistant_id': '6f6fce9a-b777-529d-9699-dd340ddec86c', 'graph_id': 'dynamic_breakpoints', 'created_at': '2024-12-09T10:28:41.077546+00:00', 'updated_at': '2024-12-09T10:28:41.077546+00:00', 'config': {}, 'metadata': {'created_by': 'system'}, 'version': 1, 'name': 'dynamic_breakpoints'}, {'assistant_id': 'fe096781-5601-53d2-b2f6-0d3403f7e9ca', 'graph_id': 'agent', 'created_at': '2024-12-09T10:28:41.075276+00:00', 'updated_at': '2024-12-09T10:28:41.075276+00:00', 'config': {}, 'metadata': {'created_by': 'system'}, 'version': 1, 'name': 'agent'}]\n"
     ]
    }
   ],
   "source": [
    "from langgraph_sdk import get_client\n",
    "URL = \"http://localhost:57664\"\n",
    "client = get_client(url = URL)\n",
    "assistants = await client.assistants.search()\n",
    "print(assistants)"
   ]
  },
  {
   "cell_type": "code",
   "execution_count": 16,
   "id": "072a2262",
   "metadata": {},
   "outputs": [
    {
     "data": {
      "text/plain": [
       "[{'assistant_id': '6f6fce9a-b777-529d-9699-dd340ddec86c',\n",
       "  'graph_id': 'dynamic_breakpoints',\n",
       "  'created_at': '2024-12-09T10:28:41.077546+00:00',\n",
       "  'updated_at': '2024-12-09T10:28:41.077546+00:00',\n",
       "  'config': {},\n",
       "  'metadata': {'created_by': 'system'},\n",
       "  'version': 1,\n",
       "  'name': 'dynamic_breakpoints'},\n",
       " {'assistant_id': 'fe096781-5601-53d2-b2f6-0d3403f7e9ca',\n",
       "  'graph_id': 'agent',\n",
       "  'created_at': '2024-12-09T10:28:41.075276+00:00',\n",
       "  'updated_at': '2024-12-09T10:28:41.075276+00:00',\n",
       "  'config': {},\n",
       "  'metadata': {'created_by': 'system'},\n",
       "  'version': 1,\n",
       "  'name': 'agent'}]"
      ]
     },
     "execution_count": 16,
     "metadata": {},
     "output_type": "execute_result"
    }
   ],
   "source": [
    "assistants"
   ]
  },
  {
   "cell_type": "code",
   "execution_count": 18,
   "id": "11da389f",
   "metadata": {},
   "outputs": [
    {
     "data": {
      "text/plain": [
       "{'thread_id': 'af6d8569-58b4-4c5f-a009-7a018b54449d',\n",
       " 'created_at': '2024-12-09T10:42:34.282838+00:00',\n",
       " 'updated_at': '2024-12-09T10:42:34.282838+00:00',\n",
       " 'metadata': {},\n",
       " 'status': 'idle',\n",
       " 'config': {},\n",
       " 'values': None,\n",
       " 'interrupts': {}}"
      ]
     },
     "execution_count": 18,
     "metadata": {},
     "output_type": "execute_result"
    }
   ],
   "source": [
    "thread = await client.threads.create()\n",
    "thread"
   ]
  },
  {
   "cell_type": "code",
   "execution_count": 19,
   "id": "9c30fcbf",
   "metadata": {},
   "outputs": [
    {
     "name": "stdout",
     "output_type": "stream",
     "text": [
      "StreamPart(event='metadata', data={'run_id': '1efb61a9-c360-6b42-b71c-e9853d3a7f4f', 'attempt': 1})\n",
      "StreamPart(event='values', data={'messages': [{'content': 'Multiply 2 and 3', 'additional_kwargs': {'example': False, 'additional_kwargs': {}, 'response_metadata': {}}, 'response_metadata': {}, 'type': 'human', 'name': None, 'id': '9d865f7a-d6ef-4ee0-b555-94ce09e4b46a', 'example': False}]})\n",
      "StreamPart(event='values', data={'messages': [{'content': 'Multiply 2 and 3', 'additional_kwargs': {'example': False, 'additional_kwargs': {}, 'response_metadata': {}}, 'response_metadata': {}, 'type': 'human', 'name': None, 'id': '9d865f7a-d6ef-4ee0-b555-94ce09e4b46a', 'example': False}, {'content': '', 'additional_kwargs': {'tool_calls': [{'id': 'call_NaEsQqiaJ4X7ayycYIaqbl0P', 'function': {'arguments': '{\"a\":2,\"b\":3}', 'name': 'multiply'}, 'type': 'function'}], 'refusal': None}, 'response_metadata': {'token_usage': {'completion_tokens': 17, 'prompt_tokens': 134, 'total_tokens': 151, 'completion_tokens_details': {'accepted_prediction_tokens': 0, 'audio_tokens': 0, 'reasoning_tokens': 0, 'rejected_prediction_tokens': 0}, 'prompt_tokens_details': {'audio_tokens': 0, 'cached_tokens': 0}}, 'model_name': 'gpt-4o-2024-08-06', 'system_fingerprint': 'fp_c7ca0ebaca', 'finish_reason': 'tool_calls', 'logprobs': None}, 'type': 'ai', 'name': None, 'id': 'run-b7bf5e2e-ce5d-4c8c-8f41-73a07f277d57-0', 'example': False, 'tool_calls': [{'name': 'multiply', 'args': {'a': 2, 'b': 3}, 'id': 'call_NaEsQqiaJ4X7ayycYIaqbl0P', 'type': 'tool_call'}], 'invalid_tool_calls': [], 'usage_metadata': {'input_tokens': 134, 'output_tokens': 17, 'total_tokens': 151, 'input_token_details': {'audio': 0, 'cache_read': 0}, 'output_token_details': {'audio': 0, 'reasoning': 0}}}]})\n",
      "StreamPart(event='values', data={'messages': [{'content': 'Multiply 2 and 3', 'additional_kwargs': {'example': False, 'additional_kwargs': {}, 'response_metadata': {}}, 'response_metadata': {}, 'type': 'human', 'name': None, 'id': '9d865f7a-d6ef-4ee0-b555-94ce09e4b46a', 'example': False}, {'content': '', 'additional_kwargs': {'tool_calls': [{'id': 'call_NaEsQqiaJ4X7ayycYIaqbl0P', 'function': {'arguments': '{\"a\":2,\"b\":3}', 'name': 'multiply'}, 'type': 'function'}], 'refusal': None}, 'response_metadata': {'token_usage': {'completion_tokens': 17, 'prompt_tokens': 134, 'total_tokens': 151, 'completion_tokens_details': {'accepted_prediction_tokens': 0, 'audio_tokens': 0, 'reasoning_tokens': 0, 'rejected_prediction_tokens': 0}, 'prompt_tokens_details': {'audio_tokens': 0, 'cached_tokens': 0}}, 'model_name': 'gpt-4o-2024-08-06', 'system_fingerprint': 'fp_c7ca0ebaca', 'finish_reason': 'tool_calls', 'logprobs': None}, 'type': 'ai', 'name': None, 'id': 'run-b7bf5e2e-ce5d-4c8c-8f41-73a07f277d57-0', 'example': False, 'tool_calls': [{'name': 'multiply', 'args': {'a': 2, 'b': 3}, 'id': 'call_NaEsQqiaJ4X7ayycYIaqbl0P', 'type': 'tool_call'}], 'invalid_tool_calls': [], 'usage_metadata': {'input_tokens': 134, 'output_tokens': 17, 'total_tokens': 151, 'input_token_details': {'audio': 0, 'cache_read': 0}, 'output_token_details': {'audio': 0, 'reasoning': 0}}}, {'content': '6', 'additional_kwargs': {}, 'response_metadata': {}, 'type': 'tool', 'name': 'multiply', 'id': '1c3a2659-9ca5-4495-ba06-bfd608e857d1', 'tool_call_id': 'call_NaEsQqiaJ4X7ayycYIaqbl0P', 'artifact': None, 'status': 'success'}]})\n",
      "StreamPart(event='values', data={'messages': [{'content': 'Multiply 2 and 3', 'additional_kwargs': {'example': False, 'additional_kwargs': {}, 'response_metadata': {}}, 'response_metadata': {}, 'type': 'human', 'name': None, 'id': '9d865f7a-d6ef-4ee0-b555-94ce09e4b46a', 'example': False}, {'content': '', 'additional_kwargs': {'tool_calls': [{'id': 'call_NaEsQqiaJ4X7ayycYIaqbl0P', 'function': {'arguments': '{\"a\":2,\"b\":3}', 'name': 'multiply'}, 'type': 'function'}], 'refusal': None}, 'response_metadata': {'token_usage': {'completion_tokens': 17, 'prompt_tokens': 134, 'total_tokens': 151, 'completion_tokens_details': {'accepted_prediction_tokens': 0, 'audio_tokens': 0, 'reasoning_tokens': 0, 'rejected_prediction_tokens': 0}, 'prompt_tokens_details': {'audio_tokens': 0, 'cached_tokens': 0}}, 'model_name': 'gpt-4o-2024-08-06', 'system_fingerprint': 'fp_c7ca0ebaca', 'finish_reason': 'tool_calls', 'logprobs': None}, 'type': 'ai', 'name': None, 'id': 'run-b7bf5e2e-ce5d-4c8c-8f41-73a07f277d57-0', 'example': False, 'tool_calls': [{'name': 'multiply', 'args': {'a': 2, 'b': 3}, 'id': 'call_NaEsQqiaJ4X7ayycYIaqbl0P', 'type': 'tool_call'}], 'invalid_tool_calls': [], 'usage_metadata': {'input_tokens': 134, 'output_tokens': 17, 'total_tokens': 151, 'input_token_details': {'audio': 0, 'cache_read': 0}, 'output_token_details': {'audio': 0, 'reasoning': 0}}}, {'content': '6', 'additional_kwargs': {}, 'response_metadata': {}, 'type': 'tool', 'name': 'multiply', 'id': '1c3a2659-9ca5-4495-ba06-bfd608e857d1', 'tool_call_id': 'call_NaEsQqiaJ4X7ayycYIaqbl0P', 'artifact': None, 'status': 'success'}, {'content': 'The result of multiplying 2 and 3 is 6.', 'additional_kwargs': {'refusal': None}, 'response_metadata': {'token_usage': {'completion_tokens': 14, 'prompt_tokens': 159, 'total_tokens': 173, 'completion_tokens_details': {'accepted_prediction_tokens': 0, 'audio_tokens': 0, 'reasoning_tokens': 0, 'rejected_prediction_tokens': 0}, 'prompt_tokens_details': {'audio_tokens': 0, 'cached_tokens': 0}}, 'model_name': 'gpt-4o-2024-08-06', 'system_fingerprint': 'fp_c7ca0ebaca', 'finish_reason': 'stop', 'logprobs': None}, 'type': 'ai', 'name': None, 'id': 'run-17dad0b0-8d06-4b15-a13b-10ee9eb83c15-0', 'example': False, 'tool_calls': [], 'invalid_tool_calls': [], 'usage_metadata': {'input_tokens': 159, 'output_tokens': 14, 'total_tokens': 173, 'input_token_details': {'audio': 0, 'cache_read': 0}, 'output_token_details': {'audio': 0, 'reasoning': 0}}}]})\n"
     ]
    }
   ],
   "source": [
    "input_message = HumanMessage(content='Multiply 2 and 3')\n",
    "async for event in client.runs.stream(thread['thread_id'],\n",
    "                                      assistant_id='agent',\n",
    "                                      input={'messages':input_message},\n",
    "                                      stream_mode='values'):\n",
    "    print(event)"
   ]
  },
  {
   "cell_type": "code",
   "execution_count": 20,
   "id": "b10e438a",
   "metadata": {},
   "outputs": [
    {
     "name": "stdout",
     "output_type": "stream",
     "text": [
      "==================================================\n",
      "content='Multiply 2 and 3' additional_kwargs={'additional_kwargs': {'example': False, 'additional_kwargs': {}, 'response_metadata': {}}, 'response_metadata': {}, 'example': False} response_metadata={} id='01c70503-b4be-4ff9-b966-166cfe0243b7'\n",
      "==================================================\n",
      "content='' additional_kwargs={'additional_kwargs': {'tool_calls': [{'id': 'call_tDKhy6UMeLnTB0gcjoK9mVJz', 'function': {'arguments': '{\"a\":2,\"b\":3}', 'name': 'multiply'}, 'type': 'function'}], 'refusal': None}, 'response_metadata': {'token_usage': {'completion_tokens': 17, 'prompt_tokens': 134, 'total_tokens': 151, 'completion_tokens_details': {'accepted_prediction_tokens': 0, 'audio_tokens': 0, 'reasoning_tokens': 0, 'rejected_prediction_tokens': 0}, 'prompt_tokens_details': {'audio_tokens': 0, 'cached_tokens': 0}}, 'model_name': 'gpt-4o-2024-08-06', 'system_fingerprint': 'fp_c7ca0ebaca', 'finish_reason': 'tool_calls', 'logprobs': None}, 'example': False, 'invalid_tool_calls': [], 'usage_metadata': {'input_tokens': 134, 'output_tokens': 17, 'total_tokens': 151, 'input_token_details': {'audio': 0, 'cache_read': 0}, 'output_token_details': {'audio': 0, 'reasoning': 0}}} response_metadata={} id='run-da33bd38-2937-47f0-a89a-19e9b6834585-0' tool_calls=[{'name': 'multiply', 'args': {'a': 2, 'b': 3}, 'id': 'call_tDKhy6UMeLnTB0gcjoK9mVJz', 'type': 'tool_call'}]\n",
      "==================================================\n",
      "content='6' name='multiply' id='41e8db16-5c9c-4b47-b958-2c6591dd8182' tool_call_id='call_tDKhy6UMeLnTB0gcjoK9mVJz'\n",
      "==================================================\n",
      "content='The result of multiplying 2 and 3 is 6.' additional_kwargs={'additional_kwargs': {'refusal': None}, 'response_metadata': {'token_usage': {'completion_tokens': 14, 'prompt_tokens': 159, 'total_tokens': 173, 'completion_tokens_details': {'accepted_prediction_tokens': 0, 'audio_tokens': 0, 'reasoning_tokens': 0, 'rejected_prediction_tokens': 0}, 'prompt_tokens_details': {'audio_tokens': 0, 'cached_tokens': 0}}, 'model_name': 'gpt-4o-2024-08-06', 'system_fingerprint': 'fp_c7ca0ebaca', 'finish_reason': 'stop', 'logprobs': None}, 'example': False, 'invalid_tool_calls': [], 'usage_metadata': {'input_tokens': 159, 'output_tokens': 14, 'total_tokens': 173, 'input_token_details': {'audio': 0, 'cache_read': 0}, 'output_token_details': {'audio': 0, 'reasoning': 0}}} response_metadata={} id='run-da0f99be-b26b-410c-b998-661d0a0b8c3d-0'\n",
      "==================================================\n"
     ]
    }
   ],
   "source": [
    "from langchain_core.messages import convert_to_messages\n",
    "thread = await client.threads.create()\n",
    "input_message = HumanMessage(content='Multiply 2 and 3')\n",
    "async for event in client.runs.stream(thread['thread_id'], \n",
    "                                      assistant_id='agent', \n",
    "                                      input={'messages':input_message}, \n",
    "                                      stream_mode='values'):\n",
    "    messages = event.data.get('messages', None)\n",
    "    if messages:\n",
    "        print(convert_to_messages(messages)[-1])\n",
    "    print('=='*25)"
   ]
  },
  {
   "cell_type": "markdown",
   "id": "d37c8541",
   "metadata": {},
   "source": [
    "### Human in the loop"
   ]
  },
  {
   "cell_type": "code",
   "execution_count": 24,
   "id": "4f9725bc",
   "metadata": {},
   "outputs": [
    {
     "data": {
      "image/png": "[encoded data removed]",
      "text/plain": [
       "<IPython.core.display.Image object>"
      ]
     },
     "metadata": {},
     "output_type": "display_data"
    }
   ],
   "source": [
    "from langchain_core.tools import tool\n",
    "\n",
    "@tool\n",
    "def multiply(a: int, b: int) -> int:\n",
    "    \"\"\"Multiply a and b.\n",
    "\n",
    "    Args:\n",
    "        a: first int\n",
    "        b: second int\n",
    "    \"\"\"\n",
    "    return a * b\n",
    "\n",
    "\n",
    "@tool\n",
    "def add(a: int, b: int) -> int:\n",
    "    \"\"\"Adds a and b.\n",
    "\n",
    "    Args:\n",
    "        a: first int\n",
    "        b: second int\n",
    "    \"\"\"\n",
    "    return a + b\n",
    "\n",
    "@tool\n",
    "def divide(a: int, b: int) -> float:\n",
    "    \"\"\"Adds a and b.\n",
    "\n",
    "    Args:\n",
    "        a: first int\n",
    "        b: second int\n",
    "    \"\"\"\n",
    "    return a / b\n",
    "\n",
    "tools = [add, multiply, divide]\n",
    "llm = ChatOpenAI(model=\"gpt-4o-mini\")\n",
    "llm_with_tools = llm.bind_tools(tools)\n",
    "\n",
    "from IPython.display import Image, display\n",
    "from langgraph.graph.state import StateGraph, START, END\n",
    "from langgraph.graph.message import add_messages\n",
    "from langgraph.checkpoint.memory import MemorySaver\n",
    "from langgraph.prebuilt import tools_condition, ToolNode\n",
    "from langchain_core.messages import AIMessage, HumanMessage, SystemMessage\n",
    "from typing import Annotated, List\n",
    "from typing_extensions import TypedDict\n",
    "\n",
    "sys_message = SystemMessage(content=\"You are a helpful assistant tasked with performing arithmetic on a set of inputs.\")\n",
    "\n",
    "class State(TypedDict):\n",
    "    messages : Annotated[List, add_messages]\n",
    "\n",
    "def math_assistant(state:State):\n",
    "    return {'messages':llm_with_tools.invoke([sys_message] + state['messages'])}\n",
    "\n",
    "\n",
    "builder = StateGraph(State)\n",
    "builder.add_node('math_assistant', math_assistant)\n",
    "builder.add_node('tools', ToolNode(tools=tools))\n",
    "builder.add_edge(START, 'math_assistant')\n",
    "builder.add_conditional_edges('math_assistant', tools_condition)\n",
    "builder.add_edge('tools', 'math_assistant')\n",
    "memory = MemorySaver()\n",
    "graph = builder.compile(interrupt_before=['tools'], checkpointer=memory)\n",
    "\n",
    "display(Image(graph.get_graph().draw_mermaid_png()))\n"
   ]
  },
  {
   "cell_type": "code",
   "execution_count": 27,
   "id": "174e8d47",
   "metadata": {},
   "outputs": [
    {
     "name": "stdout",
     "output_type": "stream",
     "text": [
      "================================\u001b[1m Human Message \u001b[0m=================================\n",
      "\n",
      "Multiply 2 and 3\n",
      "==================================\u001b[1m Ai Message \u001b[0m==================================\n",
      "Tool Calls:\n",
      "  multiply (call_jYxmyyXkX2qZjxqJxBmyXGC8)\n",
      " Call ID: call_jYxmyyXkX2qZjxqJxBmyXGC8\n",
      "  Args:\n",
      "    a: 2\n",
      "    b: 3\n"
     ]
    }
   ],
   "source": [
    "# Input\n",
    "initial_input = {\"messages\": HumanMessage(content=\"Multiply 2 and 3\")}\n",
    "\n",
    "# Thread\n",
    "thread = {\"configurable\": {\"thread_id\": \"1\"}}\n",
    "\n",
    "# Run the graph until the first interruption\n",
    "for event in graph.stream(initial_input, thread, stream_mode=\"values\"):\n",
    "    event['messages'][-1].pretty_print()"
   ]
  },
  {
   "cell_type": "code",
   "execution_count": 29,
   "id": "878c1611",
   "metadata": {},
   "outputs": [
    {
     "data": {
      "text/plain": [
       "('tools',)"
      ]
     },
     "execution_count": 29,
     "metadata": {},
     "output_type": "execute_result"
    }
   ],
   "source": [
    "current_state = graph.get_state(thread)\n",
    "current_state.next"
   ]
  },
  {
   "cell_type": "code",
   "execution_count": 30,
   "id": "d2368945",
   "metadata": {},
   "outputs": [
    {
     "name": "stdout",
     "output_type": "stream",
     "text": [
      "==================================\u001b[1m Ai Message \u001b[0m==================================\n",
      "Tool Calls:\n",
      "  multiply (call_jYxmyyXkX2qZjxqJxBmyXGC8)\n",
      " Call ID: call_jYxmyyXkX2qZjxqJxBmyXGC8\n",
      "  Args:\n",
      "    a: 2\n",
      "    b: 3\n",
      "=================================\u001b[1m Tool Message \u001b[0m=================================\n",
      "Name: multiply\n",
      "\n",
      "6\n",
      "==================================\u001b[1m Ai Message \u001b[0m==================================\n",
      "\n",
      "The result of multiplying 2 and 3 is 6.\n"
     ]
    }
   ],
   "source": [
    "for event in graph.stream(None, thread, stream_mode='values'):\n",
    "    event['messages'][-1].pretty_print()"
   ]
  },
  {
   "cell_type": "code",
   "execution_count": 31,
   "id": "8b582aa9",
   "metadata": {},
   "outputs": [
    {
     "name": "stdout",
     "output_type": "stream",
     "text": [
      "================================\u001b[1m Human Message \u001b[0m=================================\n",
      "\n",
      "Multiply 2 and 3\n",
      "==================================\u001b[1m Ai Message \u001b[0m==================================\n",
      "Tool Calls:\n",
      "  multiply (call_zfH99rR1YnktL0vX9V7xXxxp)\n",
      " Call ID: call_zfH99rR1YnktL0vX9V7xXxxp\n",
      "  Args:\n",
      "    a: 2\n",
      "    b: 3\n",
      "==================================\u001b[1m Ai Message \u001b[0m==================================\n",
      "Tool Calls:\n",
      "  multiply (call_zfH99rR1YnktL0vX9V7xXxxp)\n",
      " Call ID: call_zfH99rR1YnktL0vX9V7xXxxp\n",
      "  Args:\n",
      "    a: 2\n",
      "    b: 3\n",
      "=================================\u001b[1m Tool Message \u001b[0m=================================\n",
      "Name: multiply\n",
      "\n",
      "6\n",
      "==================================\u001b[1m Ai Message \u001b[0m==================================\n",
      "\n",
      "The result of multiplying 2 and 3 is 6.\n"
     ]
    }
   ],
   "source": [
    "# Input\n",
    "initial_input = {\"messages\": HumanMessage(content=\"Multiply 2 and 3\")}\n",
    "\n",
    "# Thread\n",
    "thread = {\"configurable\": {\"thread_id\": \"2\"}}\n",
    "\n",
    "# Run the graph until the first interruption\n",
    "for event in graph.stream(initial_input, thread, stream_mode=\"values\"):\n",
    "    event['messages'][-1].pretty_print()\n",
    "\n",
    "\n",
    "## getting the human feedback \n",
    "user_approval = input('Do you want to use the tool? (Yes/No)')\n",
    "if user_approval.lower()=='yes':\n",
    "    for event in graph.stream(None, thread, stream_mode='values'):\n",
    "        event['messages'][-1].pretty_print()\n",
    "else:\n",
    "    print('Cancelled by the user')"
   ]
  },
  {
   "cell_type": "code",
   "execution_count": 35,
   "id": "b0e0a0bd",
   "metadata": {},
   "outputs": [
    {
     "name": "stdout",
     "output_type": "stream",
     "text": [
      "Receiving new type of event: metadata\n",
      "--------------------------------------------------\n",
      "Receiving new type of event: values\n",
      "{'content': 'Multiply 2 and 3', 'additional_kwargs': {'example': False, 'additional_kwargs': {}, 'response_metadata': {}}, 'response_metadata': {}, 'type': 'human', 'name': None, 'id': 'cf2a32ad-c98f-4485-90ed-147c2b51a44b', 'example': False}\n",
      "--------------------------------------------------\n",
      "Receiving new type of event: values\n",
      "{'content': '', 'additional_kwargs': {'tool_calls': [{'id': 'call_M14XDIgwOzKswX5Jbn6s4UCe', 'function': {'arguments': '{\"a\":2,\"b\":3}', 'name': 'multiply'}, 'type': 'function'}], 'refusal': None}, 'response_metadata': {'token_usage': {'completion_tokens': 17, 'prompt_tokens': 134, 'total_tokens': 151, 'completion_tokens_details': {'accepted_prediction_tokens': 0, 'audio_tokens': 0, 'reasoning_tokens': 0, 'rejected_prediction_tokens': 0}, 'prompt_tokens_details': {'audio_tokens': 0, 'cached_tokens': 0}}, 'model_name': 'gpt-4o-2024-08-06', 'system_fingerprint': 'fp_c7ca0ebaca', 'finish_reason': 'tool_calls', 'logprobs': None}, 'type': 'ai', 'name': None, 'id': 'run-dba8445b-b1b8-436b-9d84-9acf68900eeb-0', 'example': False, 'tool_calls': [{'name': 'multiply', 'args': {'a': 2, 'b': 3}, 'id': 'call_M14XDIgwOzKswX5Jbn6s4UCe', 'type': 'tool_call'}], 'invalid_tool_calls': [], 'usage_metadata': {'input_tokens': 134, 'output_tokens': 17, 'total_tokens': 151, 'input_token_details': {'audio': 0, 'cache_read': 0}, 'output_token_details': {'audio': 0, 'reasoning': 0}}}\n",
      "--------------------------------------------------\n"
     ]
    }
   ],
   "source": [
    "from langgraph_sdk import get_client\n",
    "\n",
    "client = get_client(url=\"http://localhost:57664\")\n",
    "\n",
    "input_message = {'messages':HumanMessage(content='Multiply 2 and 3')}\n",
    "thread = await client.threads.create()\n",
    "async for event in client.runs.stream(thread['thread_id'],\n",
    "                                      assistant_id='agent',\n",
    "                                      input = input_message,\n",
    "                                      stream_mode ='values',\n",
    "                                      interrupt_before=['tools']\n",
    "                                      ):\n",
    "    print('Receiving new type of event:', event.event)\n",
    "    messages = event.data.get('messages', [])\n",
    "    if messages:\n",
    "        print(messages[-1])\n",
    "    print('-'*50)"
   ]
  },
  {
   "cell_type": "code",
   "execution_count": 36,
   "id": "588af65e",
   "metadata": {},
   "outputs": [
    {
     "name": "stdout",
     "output_type": "stream",
     "text": [
      "Receiving the new type of event:metadata...\n",
      "--------------------------------------------------\n",
      "Receiving the new type of event:values...\n",
      "{'content': '', 'additional_kwargs': {'tool_calls': [{'id': 'call_M14XDIgwOzKswX5Jbn6s4UCe', 'function': {'arguments': '{\"a\":2,\"b\":3}', 'name': 'multiply'}, 'type': 'function'}], 'refusal': None}, 'response_metadata': {'token_usage': {'completion_tokens': 17, 'prompt_tokens': 134, 'total_tokens': 151, 'completion_tokens_details': {'accepted_prediction_tokens': 0, 'audio_tokens': 0, 'reasoning_tokens': 0, 'rejected_prediction_tokens': 0}, 'prompt_tokens_details': {'audio_tokens': 0, 'cached_tokens': 0}}, 'model_name': 'gpt-4o-2024-08-06', 'system_fingerprint': 'fp_c7ca0ebaca', 'finish_reason': 'tool_calls', 'logprobs': None}, 'type': 'ai', 'name': None, 'id': 'run-dba8445b-b1b8-436b-9d84-9acf68900eeb-0', 'example': False, 'tool_calls': [{'name': 'multiply', 'args': {'a': 2, 'b': 3}, 'id': 'call_M14XDIgwOzKswX5Jbn6s4UCe', 'type': 'tool_call'}], 'invalid_tool_calls': [], 'usage_metadata': {'input_tokens': 134, 'output_tokens': 17, 'total_tokens': 151, 'input_token_details': {'audio': 0, 'cache_read': 0}, 'output_token_details': {'audio': 0, 'reasoning': 0}}}\n",
      "--------------------------------------------------\n",
      "Receiving the new type of event:values...\n",
      "{'content': '6', 'additional_kwargs': {}, 'response_metadata': {}, 'type': 'tool', 'name': 'multiply', 'id': '42a6b495-e0e4-47dc-aa6e-f54ce9e3f08f', 'tool_call_id': 'call_M14XDIgwOzKswX5Jbn6s4UCe', 'artifact': None, 'status': 'success'}\n",
      "--------------------------------------------------\n",
      "Receiving the new type of event:values...\n",
      "{'content': 'The result of multiplying 2 and 3 is 6.', 'additional_kwargs': {'refusal': None}, 'response_metadata': {'token_usage': {'completion_tokens': 14, 'prompt_tokens': 159, 'total_tokens': 173, 'completion_tokens_details': {'accepted_prediction_tokens': 0, 'audio_tokens': 0, 'reasoning_tokens': 0, 'rejected_prediction_tokens': 0}, 'prompt_tokens_details': {'audio_tokens': 0, 'cached_tokens': 0}}, 'model_name': 'gpt-4o-2024-08-06', 'system_fingerprint': 'fp_c7ca0ebaca', 'finish_reason': 'stop', 'logprobs': None}, 'type': 'ai', 'name': None, 'id': 'run-647414a9-7a98-4fce-b18f-2e2e5ff68d15-0', 'example': False, 'tool_calls': [], 'invalid_tool_calls': [], 'usage_metadata': {'input_tokens': 159, 'output_tokens': 14, 'total_tokens': 173, 'input_token_details': {'audio': 0, 'cache_read': 0}, 'output_token_details': {'audio': 0, 'reasoning': 0}}}\n",
      "--------------------------------------------------\n"
     ]
    }
   ],
   "source": [
    "async for event in client.runs.stream(thread['thread_id'],\n",
    "                                      assistant_id='agent',\n",
    "                                      input=None,\n",
    "                                      stream_mode='values',\n",
    "                                      interrupt_before=['tools']):\n",
    "    print(f'Receiving the new type of event:{event.event}...')\n",
    "    messages = event.data.get('messages', [])\n",
    "    if messages:\n",
    "        print(messages[-1])\n",
    "    print('-'*50)"
   ]
  },
  {
   "cell_type": "markdown",
   "id": "c5d0c56b",
   "metadata": {},
   "source": [
    "## edit state human feedback"
   ]
  },
  {
   "cell_type": "code",
   "execution_count": 56,
   "id": "067a4d8b",
   "metadata": {},
   "outputs": [
    {
     "data": {
      "image/png": "[encoded data removed]",
      "text/plain": [
       "<IPython.core.display.Image object>"
      ]
     },
     "metadata": {},
     "output_type": "display_data"
    }
   ],
   "source": [
    "from langchain_openai import ChatOpenAI\n",
    "\n",
    "def multiply(a: int, b: int) -> int:\n",
    "    \"\"\"Multiply a and b.\n",
    "\n",
    "    Args:\n",
    "        a: first int\n",
    "        b: second int\n",
    "    \"\"\"\n",
    "    return a * b\n",
    "\n",
    "# This will be a tool\n",
    "def add(a: int, b: int) -> int:\n",
    "    \"\"\"Adds a and b.\n",
    "\n",
    "    Args:\n",
    "        a: first int\n",
    "        b: second int\n",
    "    \"\"\"\n",
    "    return a + b\n",
    "\n",
    "def divide(a: int, b: int) -> float:\n",
    "    \"\"\"Adds a and b.\n",
    "\n",
    "    Args:\n",
    "        a: first int\n",
    "        b: second int\n",
    "    \"\"\"\n",
    "    return a / b\n",
    "\n",
    "tools = [add, multiply, divide]\n",
    "llm = ChatOpenAI(model=\"gpt-4o\")\n",
    "llm_with_tools = llm.bind_tools(tools)\n",
    "\n",
    "\n",
    "from IPython.display import Image, display\n",
    "\n",
    "from langgraph.checkpoint.memory import MemorySaver\n",
    "from langgraph.graph import MessagesState\n",
    "from langgraph.graph import START, StateGraph\n",
    "from langgraph.prebuilt import tools_condition, ToolNode\n",
    "\n",
    "from langchain_core.messages import HumanMessage, SystemMessage\n",
    "\n",
    "# System message\n",
    "sys_msg = SystemMessage(content=\"You are a helpful assistant tasked with performing arithmetic on a set of inputs.\")\n",
    "\n",
    "# Node\n",
    "def assistant(state: MessagesState):\n",
    "   return {\"messages\": [llm_with_tools.invoke([sys_msg] + state[\"messages\"])]}\n",
    "\n",
    "# Graph\n",
    "builder = StateGraph(MessagesState)\n",
    "\n",
    "# Define nodes: these do the work\n",
    "builder.add_node(\"assistant\", assistant)\n",
    "builder.add_node(\"tools\", ToolNode(tools))\n",
    "\n",
    "# Define edges: these determine the control flow\n",
    "builder.add_edge(START, \"assistant\")\n",
    "builder.add_conditional_edges(\n",
    "    \"assistant\",\n",
    "    # If the latest message (result) from assistant is a tool call -> tools_condition routes to tools\n",
    "    # If the latest message (result) from assistant is a not a tool call -> tools_condition routes to END\n",
    "    tools_condition,\n",
    ")\n",
    "builder.add_edge(\"tools\", \"assistant\")\n",
    "\n",
    "memory = MemorySaver()\n",
    "graph = builder.compile(interrupt_before=[\"assistant\"], checkpointer=memory)\n",
    "\n",
    "# Show\n",
    "display(Image(graph.get_graph(xray=True).draw_mermaid_png()))"
   ]
  },
  {
   "cell_type": "code",
   "execution_count": 58,
   "id": "18dba6ca",
   "metadata": {},
   "outputs": [
    {
     "name": "stdout",
     "output_type": "stream",
     "text": [
      "================================\u001b[1m Human Message \u001b[0m=================================\n",
      "\n",
      "Multiply 2 and 3\n"
     ]
    }
   ],
   "source": [
    "# Input\n",
    "initial_input = {\"messages\": \"Multiply 2 and 3\"}\n",
    "\n",
    "# Thread\n",
    "thread = {\"configurable\": {\"thread_id\": \"40\"}}\n",
    "\n",
    "# Run the graph until the first interruption\n",
    "for event in graph.stream(initial_input, thread, stream_mode=\"values\"):\n",
    "    event['messages'][-1].pretty_print()"
   ]
  },
  {
   "cell_type": "code",
   "execution_count": 59,
   "id": "c020a4ce",
   "metadata": {},
   "outputs": [
    {
     "data": {
      "text/plain": [
       "StateSnapshot(values={'messages': [HumanMessage(content='Multiply 2 and 3', additional_kwargs={}, response_metadata={}, id='c8892e9f-57e7-4290-bfab-86fa401e863e')]}, next=('assistant',), config={'configurable': {'thread_id': '40', 'checkpoint_ns': '', 'checkpoint_id': '1efb628b-dc1c-6da6-8000-c36e4868ecb0'}}, metadata={'source': 'loop', 'writes': None, 'thread_id': '40', 'step': 0, 'parents': {}}, created_at='2024-12-09T12:25:57.031660+00:00', parent_config={'configurable': {'thread_id': '40', 'checkpoint_ns': '', 'checkpoint_id': '1efb628b-dc19-6cbe-bfff-9ec75c615988'}}, tasks=(PregelTask(id='071869e2-e2fb-3277-d970-47262c0f5485', name='assistant', path=('__pregel_pull', 'assistant'), error=None, interrupts=(), state=None, result=None),))"
      ]
     },
     "execution_count": 59,
     "metadata": {},
     "output_type": "execute_result"
    }
   ],
   "source": [
    "state = graph.get_state(thread)\n",
    "state"
   ]
  },
  {
   "cell_type": "code",
   "execution_count": 60,
   "id": "888b7bcf",
   "metadata": {},
   "outputs": [
    {
     "data": {
      "text/plain": [
       "{'configurable': {'thread_id': '40',\n",
       "  'checkpoint_ns': '',\n",
       "  'checkpoint_id': '1efb628c-23d6-6df4-8001-222a5fac554e'}}"
      ]
     },
     "execution_count": 60,
     "metadata": {},
     "output_type": "execute_result"
    }
   ],
   "source": [
    "graph.update_state(thread,\n",
    "                   {'messages':[HumanMessage(content=\"No, actually 3 and 3!\")]})"
   ]
  },
  {
   "cell_type": "code",
   "execution_count": 61,
   "id": "39f77add",
   "metadata": {},
   "outputs": [
    {
     "data": {
      "text/plain": [
       "StateSnapshot(values={'messages': [HumanMessage(content='Multiply 2 and 3', additional_kwargs={}, response_metadata={}, id='c8892e9f-57e7-4290-bfab-86fa401e863e'), HumanMessage(content='No, actually 3 and 3!', additional_kwargs={}, response_metadata={}, id='4bf3cf0b-1768-4b3c-9f5e-2fe109afc101')]}, next=('assistant',), config={'configurable': {'thread_id': '40', 'checkpoint_ns': '', 'checkpoint_id': '1efb628c-23d6-6df4-8001-222a5fac554e'}}, metadata={'source': 'update', 'writes': {'__start__': {'messages': [HumanMessage(content='No, actually 3 and 3!', additional_kwargs={}, response_metadata={}, id='4bf3cf0b-1768-4b3c-9f5e-2fe109afc101')]}}, 'thread_id': '40', 'step': 1, 'parents': {}}, created_at='2024-12-09T12:26:04.552745+00:00', parent_config={'configurable': {'thread_id': '40', 'checkpoint_ns': '', 'checkpoint_id': '1efb628b-dc1c-6da6-8000-c36e4868ecb0'}}, tasks=(PregelTask(id='cb4c41c3-4887-b9c0-6300-ebfe6f37b455', name='assistant', path=('__pregel_pull', 'assistant'), error=None, interrupts=(), state=None, result=None),))"
      ]
     },
     "execution_count": 61,
     "metadata": {},
     "output_type": "execute_result"
    }
   ],
   "source": [
    "new_state = graph.get_state(thread)\n",
    "new_state"
   ]
  },
  {
   "cell_type": "code",
   "execution_count": 62,
   "id": "837a3224",
   "metadata": {},
   "outputs": [
    {
     "data": {
      "text/plain": [
       "{'messages': [HumanMessage(content='Multiply 2 and 3', additional_kwargs={}, response_metadata={}, id='c8892e9f-57e7-4290-bfab-86fa401e863e'),\n",
       "  HumanMessage(content='No, actually 3 and 3!', additional_kwargs={}, response_metadata={}, id='4bf3cf0b-1768-4b3c-9f5e-2fe109afc101')]}"
      ]
     },
     "execution_count": 62,
     "metadata": {},
     "output_type": "execute_result"
    }
   ],
   "source": [
    "new_state.values"
   ]
  },
  {
   "cell_type": "code",
   "execution_count": 63,
   "id": "2245a633",
   "metadata": {},
   "outputs": [
    {
     "name": "stdout",
     "output_type": "stream",
     "text": [
      "================================\u001b[1m Human Message \u001b[0m=================================\n",
      "\n",
      "Multiply 2 and 3\n",
      "================================\u001b[1m Human Message \u001b[0m=================================\n",
      "\n",
      "No, actually 3 and 3!\n"
     ]
    }
   ],
   "source": [
    "for m in new_state.values['messages']:\n",
    "    m.pretty_print()"
   ]
  },
  {
   "cell_type": "code",
   "execution_count": 64,
   "id": "0a64b1b2",
   "metadata": {},
   "outputs": [
    {
     "name": "stdout",
     "output_type": "stream",
     "text": [
      "================================\u001b[1m Human Message \u001b[0m=================================\n",
      "\n",
      "No, actually 3 and 3!\n",
      "==================================\u001b[1m Ai Message \u001b[0m==================================\n",
      "Tool Calls:\n",
      "  multiply (call_V4yQJoJ7JbgAJtL6E1HvVSgS)\n",
      " Call ID: call_V4yQJoJ7JbgAJtL6E1HvVSgS\n",
      "  Args:\n",
      "    a: 3\n",
      "    b: 3\n",
      "=================================\u001b[1m Tool Message \u001b[0m=================================\n",
      "Name: multiply\n",
      "\n",
      "9\n"
     ]
    }
   ],
   "source": [
    "for event in graph.stream(None, thread, stream_mode='values'):\n",
    "    event['messages'][-1].pretty_print()"
   ]
  },
  {
   "cell_type": "markdown",
   "id": "9e3eee09",
   "metadata": {},
   "source": [
    "## Updating agent state with the human's feedback"
   ]
  },
  {
   "cell_type": "code",
   "execution_count": 66,
   "id": "3cd6874d",
   "metadata": {},
   "outputs": [
    {
     "data": {
      "image/png": "[encoded data removed]",
      "text/plain": [
       "<IPython.core.display.Image object>"
      ]
     },
     "metadata": {},
     "output_type": "display_data"
    }
   ],
   "source": [
    "sys_message = SystemMessage(content='You are a helpful assistant tasked with performing arithmetic on a set of inputs.')\n",
    "\n",
    "def human_feedback(state:State):\n",
    "    pass\n",
    "\n",
    "def assistant(state:State):\n",
    "    return {'messages':llm_with_tools.invoke([sys_message]+state['messages'])}\n",
    "\n",
    "builder = StateGraph(State)\n",
    "builder.add_node('assistant', assistant)\n",
    "builder.add_node('tools', ToolNode(tools))\n",
    "builder.add_node('human_feedback', human_feedback)\n",
    "\n",
    "builder.add_edge(START, 'human_feedback')\n",
    "builder.add_edge('human_feedback', 'assistant')\n",
    "builder.add_conditional_edges('assistant', tools_condition)\n",
    "builder.add_edge('tools', 'human_feedback')\n",
    "\n",
    "graph = builder.compile(interrupt_before=['human_feedback'], checkpointer=memory)\n",
    "display(Image(graph.get_graph().draw_mermaid_png()))"
   ]
  },
  {
   "cell_type": "code",
   "execution_count": 68,
   "id": "d15c06a5",
   "metadata": {},
   "outputs": [
    {
     "name": "stdout",
     "output_type": "stream",
     "text": [
      "================================\u001b[1m Human Message \u001b[0m=================================\n",
      "\n",
      "Multiply 2 and 3\n",
      "================================\u001b[1m Human Message \u001b[0m=================================\n",
      "\n",
      "no, multiply 3 and 3\n",
      "==================================\u001b[1m Ai Message \u001b[0m==================================\n",
      "Tool Calls:\n",
      "  multiply (call_qLl2lrwJXHDlSDrMQQnNaFid)\n",
      " Call ID: call_qLl2lrwJXHDlSDrMQQnNaFid\n",
      "  Args:\n",
      "    a: 3\n",
      "    b: 3\n",
      "=================================\u001b[1m Tool Message \u001b[0m=================================\n",
      "Name: multiply\n",
      "\n",
      "9\n"
     ]
    }
   ],
   "source": [
    "initial_input = {'messages':'Multiply 2 and 3'}\n",
    "config = {'configurable':{'thread_id':6}}\n",
    "\n",
    "for event in graph.stream(initial_input, config, stream_mode='values'):\n",
    "    event['messages'][-1].pretty_print()\n",
    "\n",
    "\n",
    "# update the state using input\n",
    "user_input = input('Tell me how you want to update the state?')\n",
    "graph.update_state(config, {'messages':user_input}, as_node='human_feedback')\n",
    "\n",
    "for event in graph.stream(None, config=config, stream_mode='values'):\n",
    "    event['messages'][-1].pretty_print()"
   ]
  },
  {
   "cell_type": "code",
   "execution_count": 69,
   "id": "43e5fe7a",
   "metadata": {},
   "outputs": [
    {
     "name": "stdout",
     "output_type": "stream",
     "text": [
      "=================================\u001b[1m Tool Message \u001b[0m=================================\n",
      "Name: multiply\n",
      "\n",
      "9\n"
     ]
    }
   ],
   "source": [
    "for event in graph.stream(None, thread, stream_mode=\"values\"):\n",
    "    event[\"messages\"][-1].pretty_print()"
   ]
  },
  {
   "cell_type": "markdown",
   "id": "f345e9c1",
   "metadata": {},
   "source": [
    "# Dynamic Breakpoints"
   ]
  },
  {
   "cell_type": "code",
   "execution_count": 71,
   "id": "cb441d6b",
   "metadata": {},
   "outputs": [
    {
     "data": {
      "image/png": "[encoded data removed]",
      "text/plain": [
       "<IPython.core.display.Image object>"
      ]
     },
     "metadata": {},
     "output_type": "display_data"
    }
   ],
   "source": [
    "from IPython.display import display, Image\n",
    "from typing_extensions import TypedDict\n",
    "from langgraph.checkpoint.memory import MemorySaver\n",
    "from langgraph.errors import NodeInterrupt\n",
    "from langgraph.graph.state import StateGraph, START, END\n",
    "\n",
    "class State(TypedDict):\n",
    "    input : str \n",
    "\n",
    "\n",
    "def step1(state:State):\n",
    "    print('Step 1')\n",
    "    return state \n",
    "\n",
    "def step2(state:State):\n",
    "    if len(state['input'])>5:\n",
    "        raise NodeInterrupt(f\"Received  input that is longer than 5 characters:{state['input']}\")\n",
    "    \n",
    "    print('Step 2')\n",
    "    return state\n",
    "\n",
    "def step3(state:State):\n",
    "    print('step 3')\n",
    "    return state \n",
    "\n",
    "\n",
    "builder = StateGraph(State)\n",
    "builder.add_node('step1', step1)\n",
    "builder.add_node('step2', step2)\n",
    "builder.add_node('step3', step3)\n",
    "builder.add_edge(START, 'step1')\n",
    "builder.add_edge('step1', 'step2')\n",
    "builder.add_edge('step2', 'step3')\n",
    "builder.add_edge('step3', END)\n",
    "\n",
    "memory = MemorySaver()\n",
    "graph = builder.compile(checkpointer=memory)\n",
    "display(Image(graph.get_graph().draw_mermaid_png()))\n",
    "\n"
   ]
  },
  {
   "cell_type": "code",
   "execution_count": 72,
   "id": "86cd1a97",
   "metadata": {},
   "outputs": [
    {
     "name": "stdout",
     "output_type": "stream",
     "text": [
      "{'input': 'hello world'}\n",
      "Step 1\n",
      "{'input': 'hello world'}\n"
     ]
    }
   ],
   "source": [
    "initial_input = {'input':'hello world'}\n",
    "thread_config = {'configurable':{'thread_id':7}}\n",
    "for event in graph.stream(initial_input, thread_config, stream_mode='values'):\n",
    "    print(event)"
   ]
  },
  {
   "cell_type": "code",
   "execution_count": 73,
   "id": "6a73f614",
   "metadata": {},
   "outputs": [
    {
     "name": "stdout",
     "output_type": "stream",
     "text": [
      "('step2',)\n"
     ]
    }
   ],
   "source": [
    "state = graph.get_state(thread_config)\n",
    "print(state.next)"
   ]
  },
  {
   "cell_type": "code",
   "execution_count": 74,
   "id": "03d09aa7",
   "metadata": {},
   "outputs": [
    {
     "name": "stdout",
     "output_type": "stream",
     "text": [
      "(PregelTask(id='c25a08f4-9847-d54a-906f-e2782d8bc004', name='step2', path=('__pregel_pull', 'step2'), error=None, interrupts=(Interrupt(value='Received  input that is longer than 5 characters:hello world', resumable=False, ns=None, when='during'),), state=None, result=None),)\n"
     ]
    }
   ],
   "source": [
    "print(state.tasks)"
   ]
  },
  {
   "cell_type": "code",
   "execution_count": 75,
   "id": "0aa193c8",
   "metadata": {},
   "outputs": [
    {
     "name": "stdout",
     "output_type": "stream",
     "text": [
      "{'input': 'hello world'}\n"
     ]
    }
   ],
   "source": [
    "for event in graph.stream(None, thread_config, stream_mode='values'):\n",
    "    print(event)"
   ]
  },
  {
   "cell_type": "code",
   "execution_count": 77,
   "id": "258451d2",
   "metadata": {},
   "outputs": [
    {
     "data": {
      "text/plain": [
       "('step2',)"
      ]
     },
     "execution_count": 77,
     "metadata": {},
     "output_type": "execute_result"
    }
   ],
   "source": [
    "graph.get_state(thread_config).next"
   ]
  },
  {
   "cell_type": "code",
   "execution_count": 78,
   "id": "a527d74e",
   "metadata": {},
   "outputs": [
    {
     "data": {
      "text/plain": [
       "{'configurable': {'thread_id': 7,\n",
       "  'checkpoint_ns': '',\n",
       "  'checkpoint_id': '1efb63c0-f36d-6308-8002-886fd682ab69'}}"
      ]
     },
     "execution_count": 78,
     "metadata": {},
     "output_type": "execute_result"
    }
   ],
   "source": [
    "graph.update_state(thread_config, {'input':'hi'})"
   ]
  },
  {
   "cell_type": "code",
   "execution_count": 79,
   "id": "42be9ce4",
   "metadata": {},
   "outputs": [
    {
     "name": "stdout",
     "output_type": "stream",
     "text": [
      "{'input': 'hi'}\n",
      "Step 2\n",
      "{'input': 'hi'}\n",
      "step 3\n",
      "{'input': 'hi'}\n"
     ]
    }
   ],
   "source": [
    "for event in graph.stream(None, thread_config, stream_mode='values'):\n",
    "    print(event)"
   ]
  },
  {
   "cell_type": "code",
   "execution_count": 82,
   "id": "5272e6c3",
   "metadata": {},
   "outputs": [
    {
     "name": "stdout",
     "output_type": "stream",
     "text": [
      "[{'assistant_id': '6f6fce9a-b777-529d-9699-dd340ddec86c',\n",
      "  'config': {},\n",
      "  'created_at': '2024-12-09T10:28:41.077546+00:00',\n",
      "  'graph_id': 'dynamic_breakpoints',\n",
      "  'metadata': {'created_by': 'system'},\n",
      "  'name': 'dynamic_breakpoints',\n",
      "  'updated_at': '2024-12-09T10:28:41.077546+00:00',\n",
      "  'version': 1},\n",
      " {'assistant_id': 'fe096781-5601-53d2-b2f6-0d3403f7e9ca',\n",
      "  'config': {},\n",
      "  'created_at': '2024-12-09T10:28:41.075276+00:00',\n",
      "  'graph_id': 'agent',\n",
      "  'metadata': {'created_by': 'system'},\n",
      "  'name': 'agent',\n",
      "  'updated_at': '2024-12-09T10:28:41.075276+00:00',\n",
      "  'version': 1}]\n"
     ]
    }
   ],
   "source": [
    "from langgraph_sdk import get_client\n",
    "from pprint import pprint\n",
    "\n",
    "URL = \"http://localhost:57664\"\n",
    "client = get_client(url=URL)\n",
    "\n",
    "assistants = await client.assistants.search()\n",
    "pprint(assistants)"
   ]
  },
  {
   "cell_type": "code",
   "execution_count": 83,
   "id": "2e179604",
   "metadata": {},
   "outputs": [
    {
     "name": "stdout",
     "output_type": "stream",
     "text": [
      "Receiving the new type of event:metadata\n",
      "{'run_id': '1efb63cd-538a-6234-8471-b24bb3024238', 'attempt': 1}\n",
      "\n",
      "\n",
      "\n",
      "Receiving the new type of event:values\n",
      "{'input': 'hello world'}\n",
      "\n",
      "\n",
      "\n",
      "Receiving the new type of event:values\n",
      "{'input': 'hello world'}\n",
      "\n",
      "\n",
      "\n"
     ]
    }
   ],
   "source": [
    "thread = await client.threads.create()\n",
    "input_dict = {'input':'hello world'}\n",
    "\n",
    "async for chunk in client.runs.stream(thread['thread_id'],\n",
    "                                      assistant_id='dynamic_breakpoints',\n",
    "                                      input = input_dict,\n",
    "                                      stream_mode='values'):\n",
    "    print(f\"Receiving the new type of event:{chunk.event}\")\n",
    "    print(chunk.data)\n",
    "    print('\\n\\n')"
   ]
  },
  {
   "cell_type": "code",
   "execution_count": 84,
   "id": "3ded37b5",
   "metadata": {},
   "outputs": [
    {
     "data": {
      "text/plain": [
       "['step_2']"
      ]
     },
     "execution_count": 84,
     "metadata": {},
     "output_type": "execute_result"
    }
   ],
   "source": [
    "current_state = await client.threads.get_state(thread['thread_id'])\n",
    "current_state['next']"
   ]
  },
  {
   "cell_type": "code",
   "execution_count": 85,
   "id": "5d7e6096",
   "metadata": {},
   "outputs": [
    {
     "data": {
      "text/plain": [
       "{'checkpoint': {'thread_id': '604efa35-499f-4b62-9a3a-b2da874ad879',\n",
       "  'checkpoint_ns': '',\n",
       "  'checkpoint_id': '1efb63d0-2ac7-673a-8002-53e4a08051c5'},\n",
       " 'configurable': {'thread_id': '604efa35-499f-4b62-9a3a-b2da874ad879',\n",
       "  'checkpoint_ns': '',\n",
       "  'checkpoint_id': '1efb63d0-2ac7-673a-8002-53e4a08051c5'},\n",
       " 'checkpoint_id': '1efb63d0-2ac7-673a-8002-53e4a08051c5'}"
      ]
     },
     "execution_count": 85,
     "metadata": {},
     "output_type": "execute_result"
    }
   ],
   "source": [
    "await client.threads.update_state(thread['thread_id'], {'input':'hi'})"
   ]
  },
  {
   "cell_type": "code",
   "execution_count": 86,
   "id": "ab630719",
   "metadata": {},
   "outputs": [
    {
     "name": "stdout",
     "output_type": "stream",
     "text": [
      "Received new type of input:metadata\n",
      "{'run_id': '1efb63d3-49ff-67e6-9bdd-d41f8920903f', 'attempt': 1}\n",
      "\n",
      "\n",
      "\n",
      "Received new type of input:values\n",
      "{'input': 'hi'}\n",
      "\n",
      "\n",
      "\n",
      "Received new type of input:values\n",
      "{'input': 'hi'}\n",
      "\n",
      "\n",
      "\n",
      "Received new type of input:values\n",
      "{'input': 'hi'}\n",
      "\n",
      "\n",
      "\n"
     ]
    }
   ],
   "source": [
    "async for chunk in client.runs.stream(thread['thread_id'],\n",
    "                                      assistant_id='dynamic_breakpoints',\n",
    "                                      input=None,\n",
    "                                      stream_mode='values'):\n",
    "    print(f\"Received new type of input:{chunk.event}\")\n",
    "    print(chunk.data)\n",
    "    print('\\n\\n')"
   ]
  },
  {
   "cell_type": "markdown",
   "id": "9d2da70d",
   "metadata": {},
   "source": [
    "## Time Travel"
   ]
  },
  {
   "cell_type": "code",
   "execution_count": 89,
   "id": "afda135e",
   "metadata": {},
   "outputs": [
    {
     "data": {
      "image/png": "[encoded data removed]",
      "text/plain": [
       "<IPython.core.display.Image object>"
      ]
     },
     "metadata": {},
     "output_type": "display_data"
    },
    {
     "name": "stdout",
     "output_type": "stream",
     "text": [
      "================================\u001b[1m Human Message \u001b[0m=================================\n",
      "\n",
      "Multiply 2 and 3\n",
      "==================================\u001b[1m Ai Message \u001b[0m==================================\n",
      "Tool Calls:\n",
      "  multiply (call_5owgiehebjYVvMfO1WG0qXBE)\n",
      " Call ID: call_5owgiehebjYVvMfO1WG0qXBE\n",
      "  Args:\n",
      "    a: 2\n",
      "    b: 3\n",
      "=================================\u001b[1m Tool Message \u001b[0m=================================\n",
      "Name: multiply\n",
      "\n",
      "6\n",
      "==================================\u001b[1m Ai Message \u001b[0m==================================\n",
      "\n",
      "The result of multiplying 2 and 3 is 6.\n"
     ]
    }
   ],
   "source": [
    "from langchain_openai import ChatOpenAI\n",
    "\n",
    "def multiply(a: int, b: int) -> int:\n",
    "    \"\"\"Multiply a and b.\n",
    "\n",
    "    Args:\n",
    "        a: first int\n",
    "        b: second int\n",
    "    \"\"\"\n",
    "    return a * b\n",
    "\n",
    "# This will be a tool\n",
    "def add(a: int, b: int) -> int:\n",
    "    \"\"\"Adds a and b.\n",
    "\n",
    "    Args:\n",
    "        a: first int\n",
    "        b: second int\n",
    "    \"\"\"\n",
    "    return a + b\n",
    "\n",
    "def divide(a: int, b: int) -> float:\n",
    "    \"\"\"Adds a and b.\n",
    "\n",
    "    Args:\n",
    "        a: first int\n",
    "        b: second int\n",
    "    \"\"\"\n",
    "    return a / b\n",
    "\n",
    "tools = [add, multiply, divide]\n",
    "llm = ChatOpenAI(model=\"gpt-4o\")\n",
    "llm_with_tools = llm.bind_tools(tools)\n",
    "\n",
    "\n",
    "from IPython.display import Image, display\n",
    "\n",
    "from langgraph.checkpoint.memory import MemorySaver\n",
    "from langgraph.graph import MessagesState\n",
    "from langgraph.graph import START, END, StateGraph\n",
    "from langgraph.prebuilt import tools_condition, ToolNode\n",
    "\n",
    "from langchain_core.messages import AIMessage, HumanMessage, SystemMessage\n",
    "\n",
    "# System message\n",
    "sys_msg = SystemMessage(content=\"You are a helpful assistant tasked with performing arithmetic on a set of inputs.\")\n",
    "\n",
    "# Node\n",
    "def assistant(state: MessagesState):\n",
    "   return {\"messages\": [llm_with_tools.invoke([sys_msg] + state[\"messages\"])]}\n",
    "\n",
    "# Graph\n",
    "builder = StateGraph(MessagesState)\n",
    "\n",
    "# Define nodes: these do the work\n",
    "builder.add_node(\"assistant\", assistant)\n",
    "builder.add_node(\"tools\", ToolNode(tools))\n",
    "\n",
    "# Define edges: these determine the control flow\n",
    "builder.add_edge(START, \"assistant\")\n",
    "builder.add_conditional_edges(\n",
    "    \"assistant\",\n",
    "    # If the latest message (result) from assistant is a tool call -> tools_condition routes to tools\n",
    "    # If the latest message (result) from assistant is a not a tool call -> tools_condition routes to END\n",
    "    tools_condition,\n",
    ")\n",
    "builder.add_edge(\"tools\", \"assistant\")\n",
    "\n",
    "memory = MemorySaver()\n",
    "graph = builder.compile(checkpointer=MemorySaver())\n",
    "\n",
    "# Show\n",
    "display(Image(graph.get_graph(xray=True).draw_mermaid_png()))\n",
    "\n",
    "\n",
    "\n",
    "# Input\n",
    "initial_input = {\"messages\": HumanMessage(content=\"Multiply 2 and 3\")}\n",
    "\n",
    "# Thread\n",
    "thread = {\"configurable\": {\"thread_id\": \"1\"}}\n",
    "\n",
    "# Run the graph until the first interruption\n",
    "for event in graph.stream(initial_input, thread, stream_mode=\"values\"):\n",
    "    event['messages'][-1].pretty_print()"
   ]
  },
  {
   "cell_type": "code",
   "execution_count": 91,
   "id": "a417c629",
   "metadata": {},
   "outputs": [
    {
     "name": "stdout",
     "output_type": "stream",
     "text": [
      "StateSnapshot(values={'messages': [HumanMessage(content='Multiply 2 and 3', additional_kwargs={}, response_metadata={}, id='8f5c5e38-44ed-47d5-bf9f-f4d1c28d1aa8'), AIMessage(content='', additional_kwargs={'tool_calls': [{'id': 'call_5owgiehebjYVvMfO1WG0qXBE', 'function': {'arguments': '{\"a\":2,\"b\":3}', 'name': 'multiply'}, 'type': 'function'}], 'refusal': None}, response_metadata={'token_usage': {'completion_tokens': 17, 'prompt_tokens': 131, 'total_tokens': 148, 'completion_tokens_details': {'accepted_prediction_tokens': 0, 'audio_tokens': 0, 'reasoning_tokens': 0, 'rejected_prediction_tokens': 0}, 'prompt_tokens_details': {'audio_tokens': 0, 'cached_tokens': 0}}, 'model_name': 'gpt-4o-2024-08-06', 'system_fingerprint': 'fp_9d50cd990b', 'finish_reason': 'tool_calls', 'logprobs': None}, id='run-22662d5c-9d4a-4514-b8dc-8e09926f1971-0', tool_calls=[{'name': 'multiply', 'args': {'a': 2, 'b': 3}, 'id': 'call_5owgiehebjYVvMfO1WG0qXBE', 'type': 'tool_call'}], usage_metadata={'input_tokens': 131, 'output_tokens': 17, 'total_tokens': 148, 'input_token_details': {'audio': 0, 'cache_read': 0}, 'output_token_details': {'audio': 0, 'reasoning': 0}}), ToolMessage(content='6', name='multiply', id='2494699a-f08d-428e-b935-820714fd5687', tool_call_id='call_5owgiehebjYVvMfO1WG0qXBE'), AIMessage(content='The result of multiplying 2 and 3 is 6.', additional_kwargs={'refusal': None}, response_metadata={'token_usage': {'completion_tokens': 14, 'prompt_tokens': 156, 'total_tokens': 170, 'completion_tokens_details': {'accepted_prediction_tokens': 0, 'audio_tokens': 0, 'reasoning_tokens': 0, 'rejected_prediction_tokens': 0}, 'prompt_tokens_details': {'audio_tokens': 0, 'cached_tokens': 0}}, 'model_name': 'gpt-4o-2024-08-06', 'system_fingerprint': 'fp_9d50cd990b', 'finish_reason': 'stop', 'logprobs': None}, id='run-2ea282ed-467c-4cc1-8286-d64e7938d426-0', usage_metadata={'input_tokens': 156, 'output_tokens': 14, 'total_tokens': 170, 'input_token_details': {'audio': 0, 'cache_read': 0}, 'output_token_details': {'audio': 0, 'reasoning': 0}})]}, next=(), config={'configurable': {'thread_id': '1', 'checkpoint_ns': '', 'checkpoint_id': '1efb6407-4886-67f4-8003-f6cba6d78e06'}}, metadata={'source': 'loop', 'writes': {'assistant': {'messages': [AIMessage(content='The result of multiplying 2 and 3 is 6.', additional_kwargs={'refusal': None}, response_metadata={'token_usage': {'completion_tokens': 14, 'prompt_tokens': 156, 'total_tokens': 170, 'completion_tokens_details': {'accepted_prediction_tokens': 0, 'audio_tokens': 0, 'reasoning_tokens': 0, 'rejected_prediction_tokens': 0}, 'prompt_tokens_details': {'audio_tokens': 0, 'cached_tokens': 0}}, 'model_name': 'gpt-4o-2024-08-06', 'system_fingerprint': 'fp_9d50cd990b', 'finish_reason': 'stop', 'logprobs': None}, id='run-2ea282ed-467c-4cc1-8286-d64e7938d426-0', usage_metadata={'input_tokens': 156, 'output_tokens': 14, 'total_tokens': 170, 'input_token_details': {'audio': 0, 'cache_read': 0}, 'output_token_details': {'audio': 0, 'reasoning': 0}})]}}, 'thread_id': '1', 'step': 3, 'parents': {}}, created_at='2024-12-09T15:15:42.103332+00:00', parent_config={'configurable': {'thread_id': '1', 'checkpoint_ns': '', 'checkpoint_id': '1efb6407-3e6b-6972-8002-9360587f6743'}}, tasks=())\n"
     ]
    }
   ],
   "source": [
    "pprint(graph.get_state({'configurable': {'thread_id': '1'}}))"
   ]
  },
  {
   "cell_type": "code",
   "execution_count": 93,
   "id": "ee5b3384",
   "metadata": {},
   "outputs": [
    {
     "name": "stdout",
     "output_type": "stream",
     "text": [
      "[StateSnapshot(values={'messages': [HumanMessage(content='Multiply 2 and 3', additional_kwargs={}, response_metadata={}, id='8f5c5e38-44ed-47d5-bf9f-f4d1c28d1aa8'), AIMessage(content='', additional_kwargs={'tool_calls': [{'id': 'call_5owgiehebjYVvMfO1WG0qXBE', 'function': {'arguments': '{\"a\":2,\"b\":3}', 'name': 'multiply'}, 'type': 'function'}], 'refusal': None}, response_metadata={'token_usage': {'completion_tokens': 17, 'prompt_tokens': 131, 'total_tokens': 148, 'completion_tokens_details': {'accepted_prediction_tokens': 0, 'audio_tokens': 0, 'reasoning_tokens': 0, 'rejected_prediction_tokens': 0}, 'prompt_tokens_details': {'audio_tokens': 0, 'cached_tokens': 0}}, 'model_name': 'gpt-4o-2024-08-06', 'system_fingerprint': 'fp_9d50cd990b', 'finish_reason': 'tool_calls', 'logprobs': None}, id='run-22662d5c-9d4a-4514-b8dc-8e09926f1971-0', tool_calls=[{'name': 'multiply', 'args': {'a': 2, 'b': 3}, 'id': 'call_5owgiehebjYVvMfO1WG0qXBE', 'type': 'tool_call'}], usage_metadata={'input_tokens': 131, 'output_tokens': 17, 'total_tokens': 148, 'input_token_details': {'audio': 0, 'cache_read': 0}, 'output_token_details': {'audio': 0, 'reasoning': 0}}), ToolMessage(content='6', name='multiply', id='2494699a-f08d-428e-b935-820714fd5687', tool_call_id='call_5owgiehebjYVvMfO1WG0qXBE'), AIMessage(content='The result of multiplying 2 and 3 is 6.', additional_kwargs={'refusal': None}, response_metadata={'token_usage': {'completion_tokens': 14, 'prompt_tokens': 156, 'total_tokens': 170, 'completion_tokens_details': {'accepted_prediction_tokens': 0, 'audio_tokens': 0, 'reasoning_tokens': 0, 'rejected_prediction_tokens': 0}, 'prompt_tokens_details': {'audio_tokens': 0, 'cached_tokens': 0}}, 'model_name': 'gpt-4o-2024-08-06', 'system_fingerprint': 'fp_9d50cd990b', 'finish_reason': 'stop', 'logprobs': None}, id='run-2ea282ed-467c-4cc1-8286-d64e7938d426-0', usage_metadata={'input_tokens': 156, 'output_tokens': 14, 'total_tokens': 170, 'input_token_details': {'audio': 0, 'cache_read': 0}, 'output_token_details': {'audio': 0, 'reasoning': 0}})]}, next=(), config={'configurable': {'thread_id': '1', 'checkpoint_ns': '', 'checkpoint_id': '1efb6407-4886-67f4-8003-f6cba6d78e06'}}, metadata={'source': 'loop', 'writes': {'assistant': {'messages': [AIMessage(content='The result of multiplying 2 and 3 is 6.', additional_kwargs={'refusal': None}, response_metadata={'token_usage': {'completion_tokens': 14, 'prompt_tokens': 156, 'total_tokens': 170, 'completion_tokens_details': {'accepted_prediction_tokens': 0, 'audio_tokens': 0, 'reasoning_tokens': 0, 'rejected_prediction_tokens': 0}, 'prompt_tokens_details': {'audio_tokens': 0, 'cached_tokens': 0}}, 'model_name': 'gpt-4o-2024-08-06', 'system_fingerprint': 'fp_9d50cd990b', 'finish_reason': 'stop', 'logprobs': None}, id='run-2ea282ed-467c-4cc1-8286-d64e7938d426-0', usage_metadata={'input_tokens': 156, 'output_tokens': 14, 'total_tokens': 170, 'input_token_details': {'audio': 0, 'cache_read': 0}, 'output_token_details': {'audio': 0, 'reasoning': 0}})]}}, 'thread_id': '1', 'step': 3, 'parents': {}}, created_at='2024-12-09T15:15:42.103332+00:00', parent_config={'configurable': {'thread_id': '1', 'checkpoint_ns': '', 'checkpoint_id': '1efb6407-3e6b-6972-8002-9360587f6743'}}, tasks=()),\n",
      " StateSnapshot(values={'messages': [HumanMessage(content='Multiply 2 and 3', additional_kwargs={}, response_metadata={}, id='8f5c5e38-44ed-47d5-bf9f-f4d1c28d1aa8'), AIMessage(content='', additional_kwargs={'tool_calls': [{'id': 'call_5owgiehebjYVvMfO1WG0qXBE', 'function': {'arguments': '{\"a\":2,\"b\":3}', 'name': 'multiply'}, 'type': 'function'}], 'refusal': None}, response_metadata={'token_usage': {'completion_tokens': 17, 'prompt_tokens': 131, 'total_tokens': 148, 'completion_tokens_details': {'accepted_prediction_tokens': 0, 'audio_tokens': 0, 'reasoning_tokens': 0, 'rejected_prediction_tokens': 0}, 'prompt_tokens_details': {'audio_tokens': 0, 'cached_tokens': 0}}, 'model_name': 'gpt-4o-2024-08-06', 'system_fingerprint': 'fp_9d50cd990b', 'finish_reason': 'tool_calls', 'logprobs': None}, id='run-22662d5c-9d4a-4514-b8dc-8e09926f1971-0', tool_calls=[{'name': 'multiply', 'args': {'a': 2, 'b': 3}, 'id': 'call_5owgiehebjYVvMfO1WG0qXBE', 'type': 'tool_call'}], usage_metadata={'input_tokens': 131, 'output_tokens': 17, 'total_tokens': 148, 'input_token_details': {'audio': 0, 'cache_read': 0}, 'output_token_details': {'audio': 0, 'reasoning': 0}}), ToolMessage(content='6', name='multiply', id='2494699a-f08d-428e-b935-820714fd5687', tool_call_id='call_5owgiehebjYVvMfO1WG0qXBE')]}, next=('assistant',), config={'configurable': {'thread_id': '1', 'checkpoint_ns': '', 'checkpoint_id': '1efb6407-3e6b-6972-8002-9360587f6743'}}, metadata={'source': 'loop', 'writes': {'tools': {'messages': [ToolMessage(content='6', name='multiply', id='2494699a-f08d-428e-b935-820714fd5687', tool_call_id='call_5owgiehebjYVvMfO1WG0qXBE')]}}, 'thread_id': '1', 'step': 2, 'parents': {}}, created_at='2024-12-09T15:15:41.043734+00:00', parent_config={'configurable': {'thread_id': '1', 'checkpoint_ns': '', 'checkpoint_id': '1efb6407-3e64-6d20-8001-b6b7acdc1ac8'}}, tasks=(PregelTask(id='a7bdb09f-ed15-0495-15e0-3b96fee8139d', name='assistant', path=('__pregel_pull', 'assistant'), error=None, interrupts=(), state=None, result={'messages': [AIMessage(content='The result of multiplying 2 and 3 is 6.', additional_kwargs={'refusal': None}, response_metadata={'token_usage': {'completion_tokens': 14, 'prompt_tokens': 156, 'total_tokens': 170, 'completion_tokens_details': {'accepted_prediction_tokens': 0, 'audio_tokens': 0, 'reasoning_tokens': 0, 'rejected_prediction_tokens': 0}, 'prompt_tokens_details': {'audio_tokens': 0, 'cached_tokens': 0}}, 'model_name': 'gpt-4o-2024-08-06', 'system_fingerprint': 'fp_9d50cd990b', 'finish_reason': 'stop', 'logprobs': None}, id='run-2ea282ed-467c-4cc1-8286-d64e7938d426-0', usage_metadata={'input_tokens': 156, 'output_tokens': 14, 'total_tokens': 170, 'input_token_details': {'audio': 0, 'cache_read': 0}, 'output_token_details': {'audio': 0, 'reasoning': 0}})]}),)),\n",
      " StateSnapshot(values={'messages': [HumanMessage(content='Multiply 2 and 3', additional_kwargs={}, response_metadata={}, id='8f5c5e38-44ed-47d5-bf9f-f4d1c28d1aa8'), AIMessage(content='', additional_kwargs={'tool_calls': [{'id': 'call_5owgiehebjYVvMfO1WG0qXBE', 'function': {'arguments': '{\"a\":2,\"b\":3}', 'name': 'multiply'}, 'type': 'function'}], 'refusal': None}, response_metadata={'token_usage': {'completion_tokens': 17, 'prompt_tokens': 131, 'total_tokens': 148, 'completion_tokens_details': {'accepted_prediction_tokens': 0, 'audio_tokens': 0, 'reasoning_tokens': 0, 'rejected_prediction_tokens': 0}, 'prompt_tokens_details': {'audio_tokens': 0, 'cached_tokens': 0}}, 'model_name': 'gpt-4o-2024-08-06', 'system_fingerprint': 'fp_9d50cd990b', 'finish_reason': 'tool_calls', 'logprobs': None}, id='run-22662d5c-9d4a-4514-b8dc-8e09926f1971-0', tool_calls=[{'name': 'multiply', 'args': {'a': 2, 'b': 3}, 'id': 'call_5owgiehebjYVvMfO1WG0qXBE', 'type': 'tool_call'}], usage_metadata={'input_tokens': 131, 'output_tokens': 17, 'total_tokens': 148, 'input_token_details': {'audio': 0, 'cache_read': 0}, 'output_token_details': {'audio': 0, 'reasoning': 0}})]}, next=('tools',), config={'configurable': {'thread_id': '1', 'checkpoint_ns': '', 'checkpoint_id': '1efb6407-3e64-6d20-8001-b6b7acdc1ac8'}}, metadata={'source': 'loop', 'writes': {'assistant': {'messages': [AIMessage(content='', additional_kwargs={'tool_calls': [{'id': 'call_5owgiehebjYVvMfO1WG0qXBE', 'function': {'arguments': '{\"a\":2,\"b\":3}', 'name': 'multiply'}, 'type': 'function'}], 'refusal': None}, response_metadata={'token_usage': {'completion_tokens': 17, 'prompt_tokens': 131, 'total_tokens': 148, 'completion_tokens_details': {'accepted_prediction_tokens': 0, 'audio_tokens': 0, 'reasoning_tokens': 0, 'rejected_prediction_tokens': 0}, 'prompt_tokens_details': {'audio_tokens': 0, 'cached_tokens': 0}}, 'model_name': 'gpt-4o-2024-08-06', 'system_fingerprint': 'fp_9d50cd990b', 'finish_reason': 'tool_calls', 'logprobs': None}, id='run-22662d5c-9d4a-4514-b8dc-8e09926f1971-0', tool_calls=[{'name': 'multiply', 'args': {'a': 2, 'b': 3}, 'id': 'call_5owgiehebjYVvMfO1WG0qXBE', 'type': 'tool_call'}], usage_metadata={'input_tokens': 131, 'output_tokens': 17, 'total_tokens': 148, 'input_token_details': {'audio': 0, 'cache_read': 0}, 'output_token_details': {'audio': 0, 'reasoning': 0}})]}}, 'thread_id': '1', 'step': 1, 'parents': {}}, created_at='2024-12-09T15:15:41.040944+00:00', parent_config={'configurable': {'thread_id': '1', 'checkpoint_ns': '', 'checkpoint_id': '1efb6407-31da-6190-8000-36fe8a98ac82'}}, tasks=(PregelTask(id='690d61ea-c116-bfcf-fa3b-873147b88bfe', name='tools', path=('__pregel_pull', 'tools'), error=None, interrupts=(), state=None, result={'messages': [ToolMessage(content='6', name='multiply', id='2494699a-f08d-428e-b935-820714fd5687', tool_call_id='call_5owgiehebjYVvMfO1WG0qXBE')]}),)),\n",
      " StateSnapshot(values={'messages': [HumanMessage(content='Multiply 2 and 3', additional_kwargs={}, response_metadata={}, id='8f5c5e38-44ed-47d5-bf9f-f4d1c28d1aa8')]}, next=('assistant',), config={'configurable': {'thread_id': '1', 'checkpoint_ns': '', 'checkpoint_id': '1efb6407-31da-6190-8000-36fe8a98ac82'}}, metadata={'source': 'loop', 'writes': None, 'thread_id': '1', 'step': 0, 'parents': {}}, created_at='2024-12-09T15:15:39.725851+00:00', parent_config={'configurable': {'thread_id': '1', 'checkpoint_ns': '', 'checkpoint_id': '1efb6407-31d7-62ce-bfff-e44fb0337adb'}}, tasks=(PregelTask(id='e9e24c99-19dc-f920-f802-8939f7ecb80c', name='assistant', path=('__pregel_pull', 'assistant'), error=None, interrupts=(), state=None, result={'messages': [AIMessage(content='', additional_kwargs={'tool_calls': [{'id': 'call_5owgiehebjYVvMfO1WG0qXBE', 'function': {'arguments': '{\"a\":2,\"b\":3}', 'name': 'multiply'}, 'type': 'function'}], 'refusal': None}, response_metadata={'token_usage': {'completion_tokens': 17, 'prompt_tokens': 131, 'total_tokens': 148, 'completion_tokens_details': {'accepted_prediction_tokens': 0, 'audio_tokens': 0, 'reasoning_tokens': 0, 'rejected_prediction_tokens': 0}, 'prompt_tokens_details': {'audio_tokens': 0, 'cached_tokens': 0}}, 'model_name': 'gpt-4o-2024-08-06', 'system_fingerprint': 'fp_9d50cd990b', 'finish_reason': 'tool_calls', 'logprobs': None}, id='run-22662d5c-9d4a-4514-b8dc-8e09926f1971-0', tool_calls=[{'name': 'multiply', 'args': {'a': 2, 'b': 3}, 'id': 'call_5owgiehebjYVvMfO1WG0qXBE', 'type': 'tool_call'}], usage_metadata={'input_tokens': 131, 'output_tokens': 17, 'total_tokens': 148, 'input_token_details': {'audio': 0, 'cache_read': 0}, 'output_token_details': {'audio': 0, 'reasoning': 0}})]}),)),\n",
      " StateSnapshot(values={'messages': []}, next=('__start__',), config={'configurable': {'thread_id': '1', 'checkpoint_ns': '', 'checkpoint_id': '1efb6407-31d7-62ce-bfff-e44fb0337adb'}}, metadata={'source': 'input', 'writes': {'__start__': {'messages': HumanMessage(content='Multiply 2 and 3', additional_kwargs={}, response_metadata={})}}, 'thread_id': '1', 'step': -1, 'parents': {}}, created_at='2024-12-09T15:15:39.724655+00:00', parent_config=None, tasks=(PregelTask(id='b96e2b31-65c7-d740-f52b-063851ee1550', name='__start__', path=('__pregel_pull', '__start__'), error=None, interrupts=(), state=None, result={'messages': HumanMessage(content='Multiply 2 and 3', additional_kwargs={}, response_metadata={}, id='8f5c5e38-44ed-47d5-bf9f-f4d1c28d1aa8')}),))]\n"
     ]
    }
   ],
   "source": [
    "all_states = [s for s in graph.get_state_history(thread)]\n",
    "pprint(all_states)"
   ]
  },
  {
   "cell_type": "code",
   "execution_count": 94,
   "id": "f0ad8ffc",
   "metadata": {},
   "outputs": [
    {
     "data": {
      "text/plain": [
       "StateSnapshot(values={'messages': [HumanMessage(content='Multiply 2 and 3', additional_kwargs={}, response_metadata={}, id='8f5c5e38-44ed-47d5-bf9f-f4d1c28d1aa8')]}, next=('assistant',), config={'configurable': {'thread_id': '1', 'checkpoint_ns': '', 'checkpoint_id': '1efb6407-31da-6190-8000-36fe8a98ac82'}}, metadata={'source': 'loop', 'writes': None, 'thread_id': '1', 'step': 0, 'parents': {}}, created_at='2024-12-09T15:15:39.725851+00:00', parent_config={'configurable': {'thread_id': '1', 'checkpoint_ns': '', 'checkpoint_id': '1efb6407-31d7-62ce-bfff-e44fb0337adb'}}, tasks=(PregelTask(id='e9e24c99-19dc-f920-f802-8939f7ecb80c', name='assistant', path=('__pregel_pull', 'assistant'), error=None, interrupts=(), state=None, result={'messages': [AIMessage(content='', additional_kwargs={'tool_calls': [{'id': 'call_5owgiehebjYVvMfO1WG0qXBE', 'function': {'arguments': '{\"a\":2,\"b\":3}', 'name': 'multiply'}, 'type': 'function'}], 'refusal': None}, response_metadata={'token_usage': {'completion_tokens': 17, 'prompt_tokens': 131, 'total_tokens': 148, 'completion_tokens_details': {'accepted_prediction_tokens': 0, 'audio_tokens': 0, 'reasoning_tokens': 0, 'rejected_prediction_tokens': 0}, 'prompt_tokens_details': {'audio_tokens': 0, 'cached_tokens': 0}}, 'model_name': 'gpt-4o-2024-08-06', 'system_fingerprint': 'fp_9d50cd990b', 'finish_reason': 'tool_calls', 'logprobs': None}, id='run-22662d5c-9d4a-4514-b8dc-8e09926f1971-0', tool_calls=[{'name': 'multiply', 'args': {'a': 2, 'b': 3}, 'id': 'call_5owgiehebjYVvMfO1WG0qXBE', 'type': 'tool_call'}], usage_metadata={'input_tokens': 131, 'output_tokens': 17, 'total_tokens': 148, 'input_token_details': {'audio': 0, 'cache_read': 0}, 'output_token_details': {'audio': 0, 'reasoning': 0}})]}),))"
      ]
     },
     "execution_count": 94,
     "metadata": {},
     "output_type": "execute_result"
    }
   ],
   "source": [
    "to_replay = all_states[-2]\n",
    "to_replay"
   ]
  },
  {
   "cell_type": "code",
   "execution_count": 95,
   "id": "d6ff9321",
   "metadata": {},
   "outputs": [
    {
     "data": {
      "text/plain": [
       "{'messages': [HumanMessage(content='Multiply 2 and 3', additional_kwargs={}, response_metadata={}, id='8f5c5e38-44ed-47d5-bf9f-f4d1c28d1aa8')]}"
      ]
     },
     "execution_count": 95,
     "metadata": {},
     "output_type": "execute_result"
    }
   ],
   "source": [
    "to_replay.values"
   ]
  },
  {
   "cell_type": "code",
   "execution_count": 96,
   "id": "c8ec5ba0",
   "metadata": {},
   "outputs": [
    {
     "data": {
      "text/plain": [
       "('assistant',)"
      ]
     },
     "execution_count": 96,
     "metadata": {},
     "output_type": "execute_result"
    }
   ],
   "source": [
    "to_replay.next"
   ]
  },
  {
   "cell_type": "code",
   "execution_count": 97,
   "id": "9f0e87e0",
   "metadata": {},
   "outputs": [
    {
     "data": {
      "text/plain": [
       "{'configurable': {'thread_id': '1',\n",
       "  'checkpoint_ns': '',\n",
       "  'checkpoint_id': '1efb6407-31da-6190-8000-36fe8a98ac82'}}"
      ]
     },
     "execution_count": 97,
     "metadata": {},
     "output_type": "execute_result"
    }
   ],
   "source": [
    "to_replay.config"
   ]
  },
  {
   "cell_type": "code",
   "execution_count": 98,
   "id": "96bdd4ca",
   "metadata": {},
   "outputs": [
    {
     "name": "stdout",
     "output_type": "stream",
     "text": [
      "================================\u001b[1m Human Message \u001b[0m=================================\n",
      "\n",
      "Multiply 2 and 3\n",
      "==================================\u001b[1m Ai Message \u001b[0m==================================\n",
      "Tool Calls:\n",
      "  multiply (call_dw3LjzAPuLJBJHh0Hs9tZMG4)\n",
      " Call ID: call_dw3LjzAPuLJBJHh0Hs9tZMG4\n",
      "  Args:\n",
      "    a: 2\n",
      "    b: 3\n",
      "=================================\u001b[1m Tool Message \u001b[0m=================================\n",
      "Name: multiply\n",
      "\n",
      "6\n",
      "==================================\u001b[1m Ai Message \u001b[0m==================================\n",
      "\n",
      "The result of multiplying 2 and 3 is 6.\n"
     ]
    }
   ],
   "source": [
    "for event in graph.stream(None, to_replay.config, stream_mode='values'):\n",
    "    event['messages'][-1].pretty_print()"
   ]
  },
  {
   "cell_type": "markdown",
   "id": "b7d8be7f",
   "metadata": {},
   "source": [
    "#### to_fork"
   ]
  },
  {
   "cell_type": "code",
   "execution_count": 99,
   "id": "18b87120",
   "metadata": {},
   "outputs": [
    {
     "data": {
      "text/plain": [
       "StateSnapshot(values={'messages': [HumanMessage(content='Multiply 2 and 3', additional_kwargs={}, response_metadata={}, id='8f5c5e38-44ed-47d5-bf9f-f4d1c28d1aa8')]}, next=('assistant',), config={'configurable': {'thread_id': '1', 'checkpoint_ns': '', 'checkpoint_id': '1efb6407-31da-6190-8000-36fe8a98ac82'}}, metadata={'source': 'loop', 'writes': None, 'thread_id': '1', 'step': 0, 'parents': {}}, created_at='2024-12-09T15:15:39.725851+00:00', parent_config={'configurable': {'thread_id': '1', 'checkpoint_ns': '', 'checkpoint_id': '1efb6407-31d7-62ce-bfff-e44fb0337adb'}}, tasks=(PregelTask(id='e9e24c99-19dc-f920-f802-8939f7ecb80c', name='assistant', path=('__pregel_pull', 'assistant'), error=None, interrupts=(), state=None, result={'messages': [AIMessage(content='', additional_kwargs={'tool_calls': [{'id': 'call_5owgiehebjYVvMfO1WG0qXBE', 'function': {'arguments': '{\"a\":2,\"b\":3}', 'name': 'multiply'}, 'type': 'function'}], 'refusal': None}, response_metadata={'token_usage': {'completion_tokens': 17, 'prompt_tokens': 131, 'total_tokens': 148, 'completion_tokens_details': {'accepted_prediction_tokens': 0, 'audio_tokens': 0, 'reasoning_tokens': 0, 'rejected_prediction_tokens': 0}, 'prompt_tokens_details': {'audio_tokens': 0, 'cached_tokens': 0}}, 'model_name': 'gpt-4o-2024-08-06', 'system_fingerprint': 'fp_9d50cd990b', 'finish_reason': 'tool_calls', 'logprobs': None}, id='run-22662d5c-9d4a-4514-b8dc-8e09926f1971-0', tool_calls=[{'name': 'multiply', 'args': {'a': 2, 'b': 3}, 'id': 'call_5owgiehebjYVvMfO1WG0qXBE', 'type': 'tool_call'}], usage_metadata={'input_tokens': 131, 'output_tokens': 17, 'total_tokens': 148, 'input_token_details': {'audio': 0, 'cache_read': 0}, 'output_token_details': {'audio': 0, 'reasoning': 0}})]}),))"
      ]
     },
     "execution_count": 99,
     "metadata": {},
     "output_type": "execute_result"
    }
   ],
   "source": [
    "to_fork = all_states[-2]\n",
    "to_fork"
   ]
  },
  {
   "cell_type": "code",
   "execution_count": 100,
   "id": "cad7e951",
   "metadata": {},
   "outputs": [
    {
     "data": {
      "text/plain": [
       "[HumanMessage(content='Multiply 2 and 3', additional_kwargs={}, response_metadata={}, id='8f5c5e38-44ed-47d5-bf9f-f4d1c28d1aa8')]"
      ]
     },
     "execution_count": 100,
     "metadata": {},
     "output_type": "execute_result"
    }
   ],
   "source": [
    "to_fork.values['messages']"
   ]
  },
  {
   "cell_type": "code",
   "execution_count": 101,
   "id": "c37043eb",
   "metadata": {},
   "outputs": [
    {
     "data": {
      "text/plain": [
       "{'configurable': {'thread_id': '1',\n",
       "  'checkpoint_ns': '',\n",
       "  'checkpoint_id': '1efb6407-31da-6190-8000-36fe8a98ac82'}}"
      ]
     },
     "execution_count": 101,
     "metadata": {},
     "output_type": "execute_result"
    }
   ],
   "source": [
    "to_fork.config"
   ]
  },
  {
   "cell_type": "code",
   "execution_count": 103,
   "id": "24b20611",
   "metadata": {},
   "outputs": [],
   "source": [
    "fork_config = graph.update_state(to_fork.config, \n",
    "                                 {'messages':HumanMessage(content='Multiply by 5 and 3',\n",
    "                                                          id = to_fork.values['messages'][0].id)})"
   ]
  },
  {
   "cell_type": "code",
   "execution_count": 104,
   "id": "de09c6fd",
   "metadata": {},
   "outputs": [
    {
     "name": "stdout",
     "output_type": "stream",
     "text": [
      "[StateSnapshot(values={'messages': [HumanMessage(content='Multiply by 5 and 3', additional_kwargs={}, response_metadata={}, id='8f5c5e38-44ed-47d5-bf9f-f4d1c28d1aa8')]}, next=('assistant',), config={'configurable': {'thread_id': '1', 'checkpoint_ns': '', 'checkpoint_id': '1efb6471-6187-6a18-8001-df0cd071ad1a'}}, metadata={'source': 'update', 'writes': {'__start__': {'messages': HumanMessage(content='Multiply by 5 and 3', additional_kwargs={}, response_metadata={}, id='8f5c5e38-44ed-47d5-bf9f-f4d1c28d1aa8')}}, 'thread_id': '1', 'step': 1, 'parents': {}, 'checkpoint_ns': '', 'checkpoint_id': '1efb6407-31da-6190-8000-36fe8a98ac82'}, created_at='2024-12-09T16:03:10.140809+00:00', parent_config={'configurable': {'thread_id': '1', 'checkpoint_ns': '', 'checkpoint_id': '1efb6407-31da-6190-8000-36fe8a98ac82'}}, tasks=(PregelTask(id='bc3e47f9-8b06-3424-0a11-f33ccf3647ce', name='assistant', path=('__pregel_pull', 'assistant'), error=None, interrupts=(), state=None, result=None),)),\n",
      " StateSnapshot(values={'messages': [HumanMessage(content='Multiply 2 and 3', additional_kwargs={}, response_metadata={}, id='8f5c5e38-44ed-47d5-bf9f-f4d1c28d1aa8'), AIMessage(content='', additional_kwargs={'tool_calls': [{'id': 'call_dw3LjzAPuLJBJHh0Hs9tZMG4', 'function': {'arguments': '{\"a\":2,\"b\":3}', 'name': 'multiply'}, 'type': 'function'}], 'refusal': None}, response_metadata={'token_usage': {'completion_tokens': 17, 'prompt_tokens': 131, 'total_tokens': 148, 'completion_tokens_details': {'accepted_prediction_tokens': 0, 'audio_tokens': 0, 'reasoning_tokens': 0, 'rejected_prediction_tokens': 0}, 'prompt_tokens_details': {'audio_tokens': 0, 'cached_tokens': 0}}, 'model_name': 'gpt-4o-2024-08-06', 'system_fingerprint': 'fp_9d50cd990b', 'finish_reason': 'tool_calls', 'logprobs': None}, id='run-65c4c0a1-ae59-4c92-9c2e-2f76b1e92218-0', tool_calls=[{'name': 'multiply', 'args': {'a': 2, 'b': 3}, 'id': 'call_dw3LjzAPuLJBJHh0Hs9tZMG4', 'type': 'tool_call'}], usage_metadata={'input_tokens': 131, 'output_tokens': 17, 'total_tokens': 148, 'input_token_details': {'audio': 0, 'cache_read': 0}, 'output_token_details': {'audio': 0, 'reasoning': 0}}), ToolMessage(content='6', name='multiply', id='271bf0c7-61c9-4769-a72c-ab63a9dd5539', tool_call_id='call_dw3LjzAPuLJBJHh0Hs9tZMG4'), AIMessage(content='The result of multiplying 2 and 3 is 6.', additional_kwargs={'refusal': None}, response_metadata={'token_usage': {'completion_tokens': 14, 'prompt_tokens': 156, 'total_tokens': 170, 'completion_tokens_details': {'accepted_prediction_tokens': 0, 'audio_tokens': 0, 'reasoning_tokens': 0, 'rejected_prediction_tokens': 0}, 'prompt_tokens_details': {'audio_tokens': 0, 'cached_tokens': 0}}, 'model_name': 'gpt-4o-2024-08-06', 'system_fingerprint': 'fp_9d50cd990b', 'finish_reason': 'stop', 'logprobs': None}, id='run-c9377f5c-f4e6-40d4-8828-1adc5385c774-0', usage_metadata={'input_tokens': 156, 'output_tokens': 14, 'total_tokens': 170, 'input_token_details': {'audio': 0, 'cache_read': 0}, 'output_token_details': {'audio': 0, 'reasoning': 0}})]}, next=(), config={'configurable': {'thread_id': '1', 'checkpoint_ns': '', 'checkpoint_id': '1efb6430-6b66-611a-8003-9bff61e62151'}}, metadata={'source': 'loop', 'writes': {'assistant': {'messages': [AIMessage(content='The result of multiplying 2 and 3 is 6.', additional_kwargs={'refusal': None}, response_metadata={'token_usage': {'completion_tokens': 14, 'prompt_tokens': 156, 'total_tokens': 170, 'completion_tokens_details': {'accepted_prediction_tokens': 0, 'audio_tokens': 0, 'reasoning_tokens': 0, 'rejected_prediction_tokens': 0}, 'prompt_tokens_details': {'audio_tokens': 0, 'cached_tokens': 0}}, 'model_name': 'gpt-4o-2024-08-06', 'system_fingerprint': 'fp_9d50cd990b', 'finish_reason': 'stop', 'logprobs': None}, id='run-c9377f5c-f4e6-40d4-8828-1adc5385c774-0', usage_metadata={'input_tokens': 156, 'output_tokens': 14, 'total_tokens': 170, 'input_token_details': {'audio': 0, 'cache_read': 0}, 'output_token_details': {'audio': 0, 'reasoning': 0}})]}}, 'thread_id': '1', 'checkpoint_ns': '', 'checkpoint_id': '1efb6407-31da-6190-8000-36fe8a98ac82', 'step': 3, 'parents': {}}, created_at='2024-12-09T15:34:06.345434+00:00', parent_config={'configurable': {'thread_id': '1', 'checkpoint_ns': '', 'checkpoint_id': '1efb6430-61bd-6bcc-8002-8444722a2081'}}, tasks=()),\n",
      " StateSnapshot(values={'messages': [HumanMessage(content='Multiply 2 and 3', additional_kwargs={}, response_metadata={}, id='8f5c5e38-44ed-47d5-bf9f-f4d1c28d1aa8'), AIMessage(content='', additional_kwargs={'tool_calls': [{'id': 'call_dw3LjzAPuLJBJHh0Hs9tZMG4', 'function': {'arguments': '{\"a\":2,\"b\":3}', 'name': 'multiply'}, 'type': 'function'}], 'refusal': None}, response_metadata={'token_usage': {'completion_tokens': 17, 'prompt_tokens': 131, 'total_tokens': 148, 'completion_tokens_details': {'accepted_prediction_tokens': 0, 'audio_tokens': 0, 'reasoning_tokens': 0, 'rejected_prediction_tokens': 0}, 'prompt_tokens_details': {'audio_tokens': 0, 'cached_tokens': 0}}, 'model_name': 'gpt-4o-2024-08-06', 'system_fingerprint': 'fp_9d50cd990b', 'finish_reason': 'tool_calls', 'logprobs': None}, id='run-65c4c0a1-ae59-4c92-9c2e-2f76b1e92218-0', tool_calls=[{'name': 'multiply', 'args': {'a': 2, 'b': 3}, 'id': 'call_dw3LjzAPuLJBJHh0Hs9tZMG4', 'type': 'tool_call'}], usage_metadata={'input_tokens': 131, 'output_tokens': 17, 'total_tokens': 148, 'input_token_details': {'audio': 0, 'cache_read': 0}, 'output_token_details': {'audio': 0, 'reasoning': 0}}), ToolMessage(content='6', name='multiply', id='271bf0c7-61c9-4769-a72c-ab63a9dd5539', tool_call_id='call_dw3LjzAPuLJBJHh0Hs9tZMG4')]}, next=('assistant',), config={'configurable': {'thread_id': '1', 'checkpoint_ns': '', 'checkpoint_id': '1efb6430-61bd-6bcc-8002-8444722a2081'}}, metadata={'source': 'loop', 'writes': {'tools': {'messages': [ToolMessage(content='6', name='multiply', id='271bf0c7-61c9-4769-a72c-ab63a9dd5539', tool_call_id='call_dw3LjzAPuLJBJHh0Hs9tZMG4')]}}, 'thread_id': '1', 'checkpoint_ns': '', 'checkpoint_id': '1efb6407-31da-6190-8000-36fe8a98ac82', 'step': 2, 'parents': {}}, created_at='2024-12-09T15:34:05.332769+00:00', parent_config={'configurable': {'thread_id': '1', 'checkpoint_ns': '', 'checkpoint_id': '1efb6430-61ba-60b2-8001-be53e6cf8cce'}}, tasks=(PregelTask(id='6444ed18-e2e5-e660-f584-693896b169f7', name='assistant', path=('__pregel_pull', 'assistant'), error=None, interrupts=(), state=None, result={'messages': [AIMessage(content='The result of multiplying 2 and 3 is 6.', additional_kwargs={'refusal': None}, response_metadata={'token_usage': {'completion_tokens': 14, 'prompt_tokens': 156, 'total_tokens': 170, 'completion_tokens_details': {'accepted_prediction_tokens': 0, 'audio_tokens': 0, 'reasoning_tokens': 0, 'rejected_prediction_tokens': 0}, 'prompt_tokens_details': {'audio_tokens': 0, 'cached_tokens': 0}}, 'model_name': 'gpt-4o-2024-08-06', 'system_fingerprint': 'fp_9d50cd990b', 'finish_reason': 'stop', 'logprobs': None}, id='run-c9377f5c-f4e6-40d4-8828-1adc5385c774-0', usage_metadata={'input_tokens': 156, 'output_tokens': 14, 'total_tokens': 170, 'input_token_details': {'audio': 0, 'cache_read': 0}, 'output_token_details': {'audio': 0, 'reasoning': 0}})]}),)),\n",
      " StateSnapshot(values={'messages': [HumanMessage(content='Multiply 2 and 3', additional_kwargs={}, response_metadata={}, id='8f5c5e38-44ed-47d5-bf9f-f4d1c28d1aa8'), AIMessage(content='', additional_kwargs={'tool_calls': [{'id': 'call_dw3LjzAPuLJBJHh0Hs9tZMG4', 'function': {'arguments': '{\"a\":2,\"b\":3}', 'name': 'multiply'}, 'type': 'function'}], 'refusal': None}, response_metadata={'token_usage': {'completion_tokens': 17, 'prompt_tokens': 131, 'total_tokens': 148, 'completion_tokens_details': {'accepted_prediction_tokens': 0, 'audio_tokens': 0, 'reasoning_tokens': 0, 'rejected_prediction_tokens': 0}, 'prompt_tokens_details': {'audio_tokens': 0, 'cached_tokens': 0}}, 'model_name': 'gpt-4o-2024-08-06', 'system_fingerprint': 'fp_9d50cd990b', 'finish_reason': 'tool_calls', 'logprobs': None}, id='run-65c4c0a1-ae59-4c92-9c2e-2f76b1e92218-0', tool_calls=[{'name': 'multiply', 'args': {'a': 2, 'b': 3}, 'id': 'call_dw3LjzAPuLJBJHh0Hs9tZMG4', 'type': 'tool_call'}], usage_metadata={'input_tokens': 131, 'output_tokens': 17, 'total_tokens': 148, 'input_token_details': {'audio': 0, 'cache_read': 0}, 'output_token_details': {'audio': 0, 'reasoning': 0}})]}, next=('tools',), config={'configurable': {'thread_id': '1', 'checkpoint_ns': '', 'checkpoint_id': '1efb6430-61ba-60b2-8001-be53e6cf8cce'}}, metadata={'source': 'loop', 'writes': {'assistant': {'messages': [AIMessage(content='', additional_kwargs={'tool_calls': [{'id': 'call_dw3LjzAPuLJBJHh0Hs9tZMG4', 'function': {'arguments': '{\"a\":2,\"b\":3}', 'name': 'multiply'}, 'type': 'function'}], 'refusal': None}, response_metadata={'token_usage': {'completion_tokens': 17, 'prompt_tokens': 131, 'total_tokens': 148, 'completion_tokens_details': {'accepted_prediction_tokens': 0, 'audio_tokens': 0, 'reasoning_tokens': 0, 'rejected_prediction_tokens': 0}, 'prompt_tokens_details': {'audio_tokens': 0, 'cached_tokens': 0}}, 'model_name': 'gpt-4o-2024-08-06', 'system_fingerprint': 'fp_9d50cd990b', 'finish_reason': 'tool_calls', 'logprobs': None}, id='run-65c4c0a1-ae59-4c92-9c2e-2f76b1e92218-0', tool_calls=[{'name': 'multiply', 'args': {'a': 2, 'b': 3}, 'id': 'call_dw3LjzAPuLJBJHh0Hs9tZMG4', 'type': 'tool_call'}], usage_metadata={'input_tokens': 131, 'output_tokens': 17, 'total_tokens': 148, 'input_token_details': {'audio': 0, 'cache_read': 0}, 'output_token_details': {'audio': 0, 'reasoning': 0}})]}}, 'thread_id': '1', 'checkpoint_ns': '', 'checkpoint_id': '1efb6407-31da-6190-8000-36fe8a98ac82', 'step': 1, 'parents': {}}, created_at='2024-12-09T15:34:05.331154+00:00', parent_config={'configurable': {'thread_id': '1', 'checkpoint_ns': '', 'checkpoint_id': '1efb6407-31da-6190-8000-36fe8a98ac82'}}, tasks=(PregelTask(id='b8c4d26c-7d65-2c94-de2d-eb19931fb5de', name='tools', path=('__pregel_pull', 'tools'), error=None, interrupts=(), state=None, result={'messages': [ToolMessage(content='6', name='multiply', id='271bf0c7-61c9-4769-a72c-ab63a9dd5539', tool_call_id='call_dw3LjzAPuLJBJHh0Hs9tZMG4')]}),)),\n",
      " StateSnapshot(values={'messages': [HumanMessage(content='Multiply 2 and 3', additional_kwargs={}, response_metadata={}, id='8f5c5e38-44ed-47d5-bf9f-f4d1c28d1aa8'), AIMessage(content='', additional_kwargs={'tool_calls': [{'id': 'call_5owgiehebjYVvMfO1WG0qXBE', 'function': {'arguments': '{\"a\":2,\"b\":3}', 'name': 'multiply'}, 'type': 'function'}], 'refusal': None}, response_metadata={'token_usage': {'completion_tokens': 17, 'prompt_tokens': 131, 'total_tokens': 148, 'completion_tokens_details': {'accepted_prediction_tokens': 0, 'audio_tokens': 0, 'reasoning_tokens': 0, 'rejected_prediction_tokens': 0}, 'prompt_tokens_details': {'audio_tokens': 0, 'cached_tokens': 0}}, 'model_name': 'gpt-4o-2024-08-06', 'system_fingerprint': 'fp_9d50cd990b', 'finish_reason': 'tool_calls', 'logprobs': None}, id='run-22662d5c-9d4a-4514-b8dc-8e09926f1971-0', tool_calls=[{'name': 'multiply', 'args': {'a': 2, 'b': 3}, 'id': 'call_5owgiehebjYVvMfO1WG0qXBE', 'type': 'tool_call'}], usage_metadata={'input_tokens': 131, 'output_tokens': 17, 'total_tokens': 148, 'input_token_details': {'audio': 0, 'cache_read': 0}, 'output_token_details': {'audio': 0, 'reasoning': 0}}), ToolMessage(content='6', name='multiply', id='2494699a-f08d-428e-b935-820714fd5687', tool_call_id='call_5owgiehebjYVvMfO1WG0qXBE'), AIMessage(content='The result of multiplying 2 and 3 is 6.', additional_kwargs={'refusal': None}, response_metadata={'token_usage': {'completion_tokens': 14, 'prompt_tokens': 156, 'total_tokens': 170, 'completion_tokens_details': {'accepted_prediction_tokens': 0, 'audio_tokens': 0, 'reasoning_tokens': 0, 'rejected_prediction_tokens': 0}, 'prompt_tokens_details': {'audio_tokens': 0, 'cached_tokens': 0}}, 'model_name': 'gpt-4o-2024-08-06', 'system_fingerprint': 'fp_9d50cd990b', 'finish_reason': 'stop', 'logprobs': None}, id='run-2ea282ed-467c-4cc1-8286-d64e7938d426-0', usage_metadata={'input_tokens': 156, 'output_tokens': 14, 'total_tokens': 170, 'input_token_details': {'audio': 0, 'cache_read': 0}, 'output_token_details': {'audio': 0, 'reasoning': 0}})]}, next=(), config={'configurable': {'thread_id': '1', 'checkpoint_ns': '', 'checkpoint_id': '1efb6407-4886-67f4-8003-f6cba6d78e06'}}, metadata={'source': 'loop', 'writes': {'assistant': {'messages': [AIMessage(content='The result of multiplying 2 and 3 is 6.', additional_kwargs={'refusal': None}, response_metadata={'token_usage': {'completion_tokens': 14, 'prompt_tokens': 156, 'total_tokens': 170, 'completion_tokens_details': {'accepted_prediction_tokens': 0, 'audio_tokens': 0, 'reasoning_tokens': 0, 'rejected_prediction_tokens': 0}, 'prompt_tokens_details': {'audio_tokens': 0, 'cached_tokens': 0}}, 'model_name': 'gpt-4o-2024-08-06', 'system_fingerprint': 'fp_9d50cd990b', 'finish_reason': 'stop', 'logprobs': None}, id='run-2ea282ed-467c-4cc1-8286-d64e7938d426-0', usage_metadata={'input_tokens': 156, 'output_tokens': 14, 'total_tokens': 170, 'input_token_details': {'audio': 0, 'cache_read': 0}, 'output_token_details': {'audio': 0, 'reasoning': 0}})]}}, 'thread_id': '1', 'step': 3, 'parents': {}}, created_at='2024-12-09T15:15:42.103332+00:00', parent_config={'configurable': {'thread_id': '1', 'checkpoint_ns': '', 'checkpoint_id': '1efb6407-3e6b-6972-8002-9360587f6743'}}, tasks=()),\n",
      " StateSnapshot(values={'messages': [HumanMessage(content='Multiply 2 and 3', additional_kwargs={}, response_metadata={}, id='8f5c5e38-44ed-47d5-bf9f-f4d1c28d1aa8'), AIMessage(content='', additional_kwargs={'tool_calls': [{'id': 'call_5owgiehebjYVvMfO1WG0qXBE', 'function': {'arguments': '{\"a\":2,\"b\":3}', 'name': 'multiply'}, 'type': 'function'}], 'refusal': None}, response_metadata={'token_usage': {'completion_tokens': 17, 'prompt_tokens': 131, 'total_tokens': 148, 'completion_tokens_details': {'accepted_prediction_tokens': 0, 'audio_tokens': 0, 'reasoning_tokens': 0, 'rejected_prediction_tokens': 0}, 'prompt_tokens_details': {'audio_tokens': 0, 'cached_tokens': 0}}, 'model_name': 'gpt-4o-2024-08-06', 'system_fingerprint': 'fp_9d50cd990b', 'finish_reason': 'tool_calls', 'logprobs': None}, id='run-22662d5c-9d4a-4514-b8dc-8e09926f1971-0', tool_calls=[{'name': 'multiply', 'args': {'a': 2, 'b': 3}, 'id': 'call_5owgiehebjYVvMfO1WG0qXBE', 'type': 'tool_call'}], usage_metadata={'input_tokens': 131, 'output_tokens': 17, 'total_tokens': 148, 'input_token_details': {'audio': 0, 'cache_read': 0}, 'output_token_details': {'audio': 0, 'reasoning': 0}}), ToolMessage(content='6', name='multiply', id='2494699a-f08d-428e-b935-820714fd5687', tool_call_id='call_5owgiehebjYVvMfO1WG0qXBE')]}, next=('assistant',), config={'configurable': {'thread_id': '1', 'checkpoint_ns': '', 'checkpoint_id': '1efb6407-3e6b-6972-8002-9360587f6743'}}, metadata={'source': 'loop', 'writes': {'tools': {'messages': [ToolMessage(content='6', name='multiply', id='2494699a-f08d-428e-b935-820714fd5687', tool_call_id='call_5owgiehebjYVvMfO1WG0qXBE')]}}, 'thread_id': '1', 'step': 2, 'parents': {}}, created_at='2024-12-09T15:15:41.043734+00:00', parent_config={'configurable': {'thread_id': '1', 'checkpoint_ns': '', 'checkpoint_id': '1efb6407-3e64-6d20-8001-b6b7acdc1ac8'}}, tasks=(PregelTask(id='a7bdb09f-ed15-0495-15e0-3b96fee8139d', name='assistant', path=('__pregel_pull', 'assistant'), error=None, interrupts=(), state=None, result={'messages': [AIMessage(content='The result of multiplying 2 and 3 is 6.', additional_kwargs={'refusal': None}, response_metadata={'token_usage': {'completion_tokens': 14, 'prompt_tokens': 156, 'total_tokens': 170, 'completion_tokens_details': {'accepted_prediction_tokens': 0, 'audio_tokens': 0, 'reasoning_tokens': 0, 'rejected_prediction_tokens': 0}, 'prompt_tokens_details': {'audio_tokens': 0, 'cached_tokens': 0}}, 'model_name': 'gpt-4o-2024-08-06', 'system_fingerprint': 'fp_9d50cd990b', 'finish_reason': 'stop', 'logprobs': None}, id='run-2ea282ed-467c-4cc1-8286-d64e7938d426-0', usage_metadata={'input_tokens': 156, 'output_tokens': 14, 'total_tokens': 170, 'input_token_details': {'audio': 0, 'cache_read': 0}, 'output_token_details': {'audio': 0, 'reasoning': 0}})]}),)),\n",
      " StateSnapshot(values={'messages': [HumanMessage(content='Multiply 2 and 3', additional_kwargs={}, response_metadata={}, id='8f5c5e38-44ed-47d5-bf9f-f4d1c28d1aa8'), AIMessage(content='', additional_kwargs={'tool_calls': [{'id': 'call_5owgiehebjYVvMfO1WG0qXBE', 'function': {'arguments': '{\"a\":2,\"b\":3}', 'name': 'multiply'}, 'type': 'function'}], 'refusal': None}, response_metadata={'token_usage': {'completion_tokens': 17, 'prompt_tokens': 131, 'total_tokens': 148, 'completion_tokens_details': {'accepted_prediction_tokens': 0, 'audio_tokens': 0, 'reasoning_tokens': 0, 'rejected_prediction_tokens': 0}, 'prompt_tokens_details': {'audio_tokens': 0, 'cached_tokens': 0}}, 'model_name': 'gpt-4o-2024-08-06', 'system_fingerprint': 'fp_9d50cd990b', 'finish_reason': 'tool_calls', 'logprobs': None}, id='run-22662d5c-9d4a-4514-b8dc-8e09926f1971-0', tool_calls=[{'name': 'multiply', 'args': {'a': 2, 'b': 3}, 'id': 'call_5owgiehebjYVvMfO1WG0qXBE', 'type': 'tool_call'}], usage_metadata={'input_tokens': 131, 'output_tokens': 17, 'total_tokens': 148, 'input_token_details': {'audio': 0, 'cache_read': 0}, 'output_token_details': {'audio': 0, 'reasoning': 0}})]}, next=('tools',), config={'configurable': {'thread_id': '1', 'checkpoint_ns': '', 'checkpoint_id': '1efb6407-3e64-6d20-8001-b6b7acdc1ac8'}}, metadata={'source': 'loop', 'writes': {'assistant': {'messages': [AIMessage(content='', additional_kwargs={'tool_calls': [{'id': 'call_5owgiehebjYVvMfO1WG0qXBE', 'function': {'arguments': '{\"a\":2,\"b\":3}', 'name': 'multiply'}, 'type': 'function'}], 'refusal': None}, response_metadata={'token_usage': {'completion_tokens': 17, 'prompt_tokens': 131, 'total_tokens': 148, 'completion_tokens_details': {'accepted_prediction_tokens': 0, 'audio_tokens': 0, 'reasoning_tokens': 0, 'rejected_prediction_tokens': 0}, 'prompt_tokens_details': {'audio_tokens': 0, 'cached_tokens': 0}}, 'model_name': 'gpt-4o-2024-08-06', 'system_fingerprint': 'fp_9d50cd990b', 'finish_reason': 'tool_calls', 'logprobs': None}, id='run-22662d5c-9d4a-4514-b8dc-8e09926f1971-0', tool_calls=[{'name': 'multiply', 'args': {'a': 2, 'b': 3}, 'id': 'call_5owgiehebjYVvMfO1WG0qXBE', 'type': 'tool_call'}], usage_metadata={'input_tokens': 131, 'output_tokens': 17, 'total_tokens': 148, 'input_token_details': {'audio': 0, 'cache_read': 0}, 'output_token_details': {'audio': 0, 'reasoning': 0}})]}}, 'thread_id': '1', 'step': 1, 'parents': {}}, created_at='2024-12-09T15:15:41.040944+00:00', parent_config={'configurable': {'thread_id': '1', 'checkpoint_ns': '', 'checkpoint_id': '1efb6407-31da-6190-8000-36fe8a98ac82'}}, tasks=(PregelTask(id='690d61ea-c116-bfcf-fa3b-873147b88bfe', name='tools', path=('__pregel_pull', 'tools'), error=None, interrupts=(), state=None, result={'messages': [ToolMessage(content='6', name='multiply', id='2494699a-f08d-428e-b935-820714fd5687', tool_call_id='call_5owgiehebjYVvMfO1WG0qXBE')]}),)),\n",
      " StateSnapshot(values={'messages': [HumanMessage(content='Multiply 2 and 3', additional_kwargs={}, response_metadata={}, id='8f5c5e38-44ed-47d5-bf9f-f4d1c28d1aa8')]}, next=('assistant',), config={'configurable': {'thread_id': '1', 'checkpoint_ns': '', 'checkpoint_id': '1efb6407-31da-6190-8000-36fe8a98ac82'}}, metadata={'source': 'loop', 'writes': None, 'thread_id': '1', 'step': 0, 'parents': {}}, created_at='2024-12-09T15:15:39.725851+00:00', parent_config={'configurable': {'thread_id': '1', 'checkpoint_ns': '', 'checkpoint_id': '1efb6407-31d7-62ce-bfff-e44fb0337adb'}}, tasks=(PregelTask(id='e9e24c99-19dc-f920-f802-8939f7ecb80c', name='assistant', path=('__pregel_pull', 'assistant'), error=None, interrupts=(), state=None, result={'messages': [AIMessage(content='', additional_kwargs={'tool_calls': [{'id': 'call_5owgiehebjYVvMfO1WG0qXBE', 'function': {'arguments': '{\"a\":2,\"b\":3}', 'name': 'multiply'}, 'type': 'function'}], 'refusal': None}, response_metadata={'token_usage': {'completion_tokens': 17, 'prompt_tokens': 131, 'total_tokens': 148, 'completion_tokens_details': {'accepted_prediction_tokens': 0, 'audio_tokens': 0, 'reasoning_tokens': 0, 'rejected_prediction_tokens': 0}, 'prompt_tokens_details': {'audio_tokens': 0, 'cached_tokens': 0}}, 'model_name': 'gpt-4o-2024-08-06', 'system_fingerprint': 'fp_9d50cd990b', 'finish_reason': 'tool_calls', 'logprobs': None}, id='run-22662d5c-9d4a-4514-b8dc-8e09926f1971-0', tool_calls=[{'name': 'multiply', 'args': {'a': 2, 'b': 3}, 'id': 'call_5owgiehebjYVvMfO1WG0qXBE', 'type': 'tool_call'}], usage_metadata={'input_tokens': 131, 'output_tokens': 17, 'total_tokens': 148, 'input_token_details': {'audio': 0, 'cache_read': 0}, 'output_token_details': {'audio': 0, 'reasoning': 0}})]}),)),\n",
      " StateSnapshot(values={'messages': []}, next=('__start__',), config={'configurable': {'thread_id': '1', 'checkpoint_ns': '', 'checkpoint_id': '1efb6407-31d7-62ce-bfff-e44fb0337adb'}}, metadata={'source': 'input', 'writes': {'__start__': {'messages': HumanMessage(content='Multiply 2 and 3', additional_kwargs={}, response_metadata={})}}, 'thread_id': '1', 'step': -1, 'parents': {}}, created_at='2024-12-09T15:15:39.724655+00:00', parent_config=None, tasks=(PregelTask(id='b96e2b31-65c7-d740-f52b-063851ee1550', name='__start__', path=('__pregel_pull', '__start__'), error=None, interrupts=(), state=None, result={'messages': HumanMessage(content='Multiply 2 and 3', additional_kwargs={}, response_metadata={}, id='8f5c5e38-44ed-47d5-bf9f-f4d1c28d1aa8')}),))]\n"
     ]
    }
   ],
   "source": [
    "new_states_history = [s for s in graph.get_state_history(thread)]\n",
    "pprint(new_states_history)"
   ]
  },
  {
   "cell_type": "code",
   "execution_count": 105,
   "id": "9ecbbd13",
   "metadata": {},
   "outputs": [
    {
     "data": {
      "text/plain": [
       "StateSnapshot(values={}, next=(), config={'configurable': {'thread_id': 1}}, metadata=None, created_at=None, parent_config=None, tasks=())"
      ]
     },
     "execution_count": 105,
     "metadata": {},
     "output_type": "execute_result"
    }
   ],
   "source": [
    "graph.get_state({'configurable':{'thread_id':1}})"
   ]
  },
  {
   "cell_type": "code",
   "execution_count": 106,
   "id": "e45c9036",
   "metadata": {},
   "outputs": [
    {
     "name": "stdout",
     "output_type": "stream",
     "text": [
      "================================\u001b[1m Human Message \u001b[0m=================================\n",
      "\n",
      "Multiply by 5 and 3\n",
      "==================================\u001b[1m Ai Message \u001b[0m==================================\n",
      "\n",
      "To multiply a number by 5 and 3, we can perform the multiplication operations separately for each multiplier. Could you please provide the number you want to multiply by 5 and 3?\n"
     ]
    }
   ],
   "source": [
    "for event in graph.stream(None, fork_config, stream_mode='values'):\n",
    "    event['messages'][-1].pretty_print()"
   ]
  },
  {
   "cell_type": "markdown",
   "id": "68454727",
   "metadata": {},
   "source": [
    "## Asynchronous running"
   ]
  },
  {
   "cell_type": "code",
   "execution_count": 11,
   "id": "7c8bd440",
   "metadata": {},
   "outputs": [
    {
     "data": {
      "image/png": "[encoded data removed]",
      "text/plain": [
       "<IPython.core.display.Image object>"
      ]
     },
     "metadata": {},
     "output_type": "display_data"
    },
    {
     "name": "stdout",
     "output_type": "stream",
     "text": [
      "Output from node 'agent':\n",
      "---\n",
      "==================================\u001b[1m Ai Message \u001b[0m==================================\n",
      "\n",
      "5 plus 3 equals 8.\n",
      "\n",
      "---\n",
      "\n"
     ]
    }
   ],
   "source": [
    "from typing import Annotated\n",
    "from typing_extensions import TypedDict\n",
    "from langgraph.graph.message import add_messages\n",
    "from langgraph.prebuilt import ToolNode\n",
    "from langchain_core.tools import tool\n",
    "from langchain_core.messages import HumanMessage\n",
    "from langchain_openai import ChatOpenAI\n",
    "from typing import Literal\n",
    "from langgraph.graph import END, StateGraph, START\n",
    "\n",
    "\n",
    "llm = ChatOpenAI(model='gpt-4o-mini')\n",
    "\n",
    "class State(TypedDict):\n",
    "    messages: Annotated[list, add_messages]\n",
    "\n",
    "\n",
    "@tool\n",
    "def add(a:int, b:int)->int:\n",
    "    \"\"\"Add two integers\"\"\"\n",
    "    return a+b\n",
    "\n",
    "tools = [add]\n",
    "llm_with_tools = llm.bind_tools(tools=tools)\n",
    "\n",
    "\n",
    "\n",
    "# Define the function that determines whether to continue or not\n",
    "def should_continue(state: State) -> Literal[\"end\", \"continue\"]:\n",
    "    messages = state[\"messages\"]\n",
    "    last_message = messages[-1]\n",
    "    if not last_message.tool_calls:\n",
    "        return \"end\"\n",
    "    else:\n",
    "        return \"continue\"\n",
    "    \n",
    "\n",
    "async def call_model(state:State):\n",
    "    response = await llm.ainvoke(state['messages'])\n",
    "    return {'messages':response}\n",
    "\n",
    "#building graph\n",
    "workflow = StateGraph(State)\n",
    "workflow.add_node(\"agent\", call_model)\n",
    "workflow.add_node('action', ToolNode(tools=tools))\n",
    "workflow.add_edge(START, \"agent\")\n",
    "workflow.add_conditional_edges('agent', should_continue, {'continue':'action', 'end':END})\n",
    "workflow.add_edge('action', 'agent')\n",
    "app = workflow.compile()\n",
    "\n",
    "from IPython.display import Image, display\n",
    "display(Image(app.get_graph().draw_mermaid_png()))\n",
    "\n",
    "\n",
    "inputs = {'messages':HumanMessage(content='Add 5 and 3')}\n",
    "async for output in app.astream(inputs, stream_mode=\"updates\"):\n",
    "    for key, value in output.items():\n",
    "        print(f\"Output from node '{key}':\")\n",
    "        print(\"---\")\n",
    "        value['messages'].pretty_print()\n",
    "        # print(value[\"messages\"][-1].pretty_print())\n",
    "    print(\"\\n---\\n\")"
   ]
  },
  {
   "cell_type": "code",
   "execution_count": 12,
   "id": "7059f7be",
   "metadata": {},
   "outputs": [
    {
     "name": "stdout",
     "output_type": "stream",
     "text": [
      "Output from node 'agent':\n",
      "---\n",
      "==================================\u001b[1m Ai Message \u001b[0m==================================\n",
      "\n",
      "5 plus 4 equals 9.\n",
      "\n",
      "---\n",
      "\n",
      "Output from node 'agent':\n",
      "---\n",
      "==================================\u001b[1m Ai Message \u001b[0m==================================\n",
      "\n",
      "15 plus 4 equals 19.\n",
      "\n",
      "---\n",
      "\n",
      "Output from node 'agent':\n",
      "---\n",
      "==================================\u001b[1m Ai Message \u001b[0m==================================\n",
      "\n",
      "25 plus 4 equals 29.\n",
      "\n",
      "---\n",
      "\n",
      "Output from node 'agent':\n",
      "---\n",
      "==================================\u001b[1m Ai Message \u001b[0m==================================\n",
      "\n",
      "35 plus 4 equals 39.\n",
      "\n",
      "---\n",
      "\n",
      "Output from node 'agent':\n",
      "---\n",
      "==================================\u001b[1m Ai Message \u001b[0m==================================\n",
      "\n",
      "45 plus 4 equals 49.\n",
      "\n",
      "---\n",
      "\n"
     ]
    }
   ],
   "source": [
    "inputs = ['Add 5 and 4',\n",
    "          'Add 15 and 4',\n",
    "          'Add 25 and 4',\n",
    "          'Add 35 and 4',\n",
    "          'Add 45 and 4']\n",
    "\n",
    "for i in inputs:\n",
    "    async for output in app.astream({'messages':HumanMessage(content=i)}, stream_mode=\"updates\"):\n",
    "        # stream_mode=\"updates\" yields dictionaries with output keyed by node name\n",
    "        for key, value in output.items():\n",
    "            print(f\"Output from node '{key}':\")\n",
    "            print(\"---\")\n",
    "            value['messages'].pretty_print()\n",
    "            # print(value[\"messages\"][-1].pretty_print())\n",
    "        print(\"\\n---\\n\")"
   ]
  },
  {
   "cell_type": "markdown",
   "id": "d26a780d",
   "metadata": {},
   "source": [
    "## Sub Graphs"
   ]
  },
  {
   "cell_type": "code",
   "execution_count": 59,
   "id": "ec62707a",
   "metadata": {},
   "outputs": [],
   "source": [
    "from dotenv import load_dotenv\n",
    "import os\n",
    "\n",
    "load_dotenv()\n",
    "api_key = os.getenv('OPENAI_API_KEY')"
   ]
  },
  {
   "cell_type": "code",
   "execution_count": null,
   "id": "b3d84727",
   "metadata": {},
   "outputs": [],
   "source": [
    "from typing import List, Annotated, Optional\n",
    "from typing_extensions import TypedDict\n",
    "from langgraph.graph.message import add_messages\n",
    "\n",
    "class Log(TypedDict):\n",
    "    id : str\n",
    "    question : str\n",
    "    docs : Optional[str]\n",
    "    answer : str\n",
    "    grade : Optional[int]\n",
    "    grader : Optional[str]\n",
    "    feedback : Optional[str]\n",
    "\n"
   ]
  },
  {
   "cell_type": "markdown",
   "id": "e9fd6fc7",
   "metadata": {},
   "source": [
    "## MapReduce"
   ]
  },
  {
   "cell_type": "code",
   "execution_count": 87,
   "id": "c379aa9a",
   "metadata": {},
   "outputs": [],
   "source": [
    "from langchain_openai import ChatOpenAI\n",
    "\n",
    "subject_prompt = \"\"\"Generate a list of 3 sub-topics that are all related to this overall topic: {topic}.\"\"\"\n",
    "joke_prompt = \"\"\"Generate a joke about {subject}\"\"\"\n",
    "best_joke_prompt = \"\"\"Below are the bunch of jokes about {topic}. Select the best one! Return the ID of the best one, starting 0 as the ID of the first joke:\\n\\n {jokes}\"\"\"\n",
    "\n",
    "model = ChatOpenAI(model='gpt-4o-mini', temperature=0)"
   ]
  },
  {
   "cell_type": "code",
   "execution_count": 88,
   "id": "59498245",
   "metadata": {},
   "outputs": [],
   "source": [
    "import operator\n",
    "from typing import Annotated, List\n",
    "from typing_extensions import TypedDict\n",
    "from pydantic import BaseModel\n",
    "\n",
    "class Subject(BaseModel):\n",
    "    subjects : List[str]\n",
    "\n",
    "class BestJoke(BaseModel):\n",
    "    id : int\n",
    "\n",
    "class OverallState(TypedDict):\n",
    "    topic : str\n",
    "    subjects: List[str]\n",
    "    jokes : Annotated[List, operator.add]\n",
    "    best_selected_joke : str "
   ]
  },
  {
   "cell_type": "code",
   "execution_count": null,
   "id": "a6afaa53",
   "metadata": {},
   "outputs": [],
   "source": [
    "def generate_topics(state:OverallState):\n",
    "    prompt = subject_prompt.format(topic=state['topic'])\n",
    "    response = model.with_structured_output(Subject).invoke(prompt)\n",
    "    return {'subjects':response.subjects}\n",
    "\n",
    "\n",
    "from langgraph.constants import Send\n",
    "def continue_to_jokes(state:OverallState):\n",
    "    return [Send('generate_joke', {'Subject':s}) for s in state['subjects']]\n"
   ]
  },
  {
   "cell_type": "code",
   "execution_count": null,
   "id": "7421017b",
   "metadata": {},
   "outputs": [],
   "source": []
  },
  {
   "cell_type": "code",
   "execution_count": null,
   "id": "64076c99",
   "metadata": {},
   "outputs": [],
   "source": []
  },
  {
   "cell_type": "code",
   "execution_count": null,
   "metadata": {},
   "outputs": [],
   "source": []
  },
  {
   "cell_type": "markdown",
   "id": "eb5645a4",
   "metadata": {},
   "source": [
    "## Trustcall"
   ]
  },
  {
   "cell_type": "code",
   "execution_count": 60,
   "id": "3915e8b4",
   "metadata": {},
   "outputs": [
    {
     "name": "stdout",
     "output_type": "stream",
     "text": [
      "Requirement already satisfied: langchain in /Users/prem.kumar/.pyenv/versions/venv_langgraph/lib/python3.11/site-packages (0.3.9)\n",
      "Collecting langchain\n",
      "  Downloading langchain-0.3.14-py3-none-any.whl.metadata (7.1 kB)\n",
      "Requirement already satisfied: langchain-core in /Users/prem.kumar/.pyenv/versions/venv_langgraph/lib/python3.11/site-packages (0.3.21)\n",
      "Collecting langchain-core\n",
      "  Downloading langchain_core-0.3.29-py3-none-any.whl.metadata (6.3 kB)\n",
      "Requirement already satisfied: langchain-community in /Users/prem.kumar/.pyenv/versions/venv_langgraph/lib/python3.11/site-packages (0.3.8)\n",
      "Collecting langchain-community\n",
      "  Downloading langchain_community-0.3.14-py3-none-any.whl.metadata (2.9 kB)\n",
      "Requirement already satisfied: langsmith in /Users/prem.kumar/.pyenv/versions/venv_langgraph/lib/python3.11/site-packages (0.1.147)\n",
      "Collecting langsmith\n",
      "  Downloading langsmith-0.2.10-py3-none-any.whl.metadata (14 kB)\n",
      "Requirement already satisfied: langgraph in /Users/prem.kumar/.pyenv/versions/venv_langgraph/lib/python3.11/site-packages (0.2.53)\n",
      "Collecting langgraph\n",
      "  Downloading langgraph-0.2.61-py3-none-any.whl.metadata (15 kB)\n",
      "Requirement already satisfied: langchain-openai in /Users/prem.kumar/.pyenv/versions/venv_langgraph/lib/python3.11/site-packages (0.2.10)\n",
      "Collecting langchain-openai\n",
      "  Downloading langchain_openai-0.2.14-py3-none-any.whl.metadata (2.7 kB)\n",
      "Requirement already satisfied: langchain-groq in /Users/prem.kumar/.pyenv/versions/venv_langgraph/lib/python3.11/site-packages (0.2.1)\n",
      "Collecting langchain-groq\n",
      "  Downloading langchain_groq-0.2.3-py3-none-any.whl.metadata (3.0 kB)\n",
      "Collecting trustcall\n",
      "  Downloading trustcall-0.0.26-py3-none-any.whl.metadata (29 kB)\n",
      "Requirement already satisfied: transformers in /Users/prem.kumar/.pyenv/versions/venv_langgraph/lib/python3.11/site-packages (4.46.3)\n",
      "Collecting transformers\n",
      "  Downloading transformers-4.47.1-py3-none-any.whl.metadata (44 kB)\n",
      "Requirement already satisfied: sentence-transformers in /Users/prem.kumar/.pyenv/versions/venv_langgraph/lib/python3.11/site-packages (3.3.1)\n",
      "Requirement already satisfied: PyYAML>=5.3 in /Users/prem.kumar/.pyenv/versions/venv_langgraph/lib/python3.11/site-packages (from langchain) (6.0.2)\n",
      "Requirement already satisfied: SQLAlchemy<3,>=1.4 in /Users/prem.kumar/.pyenv/versions/venv_langgraph/lib/python3.11/site-packages (from langchain) (2.0.35)\n",
      "Requirement already satisfied: aiohttp<4.0.0,>=3.8.3 in /Users/prem.kumar/.pyenv/versions/venv_langgraph/lib/python3.11/site-packages (from langchain) (3.11.8)\n",
      "Collecting langchain-text-splitters<0.4.0,>=0.3.3 (from langchain)\n",
      "  Downloading langchain_text_splitters-0.3.5-py3-none-any.whl.metadata (2.3 kB)\n",
      "Requirement already satisfied: numpy<2,>=1.22.4 in /Users/prem.kumar/.pyenv/versions/venv_langgraph/lib/python3.11/site-packages (from langchain) (1.26.4)\n",
      "Requirement already satisfied: pydantic<3.0.0,>=2.7.4 in /Users/prem.kumar/.pyenv/versions/venv_langgraph/lib/python3.11/site-packages (from langchain) (2.9.2)\n",
      "Requirement already satisfied: requests<3,>=2 in /Users/prem.kumar/.pyenv/versions/venv_langgraph/lib/python3.11/site-packages (from langchain) (2.32.3)\n",
      "Requirement already satisfied: tenacity!=8.4.0,<10,>=8.1.0 in /Users/prem.kumar/.pyenv/versions/venv_langgraph/lib/python3.11/site-packages (from langchain) (8.5.0)\n",
      "Requirement already satisfied: jsonpatch<2.0,>=1.33 in /Users/prem.kumar/.pyenv/versions/venv_langgraph/lib/python3.11/site-packages (from langchain-core) (1.33)\n",
      "Requirement already satisfied: packaging<25,>=23.2 in /Users/prem.kumar/.pyenv/versions/venv_langgraph/lib/python3.11/site-packages (from langchain-core) (24.2)\n",
      "Requirement already satisfied: typing-extensions>=4.7 in /Users/prem.kumar/.pyenv/versions/venv_langgraph/lib/python3.11/site-packages (from langchain-core) (4.12.2)\n",
      "Requirement already satisfied: dataclasses-json<0.7,>=0.5.7 in /Users/prem.kumar/.pyenv/versions/venv_langgraph/lib/python3.11/site-packages (from langchain-community) (0.6.7)\n",
      "Requirement already satisfied: httpx-sse<0.5.0,>=0.4.0 in /Users/prem.kumar/.pyenv/versions/venv_langgraph/lib/python3.11/site-packages (from langchain-community) (0.4.0)\n",
      "Requirement already satisfied: pydantic-settings<3.0.0,>=2.4.0 in /Users/prem.kumar/.pyenv/versions/venv_langgraph/lib/python3.11/site-packages (from langchain-community) (2.6.1)\n",
      "Requirement already satisfied: httpx<1,>=0.23.0 in /Users/prem.kumar/.pyenv/versions/venv_langgraph/lib/python3.11/site-packages (from langsmith) (0.28.0)\n",
      "Requirement already satisfied: orjson<4.0.0,>=3.9.14 in /Users/prem.kumar/.pyenv/versions/venv_langgraph/lib/python3.11/site-packages (from langsmith) (3.10.12)\n",
      "Requirement already satisfied: requests-toolbelt<2.0.0,>=1.0.0 in /Users/prem.kumar/.pyenv/versions/venv_langgraph/lib/python3.11/site-packages (from langsmith) (1.0.0)\n",
      "Requirement already satisfied: langgraph-checkpoint<3.0.0,>=2.0.4 in /Users/prem.kumar/.pyenv/versions/venv_langgraph/lib/python3.11/site-packages (from langgraph) (2.0.7)\n",
      "Collecting langgraph-sdk<0.2.0,>=0.1.42 (from langgraph)\n",
      "  Downloading langgraph_sdk-0.1.51-py3-none-any.whl.metadata (1.8 kB)\n",
      "Collecting openai<2.0.0,>=1.58.1 (from langchain-openai)\n",
      "  Downloading openai-1.59.6-py3-none-any.whl.metadata (27 kB)\n",
      "Requirement already satisfied: tiktoken<1,>=0.7 in /Users/prem.kumar/.pyenv/versions/venv_langgraph/lib/python3.11/site-packages (from langchain-openai) (0.8.0)\n",
      "Requirement already satisfied: groq<1,>=0.4.1 in /Users/prem.kumar/.pyenv/versions/venv_langgraph/lib/python3.11/site-packages (from langchain-groq) (0.13.0)\n",
      "Collecting dydantic<0.0.8,>=0.0.7 (from trustcall)\n",
      "  Downloading dydantic-0.0.7-py3-none-any.whl.metadata (3.6 kB)\n",
      "Requirement already satisfied: filelock in /Users/prem.kumar/.pyenv/versions/venv_langgraph/lib/python3.11/site-packages (from transformers) (3.16.1)\n",
      "Requirement already satisfied: huggingface-hub<1.0,>=0.24.0 in /Users/prem.kumar/.pyenv/versions/venv_langgraph/lib/python3.11/site-packages (from transformers) (0.26.3)\n",
      "Requirement already satisfied: regex!=2019.12.17 in /Users/prem.kumar/.pyenv/versions/venv_langgraph/lib/python3.11/site-packages (from transformers) (2024.11.6)\n",
      "Collecting tokenizers<0.22,>=0.21 (from transformers)\n",
      "  Using cached tokenizers-0.21.0-cp39-abi3-macosx_11_0_arm64.whl.metadata (6.7 kB)\n",
      "Requirement already satisfied: safetensors>=0.4.1 in /Users/prem.kumar/.pyenv/versions/venv_langgraph/lib/python3.11/site-packages (from transformers) (0.4.5)\n",
      "Requirement already satisfied: tqdm>=4.27 in /Users/prem.kumar/.pyenv/versions/venv_langgraph/lib/python3.11/site-packages (from transformers) (4.67.1)\n",
      "Requirement already satisfied: torch>=1.11.0 in /Users/prem.kumar/.pyenv/versions/venv_langgraph/lib/python3.11/site-packages (from sentence-transformers) (2.5.1)\n",
      "Requirement already satisfied: scikit-learn in /Users/prem.kumar/.pyenv/versions/venv_langgraph/lib/python3.11/site-packages (from sentence-transformers) (1.5.2)\n",
      "Requirement already satisfied: scipy in /Users/prem.kumar/.pyenv/versions/venv_langgraph/lib/python3.11/site-packages (from sentence-transformers) (1.14.1)\n",
      "Requirement already satisfied: Pillow in /Users/prem.kumar/.pyenv/versions/venv_langgraph/lib/python3.11/site-packages (from sentence-transformers) (11.0.0)\n",
      "Requirement already satisfied: aiohappyeyeballs>=2.3.0 in /Users/prem.kumar/.pyenv/versions/venv_langgraph/lib/python3.11/site-packages (from aiohttp<4.0.0,>=3.8.3->langchain) (2.4.3)\n",
      "Requirement already satisfied: aiosignal>=1.1.2 in /Users/prem.kumar/.pyenv/versions/venv_langgraph/lib/python3.11/site-packages (from aiohttp<4.0.0,>=3.8.3->langchain) (1.3.1)\n",
      "Requirement already satisfied: attrs>=17.3.0 in /Users/prem.kumar/.pyenv/versions/venv_langgraph/lib/python3.11/site-packages (from aiohttp<4.0.0,>=3.8.3->langchain) (24.2.0)\n",
      "Requirement already satisfied: frozenlist>=1.1.1 in /Users/prem.kumar/.pyenv/versions/venv_langgraph/lib/python3.11/site-packages (from aiohttp<4.0.0,>=3.8.3->langchain) (1.5.0)\n",
      "Requirement already satisfied: multidict<7.0,>=4.5 in /Users/prem.kumar/.pyenv/versions/venv_langgraph/lib/python3.11/site-packages (from aiohttp<4.0.0,>=3.8.3->langchain) (6.1.0)\n",
      "Requirement already satisfied: propcache>=0.2.0 in /Users/prem.kumar/.pyenv/versions/venv_langgraph/lib/python3.11/site-packages (from aiohttp<4.0.0,>=3.8.3->langchain) (0.2.0)\n",
      "Requirement already satisfied: yarl<2.0,>=1.17.0 in /Users/prem.kumar/.pyenv/versions/venv_langgraph/lib/python3.11/site-packages (from aiohttp<4.0.0,>=3.8.3->langchain) (1.18.0)\n",
      "Requirement already satisfied: marshmallow<4.0.0,>=3.18.0 in /Users/prem.kumar/.pyenv/versions/venv_langgraph/lib/python3.11/site-packages (from dataclasses-json<0.7,>=0.5.7->langchain-community) (3.23.1)\n",
      "Requirement already satisfied: typing-inspect<1,>=0.4.0 in /Users/prem.kumar/.pyenv/versions/venv_langgraph/lib/python3.11/site-packages (from dataclasses-json<0.7,>=0.5.7->langchain-community) (0.9.0)\n",
      "Requirement already satisfied: anyio<5,>=3.5.0 in /Users/prem.kumar/.pyenv/versions/venv_langgraph/lib/python3.11/site-packages (from groq<1,>=0.4.1->langchain-groq) (4.6.2.post1)\n",
      "Requirement already satisfied: distro<2,>=1.7.0 in /Users/prem.kumar/.pyenv/versions/venv_langgraph/lib/python3.11/site-packages (from groq<1,>=0.4.1->langchain-groq) (1.9.0)\n",
      "Requirement already satisfied: sniffio in /Users/prem.kumar/.pyenv/versions/venv_langgraph/lib/python3.11/site-packages (from groq<1,>=0.4.1->langchain-groq) (1.3.1)\n",
      "Requirement already satisfied: certifi in /Users/prem.kumar/.pyenv/versions/venv_langgraph/lib/python3.11/site-packages (from httpx<1,>=0.23.0->langsmith) (2024.8.30)\n",
      "Requirement already satisfied: httpcore==1.* in /Users/prem.kumar/.pyenv/versions/venv_langgraph/lib/python3.11/site-packages (from httpx<1,>=0.23.0->langsmith) (1.0.7)\n",
      "Requirement already satisfied: idna in /Users/prem.kumar/.pyenv/versions/venv_langgraph/lib/python3.11/site-packages (from httpx<1,>=0.23.0->langsmith) (3.10)\n",
      "Requirement already satisfied: h11<0.15,>=0.13 in /Users/prem.kumar/.pyenv/versions/venv_langgraph/lib/python3.11/site-packages (from httpcore==1.*->httpx<1,>=0.23.0->langsmith) (0.14.0)\n",
      "Requirement already satisfied: fsspec>=2023.5.0 in /Users/prem.kumar/.pyenv/versions/venv_langgraph/lib/python3.11/site-packages (from huggingface-hub<1.0,>=0.24.0->transformers) (2024.10.0)\n",
      "Requirement already satisfied: jsonpointer>=1.9 in /Users/prem.kumar/.pyenv/versions/venv_langgraph/lib/python3.11/site-packages (from jsonpatch<2.0,>=1.33->langchain-core) (3.0.0)\n",
      "Requirement already satisfied: msgpack<2.0.0,>=1.1.0 in /Users/prem.kumar/.pyenv/versions/venv_langgraph/lib/python3.11/site-packages (from langgraph-checkpoint<3.0.0,>=2.0.4->langgraph) (1.1.0)\n",
      "Requirement already satisfied: jiter<1,>=0.4.0 in /Users/prem.kumar/.pyenv/versions/venv_langgraph/lib/python3.11/site-packages (from openai<2.0.0,>=1.58.1->langchain-openai) (0.8.0)\n",
      "Requirement already satisfied: annotated-types>=0.6.0 in /Users/prem.kumar/.pyenv/versions/venv_langgraph/lib/python3.11/site-packages (from pydantic<3.0.0,>=2.7.4->langchain) (0.7.0)\n",
      "Requirement already satisfied: pydantic-core==2.23.4 in /Users/prem.kumar/.pyenv/versions/venv_langgraph/lib/python3.11/site-packages (from pydantic<3.0.0,>=2.7.4->langchain) (2.23.4)\n",
      "Requirement already satisfied: python-dotenv>=0.21.0 in /Users/prem.kumar/.pyenv/versions/venv_langgraph/lib/python3.11/site-packages (from pydantic-settings<3.0.0,>=2.4.0->langchain-community) (1.0.1)\n",
      "Requirement already satisfied: charset-normalizer<4,>=2 in /Users/prem.kumar/.pyenv/versions/venv_langgraph/lib/python3.11/site-packages (from requests<3,>=2->langchain) (3.4.0)\n",
      "Requirement already satisfied: urllib3<3,>=1.21.1 in /Users/prem.kumar/.pyenv/versions/venv_langgraph/lib/python3.11/site-packages (from requests<3,>=2->langchain) (2.2.3)\n",
      "Requirement already satisfied: networkx in /Users/prem.kumar/.pyenv/versions/venv_langgraph/lib/python3.11/site-packages (from torch>=1.11.0->sentence-transformers) (3.4.2)\n",
      "Requirement already satisfied: jinja2 in /Users/prem.kumar/.pyenv/versions/venv_langgraph/lib/python3.11/site-packages (from torch>=1.11.0->sentence-transformers) (3.1.4)\n",
      "Requirement already satisfied: sympy==1.13.1 in /Users/prem.kumar/.pyenv/versions/venv_langgraph/lib/python3.11/site-packages (from torch>=1.11.0->sentence-transformers) (1.13.1)\n",
      "Requirement already satisfied: mpmath<1.4,>=1.1.0 in /Users/prem.kumar/.pyenv/versions/venv_langgraph/lib/python3.11/site-packages (from sympy==1.13.1->torch>=1.11.0->sentence-transformers) (1.3.0)\n",
      "Requirement already satisfied: joblib>=1.2.0 in /Users/prem.kumar/.pyenv/versions/venv_langgraph/lib/python3.11/site-packages (from scikit-learn->sentence-transformers) (1.4.2)\n",
      "Requirement already satisfied: threadpoolctl>=3.1.0 in /Users/prem.kumar/.pyenv/versions/venv_langgraph/lib/python3.11/site-packages (from scikit-learn->sentence-transformers) (3.5.0)\n",
      "Requirement already satisfied: mypy-extensions>=0.3.0 in /Users/prem.kumar/.pyenv/versions/venv_langgraph/lib/python3.11/site-packages (from typing-inspect<1,>=0.4.0->dataclasses-json<0.7,>=0.5.7->langchain-community) (1.0.0)\n",
      "Requirement already satisfied: MarkupSafe>=2.0 in /Users/prem.kumar/.pyenv/versions/venv_langgraph/lib/python3.11/site-packages (from jinja2->torch>=1.11.0->sentence-transformers) (3.0.2)\n",
      "Downloading langchain-0.3.14-py3-none-any.whl (1.0 MB)\n",
      "\u001b[2K   \u001b[90m━━━━━━━━━━━━━━━━━━━━━━━━━━━━━━━━━━━━━━━━\u001b[0m \u001b[32m1.0/1.0 MB\u001b[0m \u001b[31m4.0 MB/s\u001b[0m eta \u001b[36m0:00:00\u001b[0ma \u001b[36m0:00:01\u001b[0m\n",
      "\u001b[?25hDownloading langchain_core-0.3.29-py3-none-any.whl (411 kB)\n",
      "Downloading langchain_community-0.3.14-py3-none-any.whl (2.5 MB)\n",
      "\u001b[2K   \u001b[90m━━━━━━━━━━━━━━━━━━━━━━━━━━━━━━━━━━━━━━━━\u001b[0m \u001b[32m2.5/2.5 MB\u001b[0m \u001b[31m1.5 MB/s\u001b[0m eta \u001b[36m0:00:00\u001b[0ma \u001b[36m0:00:01\u001b[0m\n",
      "\u001b[?25hDownloading langsmith-0.2.10-py3-none-any.whl (326 kB)\n",
      "Downloading langgraph-0.2.61-py3-none-any.whl (137 kB)\n",
      "Downloading langchain_openai-0.2.14-py3-none-any.whl (50 kB)\n",
      "Downloading langchain_groq-0.2.3-py3-none-any.whl (14 kB)\n",
      "Downloading trustcall-0.0.26-py3-none-any.whl (24 kB)\n",
      "Downloading transformers-4.47.1-py3-none-any.whl (10.1 MB)\n",
      "\u001b[2K   \u001b[90m━━━━━━━━━━━━━━━━━━━━━━━━━━━━━━━━━━━━━━━━\u001b[0m \u001b[32m10.1/10.1 MB\u001b[0m \u001b[31m5.0 MB/s\u001b[0m eta \u001b[36m0:00:00\u001b[0m \u001b[36m0:00:01\u001b[0m\n",
      "\u001b[?25hDownloading dydantic-0.0.7-py3-none-any.whl (8.6 kB)\n",
      "Downloading langchain_text_splitters-0.3.5-py3-none-any.whl (31 kB)\n",
      "Downloading langgraph_sdk-0.1.51-py3-none-any.whl (44 kB)\n",
      "Downloading openai-1.59.6-py3-none-any.whl (454 kB)\n",
      "Using cached tokenizers-0.21.0-cp39-abi3-macosx_11_0_arm64.whl (2.6 MB)\n",
      "Installing collected packages: tokenizers, openai, langsmith, langgraph-sdk, dydantic, transformers, langchain-core, langchain-text-splitters, langchain-openai, langchain-groq, langgraph, langchain, trustcall, langchain-community\n",
      "  Attempting uninstall: tokenizers\n",
      "    Found existing installation: tokenizers 0.20.3\n",
      "    Uninstalling tokenizers-0.20.3:\n",
      "      Successfully uninstalled tokenizers-0.20.3\n",
      "  Attempting uninstall: openai\n",
      "    Found existing installation: openai 1.55.3\n",
      "    Uninstalling openai-1.55.3:\n",
      "      Successfully uninstalled openai-1.55.3\n",
      "  Attempting uninstall: langsmith\n",
      "    Found existing installation: langsmith 0.1.147\n",
      "    Uninstalling langsmith-0.1.147:\n",
      "      Successfully uninstalled langsmith-0.1.147\n",
      "  Attempting uninstall: langgraph-sdk\n",
      "    Found existing installation: langgraph-sdk 0.1.40\n",
      "    Uninstalling langgraph-sdk-0.1.40:\n",
      "      Successfully uninstalled langgraph-sdk-0.1.40\n",
      "  Attempting uninstall: transformers\n",
      "    Found existing installation: transformers 4.46.3\n",
      "    Uninstalling transformers-4.46.3:\n",
      "      Successfully uninstalled transformers-4.46.3\n",
      "  Attempting uninstall: langchain-core\n",
      "    Found existing installation: langchain-core 0.3.21\n",
      "    Uninstalling langchain-core-0.3.21:\n",
      "      Successfully uninstalled langchain-core-0.3.21\n",
      "  Attempting uninstall: langchain-text-splitters\n",
      "    Found existing installation: langchain-text-splitters 0.3.2\n",
      "    Uninstalling langchain-text-splitters-0.3.2:\n",
      "      Successfully uninstalled langchain-text-splitters-0.3.2\n",
      "  Attempting uninstall: langchain-openai\n",
      "    Found existing installation: langchain-openai 0.2.10\n",
      "    Uninstalling langchain-openai-0.2.10:\n",
      "      Successfully uninstalled langchain-openai-0.2.10\n",
      "  Attempting uninstall: langchain-groq\n",
      "    Found existing installation: langchain-groq 0.2.1\n",
      "    Uninstalling langchain-groq-0.2.1:\n",
      "      Successfully uninstalled langchain-groq-0.2.1\n",
      "  Attempting uninstall: langgraph\n",
      "    Found existing installation: langgraph 0.2.53\n",
      "    Uninstalling langgraph-0.2.53:\n",
      "      Successfully uninstalled langgraph-0.2.53\n",
      "  Attempting uninstall: langchain\n",
      "    Found existing installation: langchain 0.3.9\n",
      "    Uninstalling langchain-0.3.9:\n",
      "      Successfully uninstalled langchain-0.3.9\n",
      "  Attempting uninstall: langchain-community\n",
      "    Found existing installation: langchain-community 0.3.8\n",
      "    Uninstalling langchain-community-0.3.8:\n",
      "      Successfully uninstalled langchain-community-0.3.8\n",
      "Successfully installed dydantic-0.0.7 langchain-0.3.14 langchain-community-0.3.14 langchain-core-0.3.29 langchain-groq-0.2.3 langchain-openai-0.2.14 langchain-text-splitters-0.3.5 langgraph-0.2.61 langgraph-sdk-0.1.51 langsmith-0.2.10 openai-1.59.6 tokenizers-0.21.0 transformers-4.47.1 trustcall-0.0.26\n"
     ]
    }
   ],
   "source": [
    "!pip install -U langchain langchain-core langchain-community langsmith langgraph langchain-openai langchain-groq trustcall transformers sentence-transformers"
   ]
  },
  {
   "cell_type": "code",
   "execution_count": 75,
   "id": "f29dad01",
   "metadata": {},
   "outputs": [
    {
     "name": "stdout",
     "output_type": "stream",
     "text": [
      "[UserProfile(user_name='Kathan', interests=['driving around the city'])]\n"
     ]
    }
   ],
   "source": [
    "from langchain_openai import ChatOpenAI\n",
    "from trustcall import create_extractor\n",
    "from pydantic import BaseModel, Field\n",
    "from typing import List\n",
    "\n",
    "# Define your schema\n",
    "class UserProfile(BaseModel):\n",
    "    user_name: str = Field(description=\"The user's preferred name\")\n",
    "    interests: List[str] = Field(description=\"A list of the user's interests\")\n",
    "\n",
    "# Initialize the ChatGroq model\n",
    "llm = ChatOpenAI(model=\"gpt-4o-mini\")\n",
    "\n",
    "# Create an extractor using TrustCall\n",
    "trustcall_extractor = create_extractor(llm, tools=[UserProfile], tool_choice=\"UserProfile\")\n",
    "\n",
    "# Prepare conversation input\n",
    "conversation = [\n",
    "    {\"role\": \"user\", \"content\": \"Hi, I'm Kathan.\"},\n",
    "    {\"role\": \"assistant\", \"content\": \"Nice to meet you, Kathan.\"},\n",
    "    {\"role\": \"user\", \"content\": \"I really like driving around the city.\"}\n",
    "]\n",
    "\n",
    "# Invoke the extractor to get structured data\n",
    "system_msg = \"Extract the user profile from the following conversation\"\n",
    "result = trustcall_extractor.invoke({\n",
    "    \"messages\": [{\"role\": \"system\", \"content\": system_msg}] + conversation\n",
    "})\n",
    "\n",
    "# Print extracted responses\n",
    "print(result['responses'])\n"
   ]
  },
  {
   "cell_type": "code",
   "execution_count": 85,
   "id": "75c81a4d",
   "metadata": {},
   "outputs": [
    {
     "name": "stdout",
     "output_type": "stream",
     "text": [
      "[UserProfile(user_name='Kathan', interests=['driving around the city'])]\n"
     ]
    }
   ],
   "source": [
    "from trustcall import create_extractor\n",
    "from pydantic import BaseModel, Field\n",
    "from typing import List\n",
    "from langchain_groq import ChatGroq\n",
    "import os\n",
    "from dotenv import load_dotenv\n",
    "load_dotenv()\n",
    "\n",
    "\n",
    "# Define your schema\n",
    "class UserProfile(BaseModel):\n",
    "    \"\"\"\n",
    "    Creating user profile from the given content\n",
    "    \"\"\"\n",
    "    user_name: str = Field(description=\"The user's preferred name\")\n",
    "    interests: List[str] = Field(description=\"A list of the user's interests\")\n",
    "\n",
    "# Initialize the ChatGroq model\n",
    "groq_api_key = os.getenv('GROQ_API_KEY')\n",
    "llm = ChatGroq(groq_api_key=groq_api_key, verbose=True, model_name = 'llama3-8b-8192')\n",
    "\n",
    "# Create an extractor using TrustCall\n",
    "trustcall_extractor = create_extractor(llm, tools=[UserProfile], tool_choice=\"UserProfile\")\n",
    "\n",
    "# Prepare conversation input\n",
    "conversation = [\n",
    "    {\"role\": \"user\", \"content\": \"Hi, I'm Kathan.\"},\n",
    "    {\"role\": \"assistant\", \"content\": \"Nice to meet you, Kathan.\"},\n",
    "    {\"role\": \"user\", \"content\": \"I really like driving around the city.\"}\n",
    "]\n",
    "\n",
    "# Invoke the extractor to get structured data\n",
    "system_msg = \"Extract the user profile from the following conversation\"\n",
    "result = trustcall_extractor.invoke({\n",
    "    \"messages\": [{\"role\": \"system\", \"content\": system_msg}] + conversation\n",
    "})\n",
    "\n",
    "# Print extracted responses\n",
    "print(result['responses'])"
   ]
  },
  {
   "cell_type": "code",
   "execution_count": null,
   "id": "5f016979",
   "metadata": {},
   "outputs": [],
   "source": []
  }
 ],
 "metadata": {
  "kernelspec": {
   "display_name": "venv_langgraph",
   "language": "python",
   "name": "python3"
  },
  "language_info": {
   "codemirror_mode": {
    "name": "ipython",
    "version": 3
   },
   "file_extension": ".py",
   "mimetype": "text/x-python",
   "name": "python",
   "nbconvert_exporter": "python",
   "pygments_lexer": "ipython3",
   "version": "3.11.10"
  }
 },
 "nbformat": 4,
 "nbformat_minor": 5
}
